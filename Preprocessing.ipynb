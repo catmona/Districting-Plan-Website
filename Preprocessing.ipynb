{
 "cells": [
  {
   "cell_type": "code",
   "execution_count": 2,
   "id": "65924b22",
   "metadata": {},
   "outputs": [],
   "source": [
    "import pandas as pd\n",
    "import numpy as np"
   ]
  },
  {
   "cell_type": "code",
   "execution_count": 3,
   "id": "2f30a45c",
   "metadata": {},
   "outputs": [],
   "source": [
    "data = pd.read_csv('data/1976-2020-house.csv')"
   ]
  },
  {
   "cell_type": "code",
   "execution_count": 12,
   "id": "0bc6d2fc",
   "metadata": {
    "scrolled": true
   },
   "outputs": [
    {
     "name": "stderr",
     "output_type": "stream",
     "text": [
      "<ipython-input-12-c0497f0ef14b>:1: UserWarning: Boolean Series key will be reindexed to match DataFrame index.\n",
      "  data[data['state'] == 'ARKANSAS'][data['party'] =='REPUBLICAN'][data['year']==2020].groupby('district').sum()\n",
      "<ipython-input-12-c0497f0ef14b>:1: UserWarning: Boolean Series key will be reindexed to match DataFrame index.\n",
      "  data[data['state'] == 'ARKANSAS'][data['party'] =='REPUBLICAN'][data['year']==2020].groupby('district').sum()\n"
     ]
    },
    {
     "data": {
      "text/html": [
       "<div>\n",
       "<style scoped>\n",
       "    .dataframe tbody tr th:only-of-type {\n",
       "        vertical-align: middle;\n",
       "    }\n",
       "\n",
       "    .dataframe tbody tr th {\n",
       "        vertical-align: top;\n",
       "    }\n",
       "\n",
       "    .dataframe thead th {\n",
       "        text-align: right;\n",
       "    }\n",
       "</style>\n",
       "<table border=\"1\" class=\"dataframe\">\n",
       "  <thead>\n",
       "    <tr style=\"text-align: right;\">\n",
       "      <th></th>\n",
       "      <th>year</th>\n",
       "      <th>state_fips</th>\n",
       "      <th>state_cen</th>\n",
       "      <th>state_ic</th>\n",
       "      <th>special</th>\n",
       "      <th>writein</th>\n",
       "      <th>candidatevotes</th>\n",
       "      <th>totalvotes</th>\n",
       "      <th>unofficial</th>\n",
       "      <th>version</th>\n",
       "      <th>fusion_ticket</th>\n",
       "    </tr>\n",
       "    <tr>\n",
       "      <th>district</th>\n",
       "      <th></th>\n",
       "      <th></th>\n",
       "      <th></th>\n",
       "      <th></th>\n",
       "      <th></th>\n",
       "      <th></th>\n",
       "      <th></th>\n",
       "      <th></th>\n",
       "      <th></th>\n",
       "      <th></th>\n",
       "      <th></th>\n",
       "    </tr>\n",
       "  </thead>\n",
       "  <tbody>\n",
       "    <tr>\n",
       "      <th>1</th>\n",
       "      <td>2020</td>\n",
       "      <td>5</td>\n",
       "      <td>71</td>\n",
       "      <td>42</td>\n",
       "      <td>0</td>\n",
       "      <td>0</td>\n",
       "      <td>237596</td>\n",
       "      <td>237596</td>\n",
       "      <td>0</td>\n",
       "      <td>20210604</td>\n",
       "      <td>0</td>\n",
       "    </tr>\n",
       "    <tr>\n",
       "      <th>2</th>\n",
       "      <td>2020</td>\n",
       "      <td>5</td>\n",
       "      <td>71</td>\n",
       "      <td>42</td>\n",
       "      <td>0</td>\n",
       "      <td>0</td>\n",
       "      <td>184093</td>\n",
       "      <td>332503</td>\n",
       "      <td>0</td>\n",
       "      <td>20210604</td>\n",
       "      <td>0</td>\n",
       "    </tr>\n",
       "    <tr>\n",
       "      <th>3</th>\n",
       "      <td>2020</td>\n",
       "      <td>5</td>\n",
       "      <td>71</td>\n",
       "      <td>42</td>\n",
       "      <td>0</td>\n",
       "      <td>0</td>\n",
       "      <td>214960</td>\n",
       "      <td>334262</td>\n",
       "      <td>0</td>\n",
       "      <td>20210604</td>\n",
       "      <td>0</td>\n",
       "    </tr>\n",
       "    <tr>\n",
       "      <th>4</th>\n",
       "      <td>2020</td>\n",
       "      <td>5</td>\n",
       "      <td>71</td>\n",
       "      <td>42</td>\n",
       "      <td>0</td>\n",
       "      <td>0</td>\n",
       "      <td>191617</td>\n",
       "      <td>275035</td>\n",
       "      <td>0</td>\n",
       "      <td>20210604</td>\n",
       "      <td>0</td>\n",
       "    </tr>\n",
       "  </tbody>\n",
       "</table>\n",
       "</div>"
      ],
      "text/plain": [
       "          year  state_fips  state_cen  state_ic  special  writein  \\\n",
       "district                                                            \n",
       "1         2020           5         71        42        0        0   \n",
       "2         2020           5         71        42        0        0   \n",
       "3         2020           5         71        42        0        0   \n",
       "4         2020           5         71        42        0        0   \n",
       "\n",
       "          candidatevotes  totalvotes  unofficial   version  fusion_ticket  \n",
       "district                                                                   \n",
       "1                 237596      237596           0  20210604              0  \n",
       "2                 184093      332503           0  20210604              0  \n",
       "3                 214960      334262           0  20210604              0  \n",
       "4                 191617      275035           0  20210604              0  "
      ]
     },
     "execution_count": 12,
     "metadata": {},
     "output_type": "execute_result"
    }
   ],
   "source": [
    "data[data['state'] == 'ARKANSAS'][data['party'] =='REPUBLICAN'][data['year']==2020].groupby('district').sum()\n"
   ]
  },
  {
   "cell_type": "code",
   "execution_count": 14,
   "id": "e565f03e",
   "metadata": {},
   "outputs": [
    {
     "data": {
      "text/plain": [
       "'{\"arkansas\": [{\"id\": 1, \"population\": 719048, \"democrat\": 106325, \"republican\": 237596, \"africanamerican\": 126465, \"white\": 556680, \"asianamerican\": 3775, \"hispanic\": 24421}, {\"id\": 2, \"population\": 767662, \"democrat\": 148410, \"republican\": 184093, \"africanamerican\": 178792, \"white\": 543432, \"asianamerican\": 11921, \"hispanic\": 41445}, {\"id\": 3, \"population\": 829149, \"democrat\": 106325, \"republican\": 214960, \"africanamerican\": 25683, \"white\": 695183, \"asianamerican\": 25356, \"hispanic\": 123805}, {\"id\": 4, \"population\": 701945, \"democrat\": 75750, \"republican\": 191617, \"africanamerican\": 136528, \"white\": 519725, \"asianamerican\": 5026, \"hispanic\": 42280}]}'"
      ]
     },
     "execution_count": 14,
     "metadata": {},
     "output_type": "execute_result"
    }
   ],
   "source": [
    "import json\n",
    "district_data ={'arkansas':[  { 'id': 1, 'population': 719048, 'democrat': 106325, 'republican': 237596, 'africanamerican':126465, 'white':556680,'asianamerican':3775,'hispanic':24421 },\n",
    "  { 'id': 2, 'population': 767662, 'democrat': 148410, 'republican': 184093 , 'africanamerican':178792, 'white':543432,'asianamerican':11921,'hispanic':41445 },\n",
    "  { 'id': 3, 'population': 829149, 'democrat': 106325, 'republican': 214960 , 'africanamerican':25683, 'white':695183,'asianamerican':25356,'hispanic':123805 },\n",
    "  { 'id': 4, 'population': 701945, 'democrat': 75750, 'republican': 191617 , 'africanamerican':136528, 'white':519725,'asianamerican':5026,'hispanic':42280 },\n",
    "  ]}\n",
    "\n",
    "district_data = json.dumps(district_data)\n",
    "district_data"
   ]
  },
  {
   "cell_type": "code",
   "execution_count": 8,
   "id": "b8bd9002",
   "metadata": {},
   "outputs": [
    {
     "data": {
      "text/plain": [
       "'{\"nevada\": [{\"id\": 1, \"population\": 723705, \"democrat\": 137868, \"republican\": 74490, \"africanamerican\": 88601, \"white\": 347382, \"asianamerican\": 60582, \"hispanic\": 343864}, {\"id\": 2, \"population\": 766064, \"democrat\": 155780, \"republican\": 216078, \"africanamerican\": 16972, \"white\": 582218, \"asianamerican\": 32304, \"hispanic\": 183123}, {\"id\": 3, \"population\": 853240, \"democrat\": 203421, \"republican\": 190975, \"africanamerican\": 72744, \"white\": 523798, \"asianamerican\": 126960, \"hispanic\": 166285}, {\"id\": 4, \"population\": 786739, \"democrat\": 168457, \"republican\": 152284, \"africanamerican\": 131912, \"white\": 435644, \"asianamerican\": 47066, \"hispanic\": 238360}]}'"
      ]
     },
     "execution_count": 8,
     "metadata": {},
     "output_type": "execute_result"
    }
   ],
   "source": [
    "import json\n",
    "district_data ={'nevada':[  { 'id': 1, 'population': 723705, 'democrat': 137868, 'republican': 74490, 'africanamerican':88601, 'white':347382,'asianamerican':60582,'hispanic':343864 },\n",
    "  { 'id': 2, 'population': 766064, 'democrat': 155780, 'republican': 216078 , 'africanamerican':16972, 'white':582218,'asianamerican':32304,'hispanic':183123 },\n",
    "  { 'id': 3, 'population': 853240, 'democrat': 203421, 'republican': 190975 , 'africanamerican':72744, 'white':523798,'asianamerican':126960,'hispanic':166285 },\n",
    "  { 'id': 4, 'population': 786739, 'democrat': 168457, 'republican': 152284 , 'africanamerican':131912, 'white':435644,'asianamerican':47066,'hispanic':238360 },\n",
    "  ]}\n",
    "\n",
    "district_data = json.dumps(district_data)\n",
    "district_data"
   ]
  },
  {
   "cell_type": "code",
   "execution_count": null,
   "id": "38590901",
   "metadata": {},
   "outputs": [],
   "source": [
    "import json\n",
    "district_data ={'arkansas':[  { 'id': 1, 'population': 719048, 'democrat': 137868, 'republican': 74490, 'africanamerican':126465, 'white':556680,'asianamerican':3775,'hispanic':24421 },\n",
    "  { 'id': 2, 'population': 767662, 'democrat': 155780, 'republican': 216078 , 'africanamerican':178792, 'white':543,432,'asianamerican':11921,'hispanic':41445 },\n",
    "  { 'id': 3, 'population': 829149, 'democrat': 203421, 'republican': 190975 , 'africanamerican':25683, 'white':695183,'asianamerican':25356,'hispanic':123805 },\n",
    "  { 'id': 4, 'population': 701945, 'democrat': 168457, 'republican': 152284 , 'africanamerican':136528, 'white':519725,'asianamerican':5026,'hispanic':42280 },\n",
    "  ]}\n",
    "\n",
    "district_data = json.dumps(district_data)\n",
    "district_data"
   ]
  },
  {
   "cell_type": "code",
   "execution_count": 32,
   "id": "2dc68855",
   "metadata": {},
   "outputs": [
    {
     "data": {
      "text/plain": [
       "51430"
      ]
     },
     "execution_count": 32,
     "metadata": {},
     "output_type": "execute_result"
    }
   ],
   "source": [
    "340407 - 288977\n"
   ]
  },
  {
   "cell_type": "code",
   "execution_count": 35,
   "id": "69c6fca4",
   "metadata": {},
   "outputs": [],
   "source": [
    "demographics = pd.read_csv('data/Washington_District_all.csv')"
   ]
  },
  {
   "cell_type": "code",
   "execution_count": 36,
   "id": "bf6dd147",
   "metadata": {},
   "outputs": [
    {
     "data": {
      "text/html": [
       "<div>\n",
       "<style scoped>\n",
       "    .dataframe tbody tr th:only-of-type {\n",
       "        vertical-align: middle;\n",
       "    }\n",
       "\n",
       "    .dataframe tbody tr th {\n",
       "        vertical-align: top;\n",
       "    }\n",
       "\n",
       "    .dataframe thead th {\n",
       "        text-align: right;\n",
       "    }\n",
       "</style>\n",
       "<table border=\"1\" class=\"dataframe\">\n",
       "  <thead>\n",
       "    <tr style=\"text-align: right;\">\n",
       "      <th></th>\n",
       "      <th>cdTopic</th>\n",
       "      <th>Subject</th>\n",
       "      <th>Title</th>\n",
       "      <th>District 01 Estimate</th>\n",
       "      <th>District 01 MOE</th>\n",
       "      <th>District 02 Estimate</th>\n",
       "      <th>District 02 MOE</th>\n",
       "      <th>District 03 Estimate</th>\n",
       "      <th>District 03 MOE</th>\n",
       "      <th>District 04 Estimate</th>\n",
       "      <th>...</th>\n",
       "      <th>District 06 Estimate</th>\n",
       "      <th>District 06 MOE</th>\n",
       "      <th>District 07 Estimate</th>\n",
       "      <th>District 07 MOE</th>\n",
       "      <th>District 08 Estimate</th>\n",
       "      <th>District 08 MOE</th>\n",
       "      <th>District 09 Estimate</th>\n",
       "      <th>District 09 MOE</th>\n",
       "      <th>District 10 Estimate</th>\n",
       "      <th>District 10 MOE</th>\n",
       "    </tr>\n",
       "  </thead>\n",
       "  <tbody>\n",
       "    <tr>\n",
       "      <th>0</th>\n",
       "      <td>People</td>\n",
       "      <td>Sex and Age</td>\n",
       "      <td>Total population</td>\n",
       "      <td>791545</td>\n",
       "      <td>(+/- 13144 )</td>\n",
       "      <td>760064</td>\n",
       "      <td>(+/- 9980 )</td>\n",
       "      <td>756675</td>\n",
       "      <td>(+/- 3595 )</td>\n",
       "      <td>735797</td>\n",
       "      <td>...</td>\n",
       "      <td>726540</td>\n",
       "      <td>(+/- 8191 )</td>\n",
       "      <td>817787</td>\n",
       "      <td>(+/- 10376 )</td>\n",
       "      <td>770177</td>\n",
       "      <td>(+/- 14232 )</td>\n",
       "      <td>751595</td>\n",
       "      <td>(+/- 11482 )</td>\n",
       "      <td>770391</td>\n",
       "      <td>(+/- 11373 )</td>\n",
       "    </tr>\n",
       "    <tr>\n",
       "      <th>1</th>\n",
       "      <td>People</td>\n",
       "      <td>Sex and Age</td>\n",
       "      <td>Male</td>\n",
       "      <td>401063</td>\n",
       "      <td>(+/- 7966 )</td>\n",
       "      <td>374046</td>\n",
       "      <td>(+/- 5689 )</td>\n",
       "      <td>376646</td>\n",
       "      <td>(+/- 2398 )</td>\n",
       "      <td>369593</td>\n",
       "      <td>...</td>\n",
       "      <td>361675</td>\n",
       "      <td>(+/- 5353 )</td>\n",
       "      <td>413691</td>\n",
       "      <td>(+/- 8628 )</td>\n",
       "      <td>381819</td>\n",
       "      <td>(+/- 8395 )</td>\n",
       "      <td>378170</td>\n",
       "      <td>(+/- 7235 )</td>\n",
       "      <td>385121</td>\n",
       "      <td>(+/- 7533 )</td>\n",
       "    </tr>\n",
       "    <tr>\n",
       "      <th>2</th>\n",
       "      <td>People</td>\n",
       "      <td>Sex and Age</td>\n",
       "      <td>Female</td>\n",
       "      <td>390482</td>\n",
       "      <td>(+/- 9093 )</td>\n",
       "      <td>386018</td>\n",
       "      <td>(+/- 6827 )</td>\n",
       "      <td>380029</td>\n",
       "      <td>(+/- 2687 )</td>\n",
       "      <td>366204</td>\n",
       "      <td>...</td>\n",
       "      <td>364865</td>\n",
       "      <td>(+/- 5382 )</td>\n",
       "      <td>404096</td>\n",
       "      <td>(+/- 7413 )</td>\n",
       "      <td>388358</td>\n",
       "      <td>(+/- 8976 )</td>\n",
       "      <td>373425</td>\n",
       "      <td>(+/- 8006 )</td>\n",
       "      <td>385270</td>\n",
       "      <td>(+/- 6451 )</td>\n",
       "    </tr>\n",
       "    <tr>\n",
       "      <th>3</th>\n",
       "      <td>People</td>\n",
       "      <td>Sex and Age</td>\n",
       "      <td>Under 5 years</td>\n",
       "      <td>50099</td>\n",
       "      <td>(+/- 3134 )</td>\n",
       "      <td>43244</td>\n",
       "      <td>(+/- 2446 )</td>\n",
       "      <td>44316</td>\n",
       "      <td>(+/- 1070 )</td>\n",
       "      <td>55043</td>\n",
       "      <td>...</td>\n",
       "      <td>37632</td>\n",
       "      <td>(+/- 2024 )</td>\n",
       "      <td>37553</td>\n",
       "      <td>(+/- 3033 )</td>\n",
       "      <td>50497</td>\n",
       "      <td>(+/- 3680 )</td>\n",
       "      <td>46065</td>\n",
       "      <td>(+/- 3544 )</td>\n",
       "      <td>48912</td>\n",
       "      <td>(+/- 2750 )</td>\n",
       "    </tr>\n",
       "    <tr>\n",
       "      <th>4</th>\n",
       "      <td>People</td>\n",
       "      <td>Sex and Age</td>\n",
       "      <td>5 to 9 years</td>\n",
       "      <td>50817</td>\n",
       "      <td>(+/- 3648 )</td>\n",
       "      <td>42537</td>\n",
       "      <td>(+/- 3543 )</td>\n",
       "      <td>46601</td>\n",
       "      <td>(+/- 2399 )</td>\n",
       "      <td>59738</td>\n",
       "      <td>...</td>\n",
       "      <td>39182</td>\n",
       "      <td>(+/- 2983 )</td>\n",
       "      <td>36191</td>\n",
       "      <td>(+/- 3089 )</td>\n",
       "      <td>50506</td>\n",
       "      <td>(+/- 4114 )</td>\n",
       "      <td>40681</td>\n",
       "      <td>(+/- 3012 )</td>\n",
       "      <td>51700</td>\n",
       "      <td>(+/- 4294 )</td>\n",
       "    </tr>\n",
       "    <tr>\n",
       "      <th>...</th>\n",
       "      <td>...</td>\n",
       "      <td>...</td>\n",
       "      <td>...</td>\n",
       "      <td>...</td>\n",
       "      <td>...</td>\n",
       "      <td>...</td>\n",
       "      <td>...</td>\n",
       "      <td>...</td>\n",
       "      <td>...</td>\n",
       "      <td>...</td>\n",
       "      <td>...</td>\n",
       "      <td>...</td>\n",
       "      <td>...</td>\n",
       "      <td>...</td>\n",
       "      <td>...</td>\n",
       "      <td>...</td>\n",
       "      <td>...</td>\n",
       "      <td>...</td>\n",
       "      <td>...</td>\n",
       "      <td>...</td>\n",
       "      <td>...</td>\n",
       "    </tr>\n",
       "    <tr>\n",
       "      <th>323</th>\n",
       "      <td>H Cell value changed by at least 2 percent but...</td>\n",
       "      <td>NaN</td>\n",
       "      <td>NaN</td>\n",
       "      <td>NaN</td>\n",
       "      <td>NaN</td>\n",
       "      <td>NaN</td>\n",
       "      <td>NaN</td>\n",
       "      <td>NaN</td>\n",
       "      <td>NaN</td>\n",
       "      <td>NaN</td>\n",
       "      <td>...</td>\n",
       "      <td>NaN</td>\n",
       "      <td>NaN</td>\n",
       "      <td>NaN</td>\n",
       "      <td>NaN</td>\n",
       "      <td>NaN</td>\n",
       "      <td>NaN</td>\n",
       "      <td>NaN</td>\n",
       "      <td>NaN</td>\n",
       "      <td>NaN</td>\n",
       "      <td>NaN</td>\n",
       "    </tr>\n",
       "    <tr>\n",
       "      <th>324</th>\n",
       "      <td>J Cell value changed by 5 percent or more by t...</td>\n",
       "      <td>NaN</td>\n",
       "      <td>NaN</td>\n",
       "      <td>NaN</td>\n",
       "      <td>NaN</td>\n",
       "      <td>NaN</td>\n",
       "      <td>NaN</td>\n",
       "      <td>NaN</td>\n",
       "      <td>NaN</td>\n",
       "      <td>NaN</td>\n",
       "      <td>...</td>\n",
       "      <td>NaN</td>\n",
       "      <td>NaN</td>\n",
       "      <td>NaN</td>\n",
       "      <td>NaN</td>\n",
       "      <td>NaN</td>\n",
       "      <td>NaN</td>\n",
       "      <td>NaN</td>\n",
       "      <td>NaN</td>\n",
       "      <td>NaN</td>\n",
       "      <td>NaN</td>\n",
       "    </tr>\n",
       "    <tr>\n",
       "      <th>325</th>\n",
       "      <td>N Not available or not comparable</td>\n",
       "      <td>NaN</td>\n",
       "      <td>NaN</td>\n",
       "      <td>NaN</td>\n",
       "      <td>NaN</td>\n",
       "      <td>NaN</td>\n",
       "      <td>NaN</td>\n",
       "      <td>NaN</td>\n",
       "      <td>NaN</td>\n",
       "      <td>NaN</td>\n",
       "      <td>...</td>\n",
       "      <td>NaN</td>\n",
       "      <td>NaN</td>\n",
       "      <td>NaN</td>\n",
       "      <td>NaN</td>\n",
       "      <td>NaN</td>\n",
       "      <td>NaN</td>\n",
       "      <td>NaN</td>\n",
       "      <td>NaN</td>\n",
       "      <td>NaN</td>\n",
       "      <td>NaN</td>\n",
       "    </tr>\n",
       "    <tr>\n",
       "      <th>326</th>\n",
       "      <td>S Cell value withheld because it did not meet ...</td>\n",
       "      <td>NaN</td>\n",
       "      <td>NaN</td>\n",
       "      <td>NaN</td>\n",
       "      <td>NaN</td>\n",
       "      <td>NaN</td>\n",
       "      <td>NaN</td>\n",
       "      <td>NaN</td>\n",
       "      <td>NaN</td>\n",
       "      <td>NaN</td>\n",
       "      <td>...</td>\n",
       "      <td>NaN</td>\n",
       "      <td>NaN</td>\n",
       "      <td>NaN</td>\n",
       "      <td>NaN</td>\n",
       "      <td>NaN</td>\n",
       "      <td>NaN</td>\n",
       "      <td>NaN</td>\n",
       "      <td>NaN</td>\n",
       "      <td>NaN</td>\n",
       "      <td>NaN</td>\n",
       "    </tr>\n",
       "    <tr>\n",
       "      <th>327</th>\n",
       "      <td>X Not applicable</td>\n",
       "      <td>NaN</td>\n",
       "      <td>NaN</td>\n",
       "      <td>NaN</td>\n",
       "      <td>NaN</td>\n",
       "      <td>NaN</td>\n",
       "      <td>NaN</td>\n",
       "      <td>NaN</td>\n",
       "      <td>NaN</td>\n",
       "      <td>NaN</td>\n",
       "      <td>...</td>\n",
       "      <td>NaN</td>\n",
       "      <td>NaN</td>\n",
       "      <td>NaN</td>\n",
       "      <td>NaN</td>\n",
       "      <td>NaN</td>\n",
       "      <td>NaN</td>\n",
       "      <td>NaN</td>\n",
       "      <td>NaN</td>\n",
       "      <td>NaN</td>\n",
       "      <td>NaN</td>\n",
       "    </tr>\n",
       "  </tbody>\n",
       "</table>\n",
       "<p>328 rows × 23 columns</p>\n",
       "</div>"
      ],
      "text/plain": [
       "                                               cdTopic      Subject  \\\n",
       "0                                               People  Sex and Age   \n",
       "1                                               People  Sex and Age   \n",
       "2                                               People  Sex and Age   \n",
       "3                                               People  Sex and Age   \n",
       "4                                               People  Sex and Age   \n",
       "..                                                 ...          ...   \n",
       "323  H Cell value changed by at least 2 percent but...          NaN   \n",
       "324  J Cell value changed by 5 percent or more by t...          NaN   \n",
       "325                  N Not available or not comparable          NaN   \n",
       "326  S Cell value withheld because it did not meet ...          NaN   \n",
       "327                                   X Not applicable          NaN   \n",
       "\n",
       "                Title District 01 Estimate District 01 MOE  \\\n",
       "0    Total population               791545    (+/- 13144 )   \n",
       "1                Male               401063     (+/- 7966 )   \n",
       "2              Female               390482     (+/- 9093 )   \n",
       "3       Under 5 years                50099     (+/- 3134 )   \n",
       "4        5 to 9 years                50817     (+/- 3648 )   \n",
       "..                ...                  ...             ...   \n",
       "323               NaN                  NaN             NaN   \n",
       "324               NaN                  NaN             NaN   \n",
       "325               NaN                  NaN             NaN   \n",
       "326               NaN                  NaN             NaN   \n",
       "327               NaN                  NaN             NaN   \n",
       "\n",
       "    District 02 Estimate District 02 MOE District 03 Estimate District 03 MOE  \\\n",
       "0                 760064     (+/- 9980 )               756675     (+/- 3595 )   \n",
       "1                 374046     (+/- 5689 )               376646     (+/- 2398 )   \n",
       "2                 386018     (+/- 6827 )               380029     (+/- 2687 )   \n",
       "3                  43244     (+/- 2446 )                44316     (+/- 1070 )   \n",
       "4                  42537     (+/- 3543 )                46601     (+/- 2399 )   \n",
       "..                   ...             ...                  ...             ...   \n",
       "323                  NaN             NaN                  NaN             NaN   \n",
       "324                  NaN             NaN                  NaN             NaN   \n",
       "325                  NaN             NaN                  NaN             NaN   \n",
       "326                  NaN             NaN                  NaN             NaN   \n",
       "327                  NaN             NaN                  NaN             NaN   \n",
       "\n",
       "    District 04 Estimate  ... District 06 Estimate District 06 MOE  \\\n",
       "0                 735797  ...               726540     (+/- 8191 )   \n",
       "1                 369593  ...               361675     (+/- 5353 )   \n",
       "2                 366204  ...               364865     (+/- 5382 )   \n",
       "3                  55043  ...                37632     (+/- 2024 )   \n",
       "4                  59738  ...                39182     (+/- 2983 )   \n",
       "..                   ...  ...                  ...             ...   \n",
       "323                  NaN  ...                  NaN             NaN   \n",
       "324                  NaN  ...                  NaN             NaN   \n",
       "325                  NaN  ...                  NaN             NaN   \n",
       "326                  NaN  ...                  NaN             NaN   \n",
       "327                  NaN  ...                  NaN             NaN   \n",
       "\n",
       "    District 07 Estimate District 07 MOE District 08 Estimate District 08 MOE  \\\n",
       "0                 817787    (+/- 10376 )               770177    (+/- 14232 )   \n",
       "1                 413691     (+/- 8628 )               381819     (+/- 8395 )   \n",
       "2                 404096     (+/- 7413 )               388358     (+/- 8976 )   \n",
       "3                  37553     (+/- 3033 )                50497     (+/- 3680 )   \n",
       "4                  36191     (+/- 3089 )                50506     (+/- 4114 )   \n",
       "..                   ...             ...                  ...             ...   \n",
       "323                  NaN             NaN                  NaN             NaN   \n",
       "324                  NaN             NaN                  NaN             NaN   \n",
       "325                  NaN             NaN                  NaN             NaN   \n",
       "326                  NaN             NaN                  NaN             NaN   \n",
       "327                  NaN             NaN                  NaN             NaN   \n",
       "\n",
       "    District 09 Estimate District 09 MOE District 10 Estimate District 10 MOE  \n",
       "0                 751595    (+/- 11482 )               770391    (+/- 11373 )  \n",
       "1                 378170     (+/- 7235 )               385121     (+/- 7533 )  \n",
       "2                 373425     (+/- 8006 )               385270     (+/- 6451 )  \n",
       "3                  46065     (+/- 3544 )                48912     (+/- 2750 )  \n",
       "4                  40681     (+/- 3012 )                51700     (+/- 4294 )  \n",
       "..                   ...             ...                  ...             ...  \n",
       "323                  NaN             NaN                  NaN             NaN  \n",
       "324                  NaN             NaN                  NaN             NaN  \n",
       "325                  NaN             NaN                  NaN             NaN  \n",
       "326                  NaN             NaN                  NaN             NaN  \n",
       "327                  NaN             NaN                  NaN             NaN  \n",
       "\n",
       "[328 rows x 23 columns]"
      ]
     },
     "execution_count": 36,
     "metadata": {},
     "output_type": "execute_result"
    }
   ],
   "source": [
    "demographics"
   ]
  },
  {
   "cell_type": "code",
   "execution_count": null,
   "id": "e6b6138c",
   "metadata": {},
   "outputs": [],
   "source": [
    "const rows = [\n",
    "  { id: 1, population: 791545, democrat: 249944, republican: 176407, africanamerican:12178, white:594230,asianamerican:102923,hispanic:76815 },\n",
    "  { id: 2, population: 760064, democrat: 255252, republican: 148384 , africanamerican:25095, white:578055,asianamerican:72330,hispanic:84560 },\n",
    "  { id: 3, population: 756675, democrat: 181347, republican: 235579 , africanamerican:12360, white:650254,asianamerican:24586,hispanic:77109 },\n",
    "  { id: 4, population: 735797, democrat: 102667, republican: 202108 , africanamerican:10104, white:553564,asianamerican:10032,hispanic:291924 },\n",
    "  { id: 5, population: 734322, democrat: 155737, republican: 247815 , africanamerican:12783, white:641200,asianamerican:18104,hispanic:50208 },\n",
    "  { id: 6, population: 726540, democrat: 247429, republican: 168783, africanamerican:29054, white:587323,asianamerican:27394 ,hispanic:58095 },\n",
    "  { id: 7, population: 817787, democrat: 387109, republican: 78240, africanamerican:41038, white:569986,asianamerican:119852,hispanic:66032  },\n",
    "  { id: 8, population: 770177, democrat: 213123, republican: 198423, africanamerican:41038, white:557905,asianamerican:73610,hispanic:92771  },\n",
    "  { id: 9, population: 751595, democrat: 258771, republican: 89697, africanamerican:41038, white:369451,asianamerican:179828,hispanic:97137  },\n",
    "  { id: 10, population: 770391, democrat: 288977, republican: 51430, africanamerican:49594, white:549123,asianamerican:56308 ,hispanic:97072},\n",
    "];"
   ]
  },
  {
   "cell_type": "code",
   "execution_count": 107,
   "id": "7c87b6cd",
   "metadata": {},
   "outputs": [
    {
     "data": {
      "text/plain": [
       "'{\"districts\": [{\"district\": 1, \"population\": 791545, \"democrat\": 249944, \"republican\": 176407, \"africanamerican\": 12178, \"white\": 594230, \"asianamerican\": 102923, \"hispanic\": 76815}, {\"district\": 2, \"population\": 760064, \"democrat\": 255252, \"republican\": 148384, \"africanamerican\": 25095, \"white\": 578055, \"asianamerican\": 72330, \"hispanic\": 84560}, {\"district\": 3, \"population\": 756675, \"democrat\": 181347, \"republican\": 235579, \"africanamerican\": 12360, \"white\": 650254, \"asianamerican\": 24586, \"hispanic\": 77109}, {\"district\": 4, \"population\": 735797, \"democrat\": 102667, \"republican\": 202108, \"africanamerican\": 10104, \"white\": 553564, \"asianamerican\": 10032, \"hispanic\": 291924}, {\"district\": 5, \"population\": 734322, \"democrat\": 155737, \"republican\": 247815, \"africanamerican\": 12783, \"white\": 641200, \"asianamerican\": 18104, \"hispanic\": 50208}, {\"district\": 6, \"population\": 726540, \"democrat\": 247429, \"republican\": 168783, \"africanamerican\": 29054, \"white\": 587323, \"asianamerican\": 27394, \"hispanic\": 58095}, {\"district\": 7, \"population\": 817787, \"democrat\": 387109, \"republican\": 78240, \"africanamerican\": 41038, \"white\": 569986, \"asianamerican\": 119852, \"hispanic\": 66032}, {\"district\": 8, \"population\": 770177, \"democrat\": 213123, \"republican\": 198423, \"africanamerican\": 41038, \"white\": 557905, \"asianamerican\": 73610, \"hispanic\": 92771}, {\"district\": 9, \"population\": 751595, \"democrat\": 258771, \"republican\": 89697, \"africanamerican\": 41038, \"white\": 369451, \"asianamerican\": 179828, \"hispanic\": 97137}, {\"district\": 10, \"population\": 770391, \"democrat\": 288977, \"republican\": 51430, \"africanamerican\": 49594, \"white\": 549123, \"asianamerican\": 56308, \"hispanic\": 97072}]}'"
      ]
     },
     "execution_count": 107,
     "metadata": {},
     "output_type": "execute_result"
    }
   ],
   "source": [
    "import json\n",
    "district_data ={'districts':[{ 'district': 1, 'population': 791545, 'democrat': 249944, 'republican': 176407, 'africanamerican':12178, 'white':594230,'asianamerican':102923,'hispanic':76815 },\n",
    "  {'district': 2, 'population': 760064, 'democrat': 255252, 'republican': 148384 , 'africanamerican':25095, 'white':578055,'asianamerican':72330,'hispanic':84560 },\n",
    "  { 'district': 3, 'population': 756675, 'democrat': 181347, 'republican': 235579 , 'africanamerican':12360, 'white':650254,'asianamerican':24586,'hispanic':77109 },\n",
    "  { 'district': 4, 'population': 735797, 'democrat': 102667, 'republican': 202108 , 'africanamerican':10104, 'white':553564,'asianamerican':10032,'hispanic':291924 },\n",
    "  { 'district': 5, 'population': 734322, 'democrat': 155737, 'republican': 247815 , 'africanamerican':12783, 'white':641200,'asianamerican':18104,'hispanic':50208 },\n",
    "  { 'district': 6, 'population': 726540, 'democrat': 247429, 'republican': 168783, 'africanamerican':29054, 'white':587323,'asianamerican':27394 ,'hispanic':58095 },\n",
    "  { 'district': 7, 'population': 817787, 'democrat': 387109, 'republican': 78240, 'africanamerican':41038, 'white':569986,'asianamerican':119852,'hispanic':66032  },\n",
    "  { 'district': 8, 'population': 770177, 'democrat': 213123, 'republican': 198423, 'africanamerican':41038, 'white':557905,'asianamerican':73610,'hispanic':92771  },\n",
    "  { 'district': 9, 'population': 751595, 'democrat': 258771, 'republican': 89697, 'africanamerican':41038, 'white':369451,'asianamerican':179828,'hispanic':97137  },\n",
    "  { 'district': 10, 'population': 770391, 'democrat': 288977, 'republican': 51430, 'africanamerican':49594, 'white':549123,'asianamerican':56308 ,'hispanic':97072}]}\n",
    "\n",
    "district_data = json.dumps(district_data)\n",
    "district_data"
   ]
  },
  {
   "cell_type": "code",
   "execution_count": 1,
   "id": "eb432772",
   "metadata": {},
   "outputs": [],
   "source": [
    "state = 'WASHINGTON'\n",
    "district_data = {}\n",
    "num_districts = 10\n"
   ]
  },
  {
   "cell_type": "code",
   "execution_count": 90,
   "id": "d63674bc",
   "metadata": {},
   "outputs": [
    {
     "name": "stderr",
     "output_type": "stream",
     "text": [
      "<ipython-input-90-caef2f818e0e>:2: UserWarning: Boolean Series key will be reindexed to match DataFrame index.\n",
      "  data = data[data['year']==2020][data['state'] == state].drop(columns = ['year', 'state','state_po', 'state_cen', 'state_ic','office','stage','state_fips','runoff','special','candidate','writein','mode','unofficial','version','fusion_ticket','totalvotes'])\n"
     ]
    },
    {
     "ename": "KeyError",
     "evalue": "10",
     "output_type": "error",
     "traceback": [
      "\u001b[0;31m---------------------------------------------------------------------------\u001b[0m",
      "\u001b[0;31mKeyError\u001b[0m                                  Traceback (most recent call last)",
      "\u001b[0;32m~/opt/anaconda3/lib/python3.8/site-packages/pandas/core/indexes/base.py\u001b[0m in \u001b[0;36mget_loc\u001b[0;34m(self, key, method, tolerance)\u001b[0m\n\u001b[1;32m   3079\u001b[0m             \u001b[0;32mtry\u001b[0m\u001b[0;34m:\u001b[0m\u001b[0;34m\u001b[0m\u001b[0;34m\u001b[0m\u001b[0m\n\u001b[0;32m-> 3080\u001b[0;31m                 \u001b[0;32mreturn\u001b[0m \u001b[0mself\u001b[0m\u001b[0;34m.\u001b[0m\u001b[0m_engine\u001b[0m\u001b[0;34m.\u001b[0m\u001b[0mget_loc\u001b[0m\u001b[0;34m(\u001b[0m\u001b[0mcasted_key\u001b[0m\u001b[0;34m)\u001b[0m\u001b[0;34m\u001b[0m\u001b[0;34m\u001b[0m\u001b[0m\n\u001b[0m\u001b[1;32m   3081\u001b[0m             \u001b[0;32mexcept\u001b[0m \u001b[0mKeyError\u001b[0m \u001b[0;32mas\u001b[0m \u001b[0merr\u001b[0m\u001b[0;34m:\u001b[0m\u001b[0;34m\u001b[0m\u001b[0;34m\u001b[0m\u001b[0m\n",
      "\u001b[0;32mpandas/_libs/index.pyx\u001b[0m in \u001b[0;36mpandas._libs.index.IndexEngine.get_loc\u001b[0;34m()\u001b[0m\n",
      "\u001b[0;32mpandas/_libs/index.pyx\u001b[0m in \u001b[0;36mpandas._libs.index.IndexEngine.get_loc\u001b[0;34m()\u001b[0m\n",
      "\u001b[0;32mpandas/_libs/hashtable_class_helper.pxi\u001b[0m in \u001b[0;36mpandas._libs.hashtable.Int64HashTable.get_item\u001b[0;34m()\u001b[0m\n",
      "\u001b[0;32mpandas/_libs/hashtable_class_helper.pxi\u001b[0m in \u001b[0;36mpandas._libs.hashtable.Int64HashTable.get_item\u001b[0;34m()\u001b[0m\n",
      "\u001b[0;31mKeyError\u001b[0m: 10",
      "\nThe above exception was the direct cause of the following exception:\n",
      "\u001b[0;31mKeyError\u001b[0m                                  Traceback (most recent call last)",
      "\u001b[0;32m<ipython-input-90-caef2f818e0e>\u001b[0m in \u001b[0;36m<module>\u001b[0;34m\u001b[0m\n\u001b[1;32m      6\u001b[0m \u001b[0mrep_votes\u001b[0m \u001b[0;34m=\u001b[0m \u001b[0mdata\u001b[0m\u001b[0;34m[\u001b[0m\u001b[0mdata\u001b[0m\u001b[0;34m[\u001b[0m\u001b[0;34m'party'\u001b[0m\u001b[0;34m]\u001b[0m \u001b[0;34m==\u001b[0m\u001b[0;34m'REPUBLICAN'\u001b[0m\u001b[0;34m]\u001b[0m\u001b[0;34m.\u001b[0m\u001b[0mgroupby\u001b[0m\u001b[0;34m(\u001b[0m\u001b[0;34m'district'\u001b[0m\u001b[0;34m)\u001b[0m\u001b[0;34m.\u001b[0m\u001b[0msum\u001b[0m\u001b[0;34m(\u001b[0m\u001b[0;34m)\u001b[0m\u001b[0;34m\u001b[0m\u001b[0;34m\u001b[0m\u001b[0m\n\u001b[1;32m      7\u001b[0m \u001b[0;32mfor\u001b[0m \u001b[0mdistrict\u001b[0m \u001b[0;32min\u001b[0m \u001b[0mdistricts\u001b[0m\u001b[0;34m:\u001b[0m\u001b[0;34m\u001b[0m\u001b[0;34m\u001b[0m\u001b[0m\n\u001b[0;32m----> 8\u001b[0;31m     \u001b[0mdistrict_data\u001b[0m\u001b[0;34m[\u001b[0m\u001b[0mdistrict\u001b[0m\u001b[0;34m]\u001b[0m \u001b[0;34m=\u001b[0m \u001b[0;34m{\u001b[0m\u001b[0;34m'democrat'\u001b[0m\u001b[0;34m:\u001b[0m \u001b[0mdem_votes\u001b[0m\u001b[0;34m[\u001b[0m\u001b[0;34m'candidatevotes'\u001b[0m\u001b[0;34m]\u001b[0m\u001b[0;34m.\u001b[0m\u001b[0mloc\u001b[0m\u001b[0;34m[\u001b[0m\u001b[0mdistrict\u001b[0m\u001b[0;34m]\u001b[0m\u001b[0;34m,\u001b[0m \u001b[0;34m'republican'\u001b[0m\u001b[0;34m:\u001b[0m \u001b[0mrep_votes\u001b[0m\u001b[0;34m[\u001b[0m\u001b[0;34m'candidatevotes'\u001b[0m\u001b[0;34m]\u001b[0m\u001b[0;34m.\u001b[0m\u001b[0mloc\u001b[0m\u001b[0;34m[\u001b[0m\u001b[0mdistrict\u001b[0m\u001b[0;34m]\u001b[0m\u001b[0;34m}\u001b[0m\u001b[0;34m\u001b[0m\u001b[0;34m\u001b[0m\u001b[0m\n\u001b[0m\u001b[1;32m      9\u001b[0m \u001b[0mdistrict_data\u001b[0m\u001b[0;34m\u001b[0m\u001b[0;34m\u001b[0m\u001b[0m\n",
      "\u001b[0;32m~/opt/anaconda3/lib/python3.8/site-packages/pandas/core/indexing.py\u001b[0m in \u001b[0;36m__getitem__\u001b[0;34m(self, key)\u001b[0m\n\u001b[1;32m    893\u001b[0m \u001b[0;34m\u001b[0m\u001b[0m\n\u001b[1;32m    894\u001b[0m             \u001b[0mmaybe_callable\u001b[0m \u001b[0;34m=\u001b[0m \u001b[0mcom\u001b[0m\u001b[0;34m.\u001b[0m\u001b[0mapply_if_callable\u001b[0m\u001b[0;34m(\u001b[0m\u001b[0mkey\u001b[0m\u001b[0;34m,\u001b[0m \u001b[0mself\u001b[0m\u001b[0;34m.\u001b[0m\u001b[0mobj\u001b[0m\u001b[0;34m)\u001b[0m\u001b[0;34m\u001b[0m\u001b[0;34m\u001b[0m\u001b[0m\n\u001b[0;32m--> 895\u001b[0;31m             \u001b[0;32mreturn\u001b[0m \u001b[0mself\u001b[0m\u001b[0;34m.\u001b[0m\u001b[0m_getitem_axis\u001b[0m\u001b[0;34m(\u001b[0m\u001b[0mmaybe_callable\u001b[0m\u001b[0;34m,\u001b[0m \u001b[0maxis\u001b[0m\u001b[0;34m=\u001b[0m\u001b[0maxis\u001b[0m\u001b[0;34m)\u001b[0m\u001b[0;34m\u001b[0m\u001b[0;34m\u001b[0m\u001b[0m\n\u001b[0m\u001b[1;32m    896\u001b[0m \u001b[0;34m\u001b[0m\u001b[0m\n\u001b[1;32m    897\u001b[0m     \u001b[0;32mdef\u001b[0m \u001b[0m_is_scalar_access\u001b[0m\u001b[0;34m(\u001b[0m\u001b[0mself\u001b[0m\u001b[0;34m,\u001b[0m \u001b[0mkey\u001b[0m\u001b[0;34m:\u001b[0m \u001b[0mTuple\u001b[0m\u001b[0;34m)\u001b[0m\u001b[0;34m:\u001b[0m\u001b[0;34m\u001b[0m\u001b[0;34m\u001b[0m\u001b[0m\n",
      "\u001b[0;32m~/opt/anaconda3/lib/python3.8/site-packages/pandas/core/indexing.py\u001b[0m in \u001b[0;36m_getitem_axis\u001b[0;34m(self, key, axis)\u001b[0m\n\u001b[1;32m   1122\u001b[0m         \u001b[0;31m# fall thru to straight lookup\u001b[0m\u001b[0;34m\u001b[0m\u001b[0;34m\u001b[0m\u001b[0;34m\u001b[0m\u001b[0m\n\u001b[1;32m   1123\u001b[0m         \u001b[0mself\u001b[0m\u001b[0;34m.\u001b[0m\u001b[0m_validate_key\u001b[0m\u001b[0;34m(\u001b[0m\u001b[0mkey\u001b[0m\u001b[0;34m,\u001b[0m \u001b[0maxis\u001b[0m\u001b[0;34m)\u001b[0m\u001b[0;34m\u001b[0m\u001b[0;34m\u001b[0m\u001b[0m\n\u001b[0;32m-> 1124\u001b[0;31m         \u001b[0;32mreturn\u001b[0m \u001b[0mself\u001b[0m\u001b[0;34m.\u001b[0m\u001b[0m_get_label\u001b[0m\u001b[0;34m(\u001b[0m\u001b[0mkey\u001b[0m\u001b[0;34m,\u001b[0m \u001b[0maxis\u001b[0m\u001b[0;34m=\u001b[0m\u001b[0maxis\u001b[0m\u001b[0;34m)\u001b[0m\u001b[0;34m\u001b[0m\u001b[0;34m\u001b[0m\u001b[0m\n\u001b[0m\u001b[1;32m   1125\u001b[0m \u001b[0;34m\u001b[0m\u001b[0m\n\u001b[1;32m   1126\u001b[0m     \u001b[0;32mdef\u001b[0m \u001b[0m_get_slice_axis\u001b[0m\u001b[0;34m(\u001b[0m\u001b[0mself\u001b[0m\u001b[0;34m,\u001b[0m \u001b[0mslice_obj\u001b[0m\u001b[0;34m:\u001b[0m \u001b[0mslice\u001b[0m\u001b[0;34m,\u001b[0m \u001b[0maxis\u001b[0m\u001b[0;34m:\u001b[0m \u001b[0mint\u001b[0m\u001b[0;34m)\u001b[0m\u001b[0;34m:\u001b[0m\u001b[0;34m\u001b[0m\u001b[0;34m\u001b[0m\u001b[0m\n",
      "\u001b[0;32m~/opt/anaconda3/lib/python3.8/site-packages/pandas/core/indexing.py\u001b[0m in \u001b[0;36m_get_label\u001b[0;34m(self, label, axis)\u001b[0m\n\u001b[1;32m   1071\u001b[0m     \u001b[0;32mdef\u001b[0m \u001b[0m_get_label\u001b[0m\u001b[0;34m(\u001b[0m\u001b[0mself\u001b[0m\u001b[0;34m,\u001b[0m \u001b[0mlabel\u001b[0m\u001b[0;34m,\u001b[0m \u001b[0maxis\u001b[0m\u001b[0;34m:\u001b[0m \u001b[0mint\u001b[0m\u001b[0;34m)\u001b[0m\u001b[0;34m:\u001b[0m\u001b[0;34m\u001b[0m\u001b[0;34m\u001b[0m\u001b[0m\n\u001b[1;32m   1072\u001b[0m         \u001b[0;31m# GH#5667 this will fail if the label is not present in the axis.\u001b[0m\u001b[0;34m\u001b[0m\u001b[0;34m\u001b[0m\u001b[0;34m\u001b[0m\u001b[0m\n\u001b[0;32m-> 1073\u001b[0;31m         \u001b[0;32mreturn\u001b[0m \u001b[0mself\u001b[0m\u001b[0;34m.\u001b[0m\u001b[0mobj\u001b[0m\u001b[0;34m.\u001b[0m\u001b[0mxs\u001b[0m\u001b[0;34m(\u001b[0m\u001b[0mlabel\u001b[0m\u001b[0;34m,\u001b[0m \u001b[0maxis\u001b[0m\u001b[0;34m=\u001b[0m\u001b[0maxis\u001b[0m\u001b[0;34m)\u001b[0m\u001b[0;34m\u001b[0m\u001b[0;34m\u001b[0m\u001b[0m\n\u001b[0m\u001b[1;32m   1074\u001b[0m \u001b[0;34m\u001b[0m\u001b[0m\n\u001b[1;32m   1075\u001b[0m     \u001b[0;32mdef\u001b[0m \u001b[0m_handle_lowerdim_multi_index_axis0\u001b[0m\u001b[0;34m(\u001b[0m\u001b[0mself\u001b[0m\u001b[0;34m,\u001b[0m \u001b[0mtup\u001b[0m\u001b[0;34m:\u001b[0m \u001b[0mTuple\u001b[0m\u001b[0;34m)\u001b[0m\u001b[0;34m:\u001b[0m\u001b[0;34m\u001b[0m\u001b[0;34m\u001b[0m\u001b[0m\n",
      "\u001b[0;32m~/opt/anaconda3/lib/python3.8/site-packages/pandas/core/generic.py\u001b[0m in \u001b[0;36mxs\u001b[0;34m(self, key, axis, level, drop_level)\u001b[0m\n\u001b[1;32m   3737\u001b[0m                 \u001b[0;32mraise\u001b[0m \u001b[0mTypeError\u001b[0m\u001b[0;34m(\u001b[0m\u001b[0;34mf\"Expected label or tuple of labels, got {key}\"\u001b[0m\u001b[0;34m)\u001b[0m \u001b[0;32mfrom\u001b[0m \u001b[0me\u001b[0m\u001b[0;34m\u001b[0m\u001b[0;34m\u001b[0m\u001b[0m\n\u001b[1;32m   3738\u001b[0m         \u001b[0;32melse\u001b[0m\u001b[0;34m:\u001b[0m\u001b[0;34m\u001b[0m\u001b[0;34m\u001b[0m\u001b[0m\n\u001b[0;32m-> 3739\u001b[0;31m             \u001b[0mloc\u001b[0m \u001b[0;34m=\u001b[0m \u001b[0mindex\u001b[0m\u001b[0;34m.\u001b[0m\u001b[0mget_loc\u001b[0m\u001b[0;34m(\u001b[0m\u001b[0mkey\u001b[0m\u001b[0;34m)\u001b[0m\u001b[0;34m\u001b[0m\u001b[0;34m\u001b[0m\u001b[0m\n\u001b[0m\u001b[1;32m   3740\u001b[0m \u001b[0;34m\u001b[0m\u001b[0m\n\u001b[1;32m   3741\u001b[0m             \u001b[0;32mif\u001b[0m \u001b[0misinstance\u001b[0m\u001b[0;34m(\u001b[0m\u001b[0mloc\u001b[0m\u001b[0;34m,\u001b[0m \u001b[0mnp\u001b[0m\u001b[0;34m.\u001b[0m\u001b[0mndarray\u001b[0m\u001b[0;34m)\u001b[0m\u001b[0;34m:\u001b[0m\u001b[0;34m\u001b[0m\u001b[0;34m\u001b[0m\u001b[0m\n",
      "\u001b[0;32m~/opt/anaconda3/lib/python3.8/site-packages/pandas/core/indexes/base.py\u001b[0m in \u001b[0;36mget_loc\u001b[0;34m(self, key, method, tolerance)\u001b[0m\n\u001b[1;32m   3080\u001b[0m                 \u001b[0;32mreturn\u001b[0m \u001b[0mself\u001b[0m\u001b[0;34m.\u001b[0m\u001b[0m_engine\u001b[0m\u001b[0;34m.\u001b[0m\u001b[0mget_loc\u001b[0m\u001b[0;34m(\u001b[0m\u001b[0mcasted_key\u001b[0m\u001b[0;34m)\u001b[0m\u001b[0;34m\u001b[0m\u001b[0;34m\u001b[0m\u001b[0m\n\u001b[1;32m   3081\u001b[0m             \u001b[0;32mexcept\u001b[0m \u001b[0mKeyError\u001b[0m \u001b[0;32mas\u001b[0m \u001b[0merr\u001b[0m\u001b[0;34m:\u001b[0m\u001b[0;34m\u001b[0m\u001b[0;34m\u001b[0m\u001b[0m\n\u001b[0;32m-> 3082\u001b[0;31m                 \u001b[0;32mraise\u001b[0m \u001b[0mKeyError\u001b[0m\u001b[0;34m(\u001b[0m\u001b[0mkey\u001b[0m\u001b[0;34m)\u001b[0m \u001b[0;32mfrom\u001b[0m \u001b[0merr\u001b[0m\u001b[0;34m\u001b[0m\u001b[0;34m\u001b[0m\u001b[0m\n\u001b[0m\u001b[1;32m   3083\u001b[0m \u001b[0;34m\u001b[0m\u001b[0m\n\u001b[1;32m   3084\u001b[0m         \u001b[0;32mif\u001b[0m \u001b[0mtolerance\u001b[0m \u001b[0;32mis\u001b[0m \u001b[0;32mnot\u001b[0m \u001b[0;32mNone\u001b[0m\u001b[0;34m:\u001b[0m\u001b[0;34m\u001b[0m\u001b[0;34m\u001b[0m\u001b[0m\n",
      "\u001b[0;31mKeyError\u001b[0m: 10"
     ]
    }
   ],
   "source": [
    "data = pd.read_csv('data/1976-2020-house.csv')\n",
    "data = data[data['year']==2020][data['state'] == state].drop(columns = ['year', 'state','state_po', 'state_cen', 'state_ic','office','stage','state_fips','runoff','special','candidate','writein','mode','unofficial','version','fusion_ticket','totalvotes'])\n",
    "#data[data['party'] =='DEMOCRAT'].groupby('district').sum()\n",
    "districts = sorted(data['district'].unique())\n",
    "dem_votes = data[data['party'] =='DEMOCRAT'].groupby('district').sum()\n",
    "rep_votes = data[data['party'] =='REPUBLICAN'].groupby('district').sum()\n",
    "for district in districts:\n",
    "    district_data[district] = {'democrat': dem_votes['candidatevotes'].loc[district], 'republican': rep_votes['candidatevotes'].loc[district]}\n",
    "district_data"
   ]
  },
  {
   "cell_type": "code",
   "execution_count": 22,
   "id": "8312fc0f",
   "metadata": {},
   "outputs": [
    {
     "data": {
      "text/html": [
       "<div>\n",
       "<style scoped>\n",
       "    .dataframe tbody tr th:only-of-type {\n",
       "        vertical-align: middle;\n",
       "    }\n",
       "\n",
       "    .dataframe tbody tr th {\n",
       "        vertical-align: top;\n",
       "    }\n",
       "\n",
       "    .dataframe thead th {\n",
       "        text-align: right;\n",
       "    }\n",
       "</style>\n",
       "<table border=\"1\" class=\"dataframe\">\n",
       "  <thead>\n",
       "    <tr style=\"text-align: right;\">\n",
       "      <th></th>\n",
       "      <th>year</th>\n",
       "      <th>state</th>\n",
       "      <th>state_po</th>\n",
       "      <th>state_fips</th>\n",
       "      <th>state_cen</th>\n",
       "      <th>state_ic</th>\n",
       "      <th>office</th>\n",
       "      <th>district</th>\n",
       "      <th>stage</th>\n",
       "      <th>runoff</th>\n",
       "      <th>special</th>\n",
       "      <th>candidate</th>\n",
       "      <th>party</th>\n",
       "      <th>writein</th>\n",
       "      <th>mode</th>\n",
       "      <th>candidatevotes</th>\n",
       "      <th>totalvotes</th>\n",
       "      <th>unofficial</th>\n",
       "      <th>version</th>\n",
       "      <th>fusion_ticket</th>\n",
       "    </tr>\n",
       "  </thead>\n",
       "  <tbody>\n",
       "    <tr>\n",
       "      <th>0</th>\n",
       "      <td>1976</td>\n",
       "      <td>ALABAMA</td>\n",
       "      <td>AL</td>\n",
       "      <td>1</td>\n",
       "      <td>63</td>\n",
       "      <td>41</td>\n",
       "      <td>US HOUSE</td>\n",
       "      <td>1</td>\n",
       "      <td>gen</td>\n",
       "      <td>False</td>\n",
       "      <td>False</td>\n",
       "      <td>BILL DAVENPORT</td>\n",
       "      <td>DEMOCRAT</td>\n",
       "      <td>False</td>\n",
       "      <td>TOTAL</td>\n",
       "      <td>58906</td>\n",
       "      <td>157170</td>\n",
       "      <td>False</td>\n",
       "      <td>20210604</td>\n",
       "      <td>False</td>\n",
       "    </tr>\n",
       "    <tr>\n",
       "      <th>1</th>\n",
       "      <td>1976</td>\n",
       "      <td>ALABAMA</td>\n",
       "      <td>AL</td>\n",
       "      <td>1</td>\n",
       "      <td>63</td>\n",
       "      <td>41</td>\n",
       "      <td>US HOUSE</td>\n",
       "      <td>1</td>\n",
       "      <td>gen</td>\n",
       "      <td>False</td>\n",
       "      <td>False</td>\n",
       "      <td>JACK EDWARDS</td>\n",
       "      <td>REPUBLICAN</td>\n",
       "      <td>False</td>\n",
       "      <td>TOTAL</td>\n",
       "      <td>98257</td>\n",
       "      <td>157170</td>\n",
       "      <td>False</td>\n",
       "      <td>20210604</td>\n",
       "      <td>False</td>\n",
       "    </tr>\n",
       "    <tr>\n",
       "      <th>2</th>\n",
       "      <td>1976</td>\n",
       "      <td>ALABAMA</td>\n",
       "      <td>AL</td>\n",
       "      <td>1</td>\n",
       "      <td>63</td>\n",
       "      <td>41</td>\n",
       "      <td>US HOUSE</td>\n",
       "      <td>1</td>\n",
       "      <td>gen</td>\n",
       "      <td>False</td>\n",
       "      <td>False</td>\n",
       "      <td>NaN</td>\n",
       "      <td>NaN</td>\n",
       "      <td>True</td>\n",
       "      <td>TOTAL</td>\n",
       "      <td>7</td>\n",
       "      <td>157170</td>\n",
       "      <td>False</td>\n",
       "      <td>20210604</td>\n",
       "      <td>False</td>\n",
       "    </tr>\n",
       "    <tr>\n",
       "      <th>3</th>\n",
       "      <td>1976</td>\n",
       "      <td>ALABAMA</td>\n",
       "      <td>AL</td>\n",
       "      <td>1</td>\n",
       "      <td>63</td>\n",
       "      <td>41</td>\n",
       "      <td>US HOUSE</td>\n",
       "      <td>2</td>\n",
       "      <td>gen</td>\n",
       "      <td>False</td>\n",
       "      <td>False</td>\n",
       "      <td>J. CAROLE KEAHEY</td>\n",
       "      <td>DEMOCRAT</td>\n",
       "      <td>False</td>\n",
       "      <td>TOTAL</td>\n",
       "      <td>66288</td>\n",
       "      <td>156362</td>\n",
       "      <td>False</td>\n",
       "      <td>20210604</td>\n",
       "      <td>False</td>\n",
       "    </tr>\n",
       "    <tr>\n",
       "      <th>4</th>\n",
       "      <td>1976</td>\n",
       "      <td>ALABAMA</td>\n",
       "      <td>AL</td>\n",
       "      <td>1</td>\n",
       "      <td>63</td>\n",
       "      <td>41</td>\n",
       "      <td>US HOUSE</td>\n",
       "      <td>2</td>\n",
       "      <td>gen</td>\n",
       "      <td>False</td>\n",
       "      <td>False</td>\n",
       "      <td>NaN</td>\n",
       "      <td>NaN</td>\n",
       "      <td>True</td>\n",
       "      <td>TOTAL</td>\n",
       "      <td>5</td>\n",
       "      <td>156362</td>\n",
       "      <td>False</td>\n",
       "      <td>20210604</td>\n",
       "      <td>False</td>\n",
       "    </tr>\n",
       "    <tr>\n",
       "      <th>...</th>\n",
       "      <td>...</td>\n",
       "      <td>...</td>\n",
       "      <td>...</td>\n",
       "      <td>...</td>\n",
       "      <td>...</td>\n",
       "      <td>...</td>\n",
       "      <td>...</td>\n",
       "      <td>...</td>\n",
       "      <td>...</td>\n",
       "      <td>...</td>\n",
       "      <td>...</td>\n",
       "      <td>...</td>\n",
       "      <td>...</td>\n",
       "      <td>...</td>\n",
       "      <td>...</td>\n",
       "      <td>...</td>\n",
       "      <td>...</td>\n",
       "      <td>...</td>\n",
       "      <td>...</td>\n",
       "      <td>...</td>\n",
       "    </tr>\n",
       "    <tr>\n",
       "      <th>31096</th>\n",
       "      <td>2020</td>\n",
       "      <td>WYOMING</td>\n",
       "      <td>WY</td>\n",
       "      <td>56</td>\n",
       "      <td>83</td>\n",
       "      <td>68</td>\n",
       "      <td>US HOUSE</td>\n",
       "      <td>0</td>\n",
       "      <td>gen</td>\n",
       "      <td>False</td>\n",
       "      <td>False</td>\n",
       "      <td>RICHARD BRUBAKER</td>\n",
       "      <td>LIBERTARIAN</td>\n",
       "      <td>False</td>\n",
       "      <td>TOTAL</td>\n",
       "      <td>10154</td>\n",
       "      <td>278503</td>\n",
       "      <td>False</td>\n",
       "      <td>20210604</td>\n",
       "      <td>False</td>\n",
       "    </tr>\n",
       "    <tr>\n",
       "      <th>31097</th>\n",
       "      <td>2020</td>\n",
       "      <td>WYOMING</td>\n",
       "      <td>WY</td>\n",
       "      <td>56</td>\n",
       "      <td>83</td>\n",
       "      <td>68</td>\n",
       "      <td>US HOUSE</td>\n",
       "      <td>0</td>\n",
       "      <td>gen</td>\n",
       "      <td>False</td>\n",
       "      <td>False</td>\n",
       "      <td>JEFF HAGGIT</td>\n",
       "      <td>CONSTITUTION</td>\n",
       "      <td>False</td>\n",
       "      <td>TOTAL</td>\n",
       "      <td>7905</td>\n",
       "      <td>278503</td>\n",
       "      <td>False</td>\n",
       "      <td>20210604</td>\n",
       "      <td>False</td>\n",
       "    </tr>\n",
       "    <tr>\n",
       "      <th>31098</th>\n",
       "      <td>2020</td>\n",
       "      <td>WYOMING</td>\n",
       "      <td>WY</td>\n",
       "      <td>56</td>\n",
       "      <td>83</td>\n",
       "      <td>68</td>\n",
       "      <td>US HOUSE</td>\n",
       "      <td>0</td>\n",
       "      <td>gen</td>\n",
       "      <td>False</td>\n",
       "      <td>False</td>\n",
       "      <td>UNDER VOTES</td>\n",
       "      <td>NaN</td>\n",
       "      <td>False</td>\n",
       "      <td>TOTAL</td>\n",
       "      <td>6337</td>\n",
       "      <td>278503</td>\n",
       "      <td>False</td>\n",
       "      <td>20210604</td>\n",
       "      <td>False</td>\n",
       "    </tr>\n",
       "    <tr>\n",
       "      <th>31099</th>\n",
       "      <td>2020</td>\n",
       "      <td>WYOMING</td>\n",
       "      <td>WY</td>\n",
       "      <td>56</td>\n",
       "      <td>83</td>\n",
       "      <td>68</td>\n",
       "      <td>US HOUSE</td>\n",
       "      <td>0</td>\n",
       "      <td>gen</td>\n",
       "      <td>False</td>\n",
       "      <td>False</td>\n",
       "      <td>OVER VOTES</td>\n",
       "      <td>NaN</td>\n",
       "      <td>False</td>\n",
       "      <td>TOTAL</td>\n",
       "      <td>1274</td>\n",
       "      <td>278503</td>\n",
       "      <td>False</td>\n",
       "      <td>20210604</td>\n",
       "      <td>False</td>\n",
       "    </tr>\n",
       "    <tr>\n",
       "      <th>31100</th>\n",
       "      <td>2020</td>\n",
       "      <td>WYOMING</td>\n",
       "      <td>WY</td>\n",
       "      <td>56</td>\n",
       "      <td>83</td>\n",
       "      <td>68</td>\n",
       "      <td>US HOUSE</td>\n",
       "      <td>0</td>\n",
       "      <td>gen</td>\n",
       "      <td>False</td>\n",
       "      <td>False</td>\n",
       "      <td>WRITE-IN</td>\n",
       "      <td>NaN</td>\n",
       "      <td>True</td>\n",
       "      <td>TOTAL</td>\n",
       "      <td>525</td>\n",
       "      <td>278503</td>\n",
       "      <td>False</td>\n",
       "      <td>20210604</td>\n",
       "      <td>False</td>\n",
       "    </tr>\n",
       "  </tbody>\n",
       "</table>\n",
       "<p>31101 rows × 20 columns</p>\n",
       "</div>"
      ],
      "text/plain": [
       "       year    state state_po  state_fips  state_cen  state_ic    office  \\\n",
       "0      1976  ALABAMA       AL           1         63        41  US HOUSE   \n",
       "1      1976  ALABAMA       AL           1         63        41  US HOUSE   \n",
       "2      1976  ALABAMA       AL           1         63        41  US HOUSE   \n",
       "3      1976  ALABAMA       AL           1         63        41  US HOUSE   \n",
       "4      1976  ALABAMA       AL           1         63        41  US HOUSE   \n",
       "...     ...      ...      ...         ...        ...       ...       ...   \n",
       "31096  2020  WYOMING       WY          56         83        68  US HOUSE   \n",
       "31097  2020  WYOMING       WY          56         83        68  US HOUSE   \n",
       "31098  2020  WYOMING       WY          56         83        68  US HOUSE   \n",
       "31099  2020  WYOMING       WY          56         83        68  US HOUSE   \n",
       "31100  2020  WYOMING       WY          56         83        68  US HOUSE   \n",
       "\n",
       "       district stage runoff  special         candidate         party  \\\n",
       "0             1   gen  False    False    BILL DAVENPORT      DEMOCRAT   \n",
       "1             1   gen  False    False      JACK EDWARDS    REPUBLICAN   \n",
       "2             1   gen  False    False               NaN           NaN   \n",
       "3             2   gen  False    False  J. CAROLE KEAHEY      DEMOCRAT   \n",
       "4             2   gen  False    False               NaN           NaN   \n",
       "...         ...   ...    ...      ...               ...           ...   \n",
       "31096         0   gen  False    False  RICHARD BRUBAKER   LIBERTARIAN   \n",
       "31097         0   gen  False    False       JEFF HAGGIT  CONSTITUTION   \n",
       "31098         0   gen  False    False       UNDER VOTES           NaN   \n",
       "31099         0   gen  False    False        OVER VOTES           NaN   \n",
       "31100         0   gen  False    False          WRITE-IN           NaN   \n",
       "\n",
       "       writein   mode  candidatevotes  totalvotes  unofficial   version  \\\n",
       "0        False  TOTAL           58906      157170       False  20210604   \n",
       "1        False  TOTAL           98257      157170       False  20210604   \n",
       "2         True  TOTAL               7      157170       False  20210604   \n",
       "3        False  TOTAL           66288      156362       False  20210604   \n",
       "4         True  TOTAL               5      156362       False  20210604   \n",
       "...        ...    ...             ...         ...         ...       ...   \n",
       "31096    False  TOTAL           10154      278503       False  20210604   \n",
       "31097    False  TOTAL            7905      278503       False  20210604   \n",
       "31098    False  TOTAL            6337      278503       False  20210604   \n",
       "31099    False  TOTAL            1274      278503       False  20210604   \n",
       "31100     True  TOTAL             525      278503       False  20210604   \n",
       "\n",
       "       fusion_ticket  \n",
       "0              False  \n",
       "1              False  \n",
       "2              False  \n",
       "3              False  \n",
       "4              False  \n",
       "...              ...  \n",
       "31096          False  \n",
       "31097          False  \n",
       "31098          False  \n",
       "31099          False  \n",
       "31100          False  \n",
       "\n",
       "[31101 rows x 20 columns]"
      ]
     },
     "execution_count": 22,
     "metadata": {},
     "output_type": "execute_result"
    }
   ],
   "source": [
    "data"
   ]
  },
  {
   "cell_type": "code",
   "execution_count": 12,
   "id": "15dad6c7",
   "metadata": {},
   "outputs": [],
   "source": [
    "x = [0.001,1,1.5,2,2.5,3,3.5,4]\n",
    "y = [0.018, 3.21, 3.948, 3.426, 3.66, 2.028, 1.824, 2.616]"
   ]
  },
  {
   "cell_type": "code",
   "execution_count": 13,
   "id": "0f42f256",
   "metadata": {},
   "outputs": [
    {
     "data": {
      "text/plain": [
       "([0.001, 1, 1.5, 2, 2.5, 3, 3.5, 4],\n",
       " [0.018, 3.21, 3.948, 3.426, 3.66, 2.028, 1.824, 2.616])"
      ]
     },
     "execution_count": 13,
     "metadata": {},
     "output_type": "execute_result"
    }
   ],
   "source": [
    "x,y"
   ]
  },
  {
   "cell_type": "code",
   "execution_count": 14,
   "id": "9e21fa05",
   "metadata": {},
   "outputs": [],
   "source": [
    "import matplotlib.pyplot as plt\n",
    "import numpy as np"
   ]
  },
  {
   "cell_type": "code",
   "execution_count": 33,
   "id": "a3fe6f26",
   "metadata": {},
   "outputs": [
    {
     "data": {
      "application/vnd.plotly.v1+json": {
       "config": {
        "plotlyServerURL": "https://plot.ly"
       },
       "data": [
        {
         "hovertemplate": "x=%{x}<br>y=%{y}<extra></extra>",
         "legendgroup": "",
         "marker": {
          "color": "#636efa",
          "symbol": "circle"
         },
         "mode": "markers",
         "name": "",
         "orientation": "v",
         "showlegend": false,
         "type": "scatter",
         "x": [
          0.001,
          1,
          1.5,
          2,
          2.5,
          3,
          3.5,
          4
         ],
         "xaxis": "x",
         "y": [
          0.018,
          3.21,
          3.948,
          3.426,
          3.66,
          2.028,
          1.824,
          2.616
         ],
         "yaxis": "y"
        },
        {
         "hovertemplate": "<b>Expanding mean trendline</b><br><br>x=%{x}<br>y=%{y} <b>(trend)</b><extra></extra>",
         "legendgroup": "",
         "marker": {
          "color": "#636efa",
          "symbol": "circle"
         },
         "mode": "lines",
         "name": "",
         "showlegend": false,
         "type": "scatter",
         "x": [
          0.001,
          1,
          1.5,
          2,
          2.5,
          3,
          3.5,
          4
         ],
         "xaxis": "x",
         "y": [
          0.018,
          1.6139999999999999,
          2.392,
          2.6505,
          2.8524000000000003,
          2.715,
          2.5877142857142856,
          2.59125
         ],
         "yaxis": "y"
        }
       ],
       "layout": {
        "legend": {
         "tracegroupgap": 0
        },
        "template": {
         "data": {
          "bar": [
           {
            "error_x": {
             "color": "#2a3f5f"
            },
            "error_y": {
             "color": "#2a3f5f"
            },
            "marker": {
             "line": {
              "color": "#E5ECF6",
              "width": 0.5
             },
             "pattern": {
              "fillmode": "overlay",
              "size": 10,
              "solidity": 0.2
             }
            },
            "type": "bar"
           }
          ],
          "barpolar": [
           {
            "marker": {
             "line": {
              "color": "#E5ECF6",
              "width": 0.5
             },
             "pattern": {
              "fillmode": "overlay",
              "size": 10,
              "solidity": 0.2
             }
            },
            "type": "barpolar"
           }
          ],
          "carpet": [
           {
            "aaxis": {
             "endlinecolor": "#2a3f5f",
             "gridcolor": "white",
             "linecolor": "white",
             "minorgridcolor": "white",
             "startlinecolor": "#2a3f5f"
            },
            "baxis": {
             "endlinecolor": "#2a3f5f",
             "gridcolor": "white",
             "linecolor": "white",
             "minorgridcolor": "white",
             "startlinecolor": "#2a3f5f"
            },
            "type": "carpet"
           }
          ],
          "choropleth": [
           {
            "colorbar": {
             "outlinewidth": 0,
             "ticks": ""
            },
            "type": "choropleth"
           }
          ],
          "contour": [
           {
            "colorbar": {
             "outlinewidth": 0,
             "ticks": ""
            },
            "colorscale": [
             [
              0,
              "#0d0887"
             ],
             [
              0.1111111111111111,
              "#46039f"
             ],
             [
              0.2222222222222222,
              "#7201a8"
             ],
             [
              0.3333333333333333,
              "#9c179e"
             ],
             [
              0.4444444444444444,
              "#bd3786"
             ],
             [
              0.5555555555555556,
              "#d8576b"
             ],
             [
              0.6666666666666666,
              "#ed7953"
             ],
             [
              0.7777777777777778,
              "#fb9f3a"
             ],
             [
              0.8888888888888888,
              "#fdca26"
             ],
             [
              1,
              "#f0f921"
             ]
            ],
            "type": "contour"
           }
          ],
          "contourcarpet": [
           {
            "colorbar": {
             "outlinewidth": 0,
             "ticks": ""
            },
            "type": "contourcarpet"
           }
          ],
          "heatmap": [
           {
            "colorbar": {
             "outlinewidth": 0,
             "ticks": ""
            },
            "colorscale": [
             [
              0,
              "#0d0887"
             ],
             [
              0.1111111111111111,
              "#46039f"
             ],
             [
              0.2222222222222222,
              "#7201a8"
             ],
             [
              0.3333333333333333,
              "#9c179e"
             ],
             [
              0.4444444444444444,
              "#bd3786"
             ],
             [
              0.5555555555555556,
              "#d8576b"
             ],
             [
              0.6666666666666666,
              "#ed7953"
             ],
             [
              0.7777777777777778,
              "#fb9f3a"
             ],
             [
              0.8888888888888888,
              "#fdca26"
             ],
             [
              1,
              "#f0f921"
             ]
            ],
            "type": "heatmap"
           }
          ],
          "heatmapgl": [
           {
            "colorbar": {
             "outlinewidth": 0,
             "ticks": ""
            },
            "colorscale": [
             [
              0,
              "#0d0887"
             ],
             [
              0.1111111111111111,
              "#46039f"
             ],
             [
              0.2222222222222222,
              "#7201a8"
             ],
             [
              0.3333333333333333,
              "#9c179e"
             ],
             [
              0.4444444444444444,
              "#bd3786"
             ],
             [
              0.5555555555555556,
              "#d8576b"
             ],
             [
              0.6666666666666666,
              "#ed7953"
             ],
             [
              0.7777777777777778,
              "#fb9f3a"
             ],
             [
              0.8888888888888888,
              "#fdca26"
             ],
             [
              1,
              "#f0f921"
             ]
            ],
            "type": "heatmapgl"
           }
          ],
          "histogram": [
           {
            "marker": {
             "pattern": {
              "fillmode": "overlay",
              "size": 10,
              "solidity": 0.2
             }
            },
            "type": "histogram"
           }
          ],
          "histogram2d": [
           {
            "colorbar": {
             "outlinewidth": 0,
             "ticks": ""
            },
            "colorscale": [
             [
              0,
              "#0d0887"
             ],
             [
              0.1111111111111111,
              "#46039f"
             ],
             [
              0.2222222222222222,
              "#7201a8"
             ],
             [
              0.3333333333333333,
              "#9c179e"
             ],
             [
              0.4444444444444444,
              "#bd3786"
             ],
             [
              0.5555555555555556,
              "#d8576b"
             ],
             [
              0.6666666666666666,
              "#ed7953"
             ],
             [
              0.7777777777777778,
              "#fb9f3a"
             ],
             [
              0.8888888888888888,
              "#fdca26"
             ],
             [
              1,
              "#f0f921"
             ]
            ],
            "type": "histogram2d"
           }
          ],
          "histogram2dcontour": [
           {
            "colorbar": {
             "outlinewidth": 0,
             "ticks": ""
            },
            "colorscale": [
             [
              0,
              "#0d0887"
             ],
             [
              0.1111111111111111,
              "#46039f"
             ],
             [
              0.2222222222222222,
              "#7201a8"
             ],
             [
              0.3333333333333333,
              "#9c179e"
             ],
             [
              0.4444444444444444,
              "#bd3786"
             ],
             [
              0.5555555555555556,
              "#d8576b"
             ],
             [
              0.6666666666666666,
              "#ed7953"
             ],
             [
              0.7777777777777778,
              "#fb9f3a"
             ],
             [
              0.8888888888888888,
              "#fdca26"
             ],
             [
              1,
              "#f0f921"
             ]
            ],
            "type": "histogram2dcontour"
           }
          ],
          "mesh3d": [
           {
            "colorbar": {
             "outlinewidth": 0,
             "ticks": ""
            },
            "type": "mesh3d"
           }
          ],
          "parcoords": [
           {
            "line": {
             "colorbar": {
              "outlinewidth": 0,
              "ticks": ""
             }
            },
            "type": "parcoords"
           }
          ],
          "pie": [
           {
            "automargin": true,
            "type": "pie"
           }
          ],
          "scatter": [
           {
            "marker": {
             "colorbar": {
              "outlinewidth": 0,
              "ticks": ""
             }
            },
            "type": "scatter"
           }
          ],
          "scatter3d": [
           {
            "line": {
             "colorbar": {
              "outlinewidth": 0,
              "ticks": ""
             }
            },
            "marker": {
             "colorbar": {
              "outlinewidth": 0,
              "ticks": ""
             }
            },
            "type": "scatter3d"
           }
          ],
          "scattercarpet": [
           {
            "marker": {
             "colorbar": {
              "outlinewidth": 0,
              "ticks": ""
             }
            },
            "type": "scattercarpet"
           }
          ],
          "scattergeo": [
           {
            "marker": {
             "colorbar": {
              "outlinewidth": 0,
              "ticks": ""
             }
            },
            "type": "scattergeo"
           }
          ],
          "scattergl": [
           {
            "marker": {
             "colorbar": {
              "outlinewidth": 0,
              "ticks": ""
             }
            },
            "type": "scattergl"
           }
          ],
          "scattermapbox": [
           {
            "marker": {
             "colorbar": {
              "outlinewidth": 0,
              "ticks": ""
             }
            },
            "type": "scattermapbox"
           }
          ],
          "scatterpolar": [
           {
            "marker": {
             "colorbar": {
              "outlinewidth": 0,
              "ticks": ""
             }
            },
            "type": "scatterpolar"
           }
          ],
          "scatterpolargl": [
           {
            "marker": {
             "colorbar": {
              "outlinewidth": 0,
              "ticks": ""
             }
            },
            "type": "scatterpolargl"
           }
          ],
          "scatterternary": [
           {
            "marker": {
             "colorbar": {
              "outlinewidth": 0,
              "ticks": ""
             }
            },
            "type": "scatterternary"
           }
          ],
          "surface": [
           {
            "colorbar": {
             "outlinewidth": 0,
             "ticks": ""
            },
            "colorscale": [
             [
              0,
              "#0d0887"
             ],
             [
              0.1111111111111111,
              "#46039f"
             ],
             [
              0.2222222222222222,
              "#7201a8"
             ],
             [
              0.3333333333333333,
              "#9c179e"
             ],
             [
              0.4444444444444444,
              "#bd3786"
             ],
             [
              0.5555555555555556,
              "#d8576b"
             ],
             [
              0.6666666666666666,
              "#ed7953"
             ],
             [
              0.7777777777777778,
              "#fb9f3a"
             ],
             [
              0.8888888888888888,
              "#fdca26"
             ],
             [
              1,
              "#f0f921"
             ]
            ],
            "type": "surface"
           }
          ],
          "table": [
           {
            "cells": {
             "fill": {
              "color": "#EBF0F8"
             },
             "line": {
              "color": "white"
             }
            },
            "header": {
             "fill": {
              "color": "#C8D4E3"
             },
             "line": {
              "color": "white"
             }
            },
            "type": "table"
           }
          ]
         },
         "layout": {
          "annotationdefaults": {
           "arrowcolor": "#2a3f5f",
           "arrowhead": 0,
           "arrowwidth": 1
          },
          "autotypenumbers": "strict",
          "coloraxis": {
           "colorbar": {
            "outlinewidth": 0,
            "ticks": ""
           }
          },
          "colorscale": {
           "diverging": [
            [
             0,
             "#8e0152"
            ],
            [
             0.1,
             "#c51b7d"
            ],
            [
             0.2,
             "#de77ae"
            ],
            [
             0.3,
             "#f1b6da"
            ],
            [
             0.4,
             "#fde0ef"
            ],
            [
             0.5,
             "#f7f7f7"
            ],
            [
             0.6,
             "#e6f5d0"
            ],
            [
             0.7,
             "#b8e186"
            ],
            [
             0.8,
             "#7fbc41"
            ],
            [
             0.9,
             "#4d9221"
            ],
            [
             1,
             "#276419"
            ]
           ],
           "sequential": [
            [
             0,
             "#0d0887"
            ],
            [
             0.1111111111111111,
             "#46039f"
            ],
            [
             0.2222222222222222,
             "#7201a8"
            ],
            [
             0.3333333333333333,
             "#9c179e"
            ],
            [
             0.4444444444444444,
             "#bd3786"
            ],
            [
             0.5555555555555556,
             "#d8576b"
            ],
            [
             0.6666666666666666,
             "#ed7953"
            ],
            [
             0.7777777777777778,
             "#fb9f3a"
            ],
            [
             0.8888888888888888,
             "#fdca26"
            ],
            [
             1,
             "#f0f921"
            ]
           ],
           "sequentialminus": [
            [
             0,
             "#0d0887"
            ],
            [
             0.1111111111111111,
             "#46039f"
            ],
            [
             0.2222222222222222,
             "#7201a8"
            ],
            [
             0.3333333333333333,
             "#9c179e"
            ],
            [
             0.4444444444444444,
             "#bd3786"
            ],
            [
             0.5555555555555556,
             "#d8576b"
            ],
            [
             0.6666666666666666,
             "#ed7953"
            ],
            [
             0.7777777777777778,
             "#fb9f3a"
            ],
            [
             0.8888888888888888,
             "#fdca26"
            ],
            [
             1,
             "#f0f921"
            ]
           ]
          },
          "colorway": [
           "#636efa",
           "#EF553B",
           "#00cc96",
           "#ab63fa",
           "#FFA15A",
           "#19d3f3",
           "#FF6692",
           "#B6E880",
           "#FF97FF",
           "#FECB52"
          ],
          "font": {
           "color": "#2a3f5f"
          },
          "geo": {
           "bgcolor": "white",
           "lakecolor": "white",
           "landcolor": "#E5ECF6",
           "showlakes": true,
           "showland": true,
           "subunitcolor": "white"
          },
          "hoverlabel": {
           "align": "left"
          },
          "hovermode": "closest",
          "mapbox": {
           "style": "light"
          },
          "paper_bgcolor": "white",
          "plot_bgcolor": "#E5ECF6",
          "polar": {
           "angularaxis": {
            "gridcolor": "white",
            "linecolor": "white",
            "ticks": ""
           },
           "bgcolor": "#E5ECF6",
           "radialaxis": {
            "gridcolor": "white",
            "linecolor": "white",
            "ticks": ""
           }
          },
          "scene": {
           "xaxis": {
            "backgroundcolor": "#E5ECF6",
            "gridcolor": "white",
            "gridwidth": 2,
            "linecolor": "white",
            "showbackground": true,
            "ticks": "",
            "zerolinecolor": "white"
           },
           "yaxis": {
            "backgroundcolor": "#E5ECF6",
            "gridcolor": "white",
            "gridwidth": 2,
            "linecolor": "white",
            "showbackground": true,
            "ticks": "",
            "zerolinecolor": "white"
           },
           "zaxis": {
            "backgroundcolor": "#E5ECF6",
            "gridcolor": "white",
            "gridwidth": 2,
            "linecolor": "white",
            "showbackground": true,
            "ticks": "",
            "zerolinecolor": "white"
           }
          },
          "shapedefaults": {
           "line": {
            "color": "#2a3f5f"
           }
          },
          "ternary": {
           "aaxis": {
            "gridcolor": "white",
            "linecolor": "white",
            "ticks": ""
           },
           "baxis": {
            "gridcolor": "white",
            "linecolor": "white",
            "ticks": ""
           },
           "bgcolor": "#E5ECF6",
           "caxis": {
            "gridcolor": "white",
            "linecolor": "white",
            "ticks": ""
           }
          },
          "title": {
           "x": 0.05
          },
          "xaxis": {
           "automargin": true,
           "gridcolor": "white",
           "linecolor": "white",
           "ticks": "",
           "title": {
            "standoff": 15
           },
           "zerolinecolor": "white",
           "zerolinewidth": 2
          },
          "yaxis": {
           "automargin": true,
           "gridcolor": "white",
           "linecolor": "white",
           "ticks": "",
           "title": {
            "standoff": 15
           },
           "zerolinecolor": "white",
           "zerolinewidth": 2
          }
         }
        },
        "title": {
         "text": "Log-transformed fit on linear axes"
        },
        "xaxis": {
         "anchor": "y",
         "domain": [
          0,
          1
         ],
         "title": {
          "text": "x"
         }
        },
        "yaxis": {
         "anchor": "x",
         "domain": [
          0,
          1
         ],
         "title": {
          "text": "y"
         }
        }
       }
      },
      "text/html": [
       "<div>                            <div id=\"f9b6f96a-bb8e-4e5e-899e-e0ccbe56ff78\" class=\"plotly-graph-div\" style=\"height:525px; width:100%;\"></div>            <script type=\"text/javascript\">                require([\"plotly\"], function(Plotly) {                    window.PLOTLYENV=window.PLOTLYENV || {};                                    if (document.getElementById(\"f9b6f96a-bb8e-4e5e-899e-e0ccbe56ff78\")) {                    Plotly.newPlot(                        \"f9b6f96a-bb8e-4e5e-899e-e0ccbe56ff78\",                        [{\"hovertemplate\":\"x=%{x}<br>y=%{y}<extra></extra>\",\"legendgroup\":\"\",\"marker\":{\"color\":\"#636efa\",\"symbol\":\"circle\"},\"mode\":\"markers\",\"name\":\"\",\"orientation\":\"v\",\"showlegend\":false,\"type\":\"scatter\",\"x\":[0.001,1.0,1.5,2.0,2.5,3.0,3.5,4.0],\"xaxis\":\"x\",\"y\":[0.018,3.21,3.948,3.426,3.66,2.028,1.824,2.616],\"yaxis\":\"y\"},{\"hovertemplate\":\"<b>Expanding mean trendline</b><br><br>x=%{x}<br>y=%{y} <b>(trend)</b><extra></extra>\",\"legendgroup\":\"\",\"marker\":{\"color\":\"#636efa\",\"symbol\":\"circle\"},\"mode\":\"lines\",\"name\":\"\",\"showlegend\":false,\"type\":\"scatter\",\"x\":[0.001,1.0,1.5,2.0,2.5,3.0,3.5,4.0],\"xaxis\":\"x\",\"y\":[0.018,1.6139999999999999,2.392,2.6505,2.8524000000000003,2.715,2.5877142857142856,2.59125],\"yaxis\":\"y\"}],                        {\"legend\":{\"tracegroupgap\":0},\"template\":{\"data\":{\"bar\":[{\"error_x\":{\"color\":\"#2a3f5f\"},\"error_y\":{\"color\":\"#2a3f5f\"},\"marker\":{\"line\":{\"color\":\"#E5ECF6\",\"width\":0.5},\"pattern\":{\"fillmode\":\"overlay\",\"size\":10,\"solidity\":0.2}},\"type\":\"bar\"}],\"barpolar\":[{\"marker\":{\"line\":{\"color\":\"#E5ECF6\",\"width\":0.5},\"pattern\":{\"fillmode\":\"overlay\",\"size\":10,\"solidity\":0.2}},\"type\":\"barpolar\"}],\"carpet\":[{\"aaxis\":{\"endlinecolor\":\"#2a3f5f\",\"gridcolor\":\"white\",\"linecolor\":\"white\",\"minorgridcolor\":\"white\",\"startlinecolor\":\"#2a3f5f\"},\"baxis\":{\"endlinecolor\":\"#2a3f5f\",\"gridcolor\":\"white\",\"linecolor\":\"white\",\"minorgridcolor\":\"white\",\"startlinecolor\":\"#2a3f5f\"},\"type\":\"carpet\"}],\"choropleth\":[{\"colorbar\":{\"outlinewidth\":0,\"ticks\":\"\"},\"type\":\"choropleth\"}],\"contour\":[{\"colorbar\":{\"outlinewidth\":0,\"ticks\":\"\"},\"colorscale\":[[0.0,\"#0d0887\"],[0.1111111111111111,\"#46039f\"],[0.2222222222222222,\"#7201a8\"],[0.3333333333333333,\"#9c179e\"],[0.4444444444444444,\"#bd3786\"],[0.5555555555555556,\"#d8576b\"],[0.6666666666666666,\"#ed7953\"],[0.7777777777777778,\"#fb9f3a\"],[0.8888888888888888,\"#fdca26\"],[1.0,\"#f0f921\"]],\"type\":\"contour\"}],\"contourcarpet\":[{\"colorbar\":{\"outlinewidth\":0,\"ticks\":\"\"},\"type\":\"contourcarpet\"}],\"heatmap\":[{\"colorbar\":{\"outlinewidth\":0,\"ticks\":\"\"},\"colorscale\":[[0.0,\"#0d0887\"],[0.1111111111111111,\"#46039f\"],[0.2222222222222222,\"#7201a8\"],[0.3333333333333333,\"#9c179e\"],[0.4444444444444444,\"#bd3786\"],[0.5555555555555556,\"#d8576b\"],[0.6666666666666666,\"#ed7953\"],[0.7777777777777778,\"#fb9f3a\"],[0.8888888888888888,\"#fdca26\"],[1.0,\"#f0f921\"]],\"type\":\"heatmap\"}],\"heatmapgl\":[{\"colorbar\":{\"outlinewidth\":0,\"ticks\":\"\"},\"colorscale\":[[0.0,\"#0d0887\"],[0.1111111111111111,\"#46039f\"],[0.2222222222222222,\"#7201a8\"],[0.3333333333333333,\"#9c179e\"],[0.4444444444444444,\"#bd3786\"],[0.5555555555555556,\"#d8576b\"],[0.6666666666666666,\"#ed7953\"],[0.7777777777777778,\"#fb9f3a\"],[0.8888888888888888,\"#fdca26\"],[1.0,\"#f0f921\"]],\"type\":\"heatmapgl\"}],\"histogram\":[{\"marker\":{\"pattern\":{\"fillmode\":\"overlay\",\"size\":10,\"solidity\":0.2}},\"type\":\"histogram\"}],\"histogram2d\":[{\"colorbar\":{\"outlinewidth\":0,\"ticks\":\"\"},\"colorscale\":[[0.0,\"#0d0887\"],[0.1111111111111111,\"#46039f\"],[0.2222222222222222,\"#7201a8\"],[0.3333333333333333,\"#9c179e\"],[0.4444444444444444,\"#bd3786\"],[0.5555555555555556,\"#d8576b\"],[0.6666666666666666,\"#ed7953\"],[0.7777777777777778,\"#fb9f3a\"],[0.8888888888888888,\"#fdca26\"],[1.0,\"#f0f921\"]],\"type\":\"histogram2d\"}],\"histogram2dcontour\":[{\"colorbar\":{\"outlinewidth\":0,\"ticks\":\"\"},\"colorscale\":[[0.0,\"#0d0887\"],[0.1111111111111111,\"#46039f\"],[0.2222222222222222,\"#7201a8\"],[0.3333333333333333,\"#9c179e\"],[0.4444444444444444,\"#bd3786\"],[0.5555555555555556,\"#d8576b\"],[0.6666666666666666,\"#ed7953\"],[0.7777777777777778,\"#fb9f3a\"],[0.8888888888888888,\"#fdca26\"],[1.0,\"#f0f921\"]],\"type\":\"histogram2dcontour\"}],\"mesh3d\":[{\"colorbar\":{\"outlinewidth\":0,\"ticks\":\"\"},\"type\":\"mesh3d\"}],\"parcoords\":[{\"line\":{\"colorbar\":{\"outlinewidth\":0,\"ticks\":\"\"}},\"type\":\"parcoords\"}],\"pie\":[{\"automargin\":true,\"type\":\"pie\"}],\"scatter\":[{\"marker\":{\"colorbar\":{\"outlinewidth\":0,\"ticks\":\"\"}},\"type\":\"scatter\"}],\"scatter3d\":[{\"line\":{\"colorbar\":{\"outlinewidth\":0,\"ticks\":\"\"}},\"marker\":{\"colorbar\":{\"outlinewidth\":0,\"ticks\":\"\"}},\"type\":\"scatter3d\"}],\"scattercarpet\":[{\"marker\":{\"colorbar\":{\"outlinewidth\":0,\"ticks\":\"\"}},\"type\":\"scattercarpet\"}],\"scattergeo\":[{\"marker\":{\"colorbar\":{\"outlinewidth\":0,\"ticks\":\"\"}},\"type\":\"scattergeo\"}],\"scattergl\":[{\"marker\":{\"colorbar\":{\"outlinewidth\":0,\"ticks\":\"\"}},\"type\":\"scattergl\"}],\"scattermapbox\":[{\"marker\":{\"colorbar\":{\"outlinewidth\":0,\"ticks\":\"\"}},\"type\":\"scattermapbox\"}],\"scatterpolar\":[{\"marker\":{\"colorbar\":{\"outlinewidth\":0,\"ticks\":\"\"}},\"type\":\"scatterpolar\"}],\"scatterpolargl\":[{\"marker\":{\"colorbar\":{\"outlinewidth\":0,\"ticks\":\"\"}},\"type\":\"scatterpolargl\"}],\"scatterternary\":[{\"marker\":{\"colorbar\":{\"outlinewidth\":0,\"ticks\":\"\"}},\"type\":\"scatterternary\"}],\"surface\":[{\"colorbar\":{\"outlinewidth\":0,\"ticks\":\"\"},\"colorscale\":[[0.0,\"#0d0887\"],[0.1111111111111111,\"#46039f\"],[0.2222222222222222,\"#7201a8\"],[0.3333333333333333,\"#9c179e\"],[0.4444444444444444,\"#bd3786\"],[0.5555555555555556,\"#d8576b\"],[0.6666666666666666,\"#ed7953\"],[0.7777777777777778,\"#fb9f3a\"],[0.8888888888888888,\"#fdca26\"],[1.0,\"#f0f921\"]],\"type\":\"surface\"}],\"table\":[{\"cells\":{\"fill\":{\"color\":\"#EBF0F8\"},\"line\":{\"color\":\"white\"}},\"header\":{\"fill\":{\"color\":\"#C8D4E3\"},\"line\":{\"color\":\"white\"}},\"type\":\"table\"}]},\"layout\":{\"annotationdefaults\":{\"arrowcolor\":\"#2a3f5f\",\"arrowhead\":0,\"arrowwidth\":1},\"autotypenumbers\":\"strict\",\"coloraxis\":{\"colorbar\":{\"outlinewidth\":0,\"ticks\":\"\"}},\"colorscale\":{\"diverging\":[[0,\"#8e0152\"],[0.1,\"#c51b7d\"],[0.2,\"#de77ae\"],[0.3,\"#f1b6da\"],[0.4,\"#fde0ef\"],[0.5,\"#f7f7f7\"],[0.6,\"#e6f5d0\"],[0.7,\"#b8e186\"],[0.8,\"#7fbc41\"],[0.9,\"#4d9221\"],[1,\"#276419\"]],\"sequential\":[[0.0,\"#0d0887\"],[0.1111111111111111,\"#46039f\"],[0.2222222222222222,\"#7201a8\"],[0.3333333333333333,\"#9c179e\"],[0.4444444444444444,\"#bd3786\"],[0.5555555555555556,\"#d8576b\"],[0.6666666666666666,\"#ed7953\"],[0.7777777777777778,\"#fb9f3a\"],[0.8888888888888888,\"#fdca26\"],[1.0,\"#f0f921\"]],\"sequentialminus\":[[0.0,\"#0d0887\"],[0.1111111111111111,\"#46039f\"],[0.2222222222222222,\"#7201a8\"],[0.3333333333333333,\"#9c179e\"],[0.4444444444444444,\"#bd3786\"],[0.5555555555555556,\"#d8576b\"],[0.6666666666666666,\"#ed7953\"],[0.7777777777777778,\"#fb9f3a\"],[0.8888888888888888,\"#fdca26\"],[1.0,\"#f0f921\"]]},\"colorway\":[\"#636efa\",\"#EF553B\",\"#00cc96\",\"#ab63fa\",\"#FFA15A\",\"#19d3f3\",\"#FF6692\",\"#B6E880\",\"#FF97FF\",\"#FECB52\"],\"font\":{\"color\":\"#2a3f5f\"},\"geo\":{\"bgcolor\":\"white\",\"lakecolor\":\"white\",\"landcolor\":\"#E5ECF6\",\"showlakes\":true,\"showland\":true,\"subunitcolor\":\"white\"},\"hoverlabel\":{\"align\":\"left\"},\"hovermode\":\"closest\",\"mapbox\":{\"style\":\"light\"},\"paper_bgcolor\":\"white\",\"plot_bgcolor\":\"#E5ECF6\",\"polar\":{\"angularaxis\":{\"gridcolor\":\"white\",\"linecolor\":\"white\",\"ticks\":\"\"},\"bgcolor\":\"#E5ECF6\",\"radialaxis\":{\"gridcolor\":\"white\",\"linecolor\":\"white\",\"ticks\":\"\"}},\"scene\":{\"xaxis\":{\"backgroundcolor\":\"#E5ECF6\",\"gridcolor\":\"white\",\"gridwidth\":2,\"linecolor\":\"white\",\"showbackground\":true,\"ticks\":\"\",\"zerolinecolor\":\"white\"},\"yaxis\":{\"backgroundcolor\":\"#E5ECF6\",\"gridcolor\":\"white\",\"gridwidth\":2,\"linecolor\":\"white\",\"showbackground\":true,\"ticks\":\"\",\"zerolinecolor\":\"white\"},\"zaxis\":{\"backgroundcolor\":\"#E5ECF6\",\"gridcolor\":\"white\",\"gridwidth\":2,\"linecolor\":\"white\",\"showbackground\":true,\"ticks\":\"\",\"zerolinecolor\":\"white\"}},\"shapedefaults\":{\"line\":{\"color\":\"#2a3f5f\"}},\"ternary\":{\"aaxis\":{\"gridcolor\":\"white\",\"linecolor\":\"white\",\"ticks\":\"\"},\"baxis\":{\"gridcolor\":\"white\",\"linecolor\":\"white\",\"ticks\":\"\"},\"bgcolor\":\"#E5ECF6\",\"caxis\":{\"gridcolor\":\"white\",\"linecolor\":\"white\",\"ticks\":\"\"}},\"title\":{\"x\":0.05},\"xaxis\":{\"automargin\":true,\"gridcolor\":\"white\",\"linecolor\":\"white\",\"ticks\":\"\",\"title\":{\"standoff\":15},\"zerolinecolor\":\"white\",\"zerolinewidth\":2},\"yaxis\":{\"automargin\":true,\"gridcolor\":\"white\",\"linecolor\":\"white\",\"ticks\":\"\",\"title\":{\"standoff\":15},\"zerolinecolor\":\"white\",\"zerolinewidth\":2}}},\"title\":{\"text\":\"Log-transformed fit on linear axes\"},\"xaxis\":{\"anchor\":\"y\",\"domain\":[0.0,1.0],\"title\":{\"text\":\"x\"}},\"yaxis\":{\"anchor\":\"x\",\"domain\":[0.0,1.0],\"title\":{\"text\":\"y\"}}},                        {\"responsive\": true}                    ).then(function(){\n",
       "                            \n",
       "var gd = document.getElementById('f9b6f96a-bb8e-4e5e-899e-e0ccbe56ff78');\n",
       "var x = new MutationObserver(function (mutations, observer) {{\n",
       "        var display = window.getComputedStyle(gd).display;\n",
       "        if (!display || display === 'none') {{\n",
       "            console.log([gd, 'removed!']);\n",
       "            Plotly.purge(gd);\n",
       "            observer.disconnect();\n",
       "        }}\n",
       "}});\n",
       "\n",
       "// Listen for the removal of the full notebook cells\n",
       "var notebookContainer = gd.closest('#notebook-container');\n",
       "if (notebookContainer) {{\n",
       "    x.observe(notebookContainer, {childList: true});\n",
       "}}\n",
       "\n",
       "// Listen for the clearing of the current output cell\n",
       "var outputEl = gd.closest('.output');\n",
       "if (outputEl) {{\n",
       "    x.observe(outputEl, {childList: true});\n",
       "}}\n",
       "\n",
       "                        })                };                });            </script>        </div>"
      ]
     },
     "metadata": {},
     "output_type": "display_data"
    }
   ],
   "source": [
    "import plotly.express as px\n",
    "\n",
    "df = px.data.gapminder(year=2007)\n",
    "fig = px.scatter(df, x=x, y=y, trendline=\"expanding\", \n",
    "                 title=\"Log-transformed fit on linear axes\")\n",
    "fig.show()"
   ]
  },
  {
   "cell_type": "code",
   "execution_count": 44,
   "id": "64b45529",
   "metadata": {},
   "outputs": [
    {
     "data": {
      "image/png": "[encoded data removed]",
      "text/plain": [
       "<Figure size 468x288 with 1 Axes>"
      ]
     },
     "metadata": {
      "needs_background": "light"
     },
     "output_type": "display_data"
    }
   ],
   "source": [
    "from scipy.interpolate import CubicSpline\n",
    "import matplotlib.pyplot as plt\n",
    "x = [0.001,1,1.5,2,2.5,3,3.5,4]\n",
    "y = [0.018, 3.21, 3.948, 3.426, 3.66, 2.028, 1.824, 2.616]\n",
    "cs = CubicSpline(x, y)\n",
    "xs = np.arange(-0.5, 5, 0.1)\n",
    "fig, ax = plt.subplots(figsize=(6.5, 4))\n",
    "ax.plot(x, y, 'o', label='data')\n",
    "ax.plot(xs, cs(xs), label=\"S\")\n",
    "ax.set_xlim(-0.5, 3.8)\n",
    "ax.legend(loc='lower left', ncol=2)\n",
    "plt.show()"
   ]
  },
  {
   "cell_type": "code",
   "execution_count": 46,
   "id": "2dce6172",
   "metadata": {},
   "outputs": [
    {
     "ename": "ModuleNotFoundError",
     "evalue": "No module named 'tsmoothie'",
     "output_type": "error",
     "traceback": [
      "\u001b[0;31m---------------------------------------------------------------------------\u001b[0m",
      "\u001b[0;31mModuleNotFoundError\u001b[0m                       Traceback (most recent call last)",
      "\u001b[0;32m<ipython-input-46-2978e730a8de>\u001b[0m in \u001b[0;36m<module>\u001b[0;34m\u001b[0m\n\u001b[1;32m      1\u001b[0m \u001b[0;32mimport\u001b[0m \u001b[0mnumpy\u001b[0m \u001b[0;32mas\u001b[0m \u001b[0mnp\u001b[0m\u001b[0;34m\u001b[0m\u001b[0;34m\u001b[0m\u001b[0m\n\u001b[1;32m      2\u001b[0m \u001b[0;32mimport\u001b[0m \u001b[0mmatplotlib\u001b[0m\u001b[0;34m.\u001b[0m\u001b[0mpyplot\u001b[0m \u001b[0;32mas\u001b[0m \u001b[0mplt\u001b[0m\u001b[0;34m\u001b[0m\u001b[0;34m\u001b[0m\u001b[0m\n\u001b[0;32m----> 3\u001b[0;31m \u001b[0;32mfrom\u001b[0m \u001b[0mtsmoothie\u001b[0m\u001b[0;34m.\u001b[0m\u001b[0msmoother\u001b[0m \u001b[0;32mimport\u001b[0m \u001b[0;34m*\u001b[0m\u001b[0;34m\u001b[0m\u001b[0;34m\u001b[0m\u001b[0m\n\u001b[0m\u001b[1;32m      4\u001b[0m \u001b[0;34m\u001b[0m\u001b[0m\n\u001b[1;32m      5\u001b[0m \u001b[0mx\u001b[0m \u001b[0;34m=\u001b[0m \u001b[0mnp\u001b[0m\u001b[0;34m.\u001b[0m\u001b[0mlinspace\u001b[0m\u001b[0;34m(\u001b[0m\u001b[0;36m0\u001b[0m\u001b[0;34m,\u001b[0m\u001b[0;36m2\u001b[0m\u001b[0;34m*\u001b[0m\u001b[0mnp\u001b[0m\u001b[0;34m.\u001b[0m\u001b[0mpi\u001b[0m\u001b[0;34m,\u001b[0m\u001b[0;36m100\u001b[0m\u001b[0;34m)\u001b[0m\u001b[0;34m\u001b[0m\u001b[0;34m\u001b[0m\u001b[0m\n",
      "\u001b[0;31mModuleNotFoundError\u001b[0m: No module named 'tsmoothie'"
     ]
    }
   ],
   "source": [
    "import numpy as np\n",
    "import matplotlib.pyplot as plt\n",
    "from tsmoothie.smoother import *\n",
    "\n",
    "x = np.linspace(0,2*np.pi,100)\n",
    "y = np.sin(x) + np.random.random(100) * 0.2\n",
    "\n",
    "# operate smoothing\n",
    "smoother = ConvolutionSmoother(window_len=5, window_type='ones')\n",
    "smoother.smooth(y)\n",
    "\n",
    "# generate intervals\n",
    "low, up = smoother.get_intervals('sigma_interval', n_sigma=2)\n",
    "\n",
    "# plot the smoothed timeseries with intervals\n",
    "plt.figure(figsize=(11,6))\n",
    "plt.plot(smoother.smooth_data[0], linewidth=3, color='blue')\n",
    "plt.plot(smoother.data[0], '.k')\n",
    "plt.fill_between(range(len(smoother.data[0])), low[0], up[0], alpha=0.3)"
   ]
  },
  {
   "cell_type": "code",
   "execution_count": 1,
   "id": "7df64f89",
   "metadata": {},
   "outputs": [],
   "source": [
    "x = [0,10,20,30,40,50,60,70]"
   ]
  },
  {
   "cell_type": "code",
   "execution_count": 14,
   "id": "46e0bf0f",
   "metadata": {},
   "outputs": [],
   "source": [
    "y1 =[11.69685039,11.65748031,11.69685039,11.65748031,11.804,11.65748031,11.65748031,11.65748031]\n",
    "z = np.polyfit(x, y1, 1)\n",
    "y1_hat = np.poly1d(z)(x)"
   ]
  },
  {
   "cell_type": "code",
   "execution_count": 20,
   "id": "253a51a3",
   "metadata": {},
   "outputs": [],
   "source": [
    "y2 =[10.27952756,8.822834646,7.44488189,6.263779528,5.444,4.531496063,3.901574803,3.429133858]\n",
    "z2 = np.polyfit(x, y2, 1)\n",
    "y2_hat = np.poly1d(z2)(x)"
   ]
  },
  {
   "cell_type": "code",
   "execution_count": 29,
   "id": "c73cbcc3",
   "metadata": {},
   "outputs": [],
   "source": [
    "y3 =[9.807086614,7.208661417,5.476377953,4.098425197,3.204,2.523622047,2.051181102,1.854330709]\n",
    "z3 = np.polyfit(x, y3, 1)\n",
    "y3_hat = np.poly1d(z3)(x)"
   ]
  },
  {
   "cell_type": "code",
   "execution_count": 34,
   "id": "620ab95d",
   "metadata": {},
   "outputs": [],
   "source": [
    "y4 =[10.43700787,8.507874016,6.381889764,5.122047244,4.044,3.114173228,2.484251969,2.011811024]\n",
    "z4 = np.polyfit(x, y4, 1)\n",
    "y4_hat = np.poly1d(z4)(x)"
   ]
  },
  {
   "cell_type": "code",
   "execution_count": 37,
   "id": "2881660b",
   "metadata": {},
   "outputs": [],
   "source": [
    "y5 =[12.64173228,8.822834646,7.562992126,6.303149606,5.724,5.122047244,4.767716535,4.728346457]\n",
    "     \n",
    "z5 = np.polyfit(x, y5, 1)\n",
    "y5_hat = np.poly1d(z5)(x)"
   ]
  },
  {
   "cell_type": "code",
   "execution_count": 38,
   "id": "10c37ea7",
   "metadata": {},
   "outputs": [],
   "source": [
    "y6 =[12.32677165,8.901574803,6.657480315,5.476377953,4.684,4.098425197,3.862204724,3.744094488]\n",
    "z6 = np.polyfit(x, y6, 1)\n",
    "y6_hat = np.poly1d(z6)(x)"
   ]
  },
  {
   "cell_type": "code",
   "execution_count": 39,
   "id": "2af40912",
   "metadata": {},
   "outputs": [],
   "source": [
    "y7 =[13.27165354,9.885826772,7.602362205,6.263779528,5.724,5.279527559,4.92519685,5.003937008]\n",
    "z7 = np.polyfit(x, y7, 1)\n",
    "y7_hat = np.poly1d(z7)(x)"
   ]
  },
  {
   "cell_type": "code",
   "execution_count": 40,
   "id": "c3a1542e",
   "metadata": {},
   "outputs": [],
   "source": [
    "y8 =[15.47637795,11.77559055,10.04330709,9.059055118,8.924,8.704724409,8.940944882,9.098425197]\n",
    "z8 = np.polyfit(x, y8, 1)\n",
    "y8_hat = np.poly1d(z8)(x)"
   ]
  },
  {
   "cell_type": "code",
   "execution_count": 41,
   "id": "7588e95c",
   "metadata": {},
   "outputs": [],
   "source": [
    "import matplotlib.pyplot as plt\n",
    "import numpy as np"
   ]
  },
  {
   "cell_type": "code",
   "execution_count": 42,
   "id": "78e9846f",
   "metadata": {},
   "outputs": [
    {
     "data": {
      "text/plain": [
       "(0.0, 80.0, 0.0, 14.0)"
      ]
     },
     "execution_count": 42,
     "metadata": {},
     "output_type": "execute_result"
    },
    {
     "data": {
      "image/png": "[encoded data removed]",
      "text/plain": [
       "<Figure size 432x288 with 1 Axes>"
      ]
     },
     "metadata": {
      "needs_background": "light"
     },
     "output_type": "display_data"
    }
   ],
   "source": [
    "plt.plot(x,y1_hat, '.--',label ='0')\n",
    "plt.plot(x,y2_hat,'.--', label = '1')\n",
    "plt.plot(x,y3_hat,'.--', label = '1.5')\n",
    "plt.plot(x,y4_hat,'.--', label = '2')\n",
    "plt.plot(x,y5_hat,'.--', label = '2.5')\n",
    "plt.plot(x,y6_hat,'.--', label = '3')\n",
    "plt.plot(x,y7_hat,'.--', label = '3.5')\n",
    "plt.plot(x,y8_hat,'.--', label = '4')\n",
    "plt.legend()\n",
    "plt.axis((0,80,0,14))"
   ]
  },
  {
   "cell_type": "code",
   "execution_count": null,
   "id": "64298860",
   "metadata": {},
   "outputs": [],
   "source": []
  }
 ],
 "metadata": {
  "kernelspec": {
   "display_name": "Python 3",
   "language": "python",
   "name": "python3"
  },
  "language_info": {
   "codemirror_mode": {
    "name": "ipython",
    "version": 3
   },
   "file_extension": ".py",
   "mimetype": "text/x-python",
   "name": "python",
   "nbconvert_exporter": "python",
   "pygments_lexer": "ipython3",
   "version": "3.8.8"
  }
 },
 "nbformat": 4,
 "nbformat_minor": 5
}
