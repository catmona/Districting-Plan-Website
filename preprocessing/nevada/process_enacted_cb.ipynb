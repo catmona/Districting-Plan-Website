{
 "cells": [
  {
   "cell_type": "code",
   "execution_count": 1,
   "outputs": [],
   "source": [
    "import geopandas\n",
    "import pandas as pd\n",
    "import maup\n",
    "import sys\n",
    "\n",
    "import shapely.geometry\n",
    "\n",
    "sys.path.insert(0, '..')\n",
    "from read_config import read_yaml"
   ],
   "metadata": {
    "collapsed": false,
    "pycharm": {
     "name": "#%%\n"
    }
   }
  },
  {
   "cell_type": "code",
   "execution_count": 2,
   "outputs": [],
   "source": [
    "config = read_yaml('../preprocessing_config.yaml')\n",
    "main_path = '../../'\n",
    "districts_geo_path = main_path + config['PREPROCESSING']['DATA']['NEVADA']['UNPROCESSED']['GEOMETRY']['DISTRICTS']\n",
    "precincts_geo_path = main_path + config['PREPROCESSING']['DATA']['NEVADA']['UNPROCESSED']['GEOMETRY']['PRECINCTS']\n",
    "cb_geo_path = main_path + config['PREPROCESSING']['DATA']['NEVADA']['UNPROCESSED']['GEOMETRY']['CENSUS_BLOCKS']\n",
    "cb_info_path = main_path + config['PREPROCESSING']['DATA']['NEVADA']['UNPROCESSED']['INFORMATION']['CENSUS_BLOCKS']\n",
    "county_election_path = main_path + config['PREPROCESSING']['DATA']['NEVADA']['UNPROCESSED']['INFORMATION']['COUNTY_ELECTION']\n",
    "county_name_fips_path = main_path + config['PREPROCESSING']['DATA']['NEVADA']['UNPROCESSED']['INFORMATION']['COUNTY_NAME_FIPS']"
   ],
   "metadata": {
    "collapsed": false,
    "pycharm": {
     "name": "#%%\n"
    }
   }
  },
  {
   "cell_type": "code",
   "execution_count": 3,
   "outputs": [
    {
     "ename": "DriverError",
     "evalue": "../../preprocessing/data/nevada/unprocessed/precincts_geo.geojson: No such file or directory",
     "output_type": "error",
     "traceback": [
      "\u001B[0;31m---------------------------------------------------------------------------\u001B[0m",
      "\u001B[0;31mCPLE_OpenFailedError\u001B[0m                      Traceback (most recent call last)",
      "\u001B[0;32mfiona/_shim.pyx\u001B[0m in \u001B[0;36mfiona._shim.gdal_open_vector\u001B[0;34m()\u001B[0m\n",
      "\u001B[0;32mfiona/_err.pyx\u001B[0m in \u001B[0;36mfiona._err.exc_wrap_pointer\u001B[0;34m()\u001B[0m\n",
      "\u001B[0;31mCPLE_OpenFailedError\u001B[0m: ../../preprocessing/data/nevada/unprocessed/precincts_geo.geojson: No such file or directory",
      "\nDuring handling of the above exception, another exception occurred:\n",
      "\u001B[0;31mDriverError\u001B[0m                               Traceback (most recent call last)",
      "\u001B[0;32m/var/folders/25/vw8n1j616yz1zwrd2h0rc8100000gn/T/ipykernel_27759/4067372696.py\u001B[0m in \u001B[0;36m<module>\u001B[0;34m\u001B[0m\n\u001B[1;32m      1\u001B[0m \u001B[0mdistricts_geo\u001B[0m \u001B[0;34m=\u001B[0m \u001B[0mgeopandas\u001B[0m\u001B[0;34m.\u001B[0m\u001B[0mread_file\u001B[0m\u001B[0;34m(\u001B[0m\u001B[0mdistricts_geo_path\u001B[0m\u001B[0;34m)\u001B[0m\u001B[0;34m\u001B[0m\u001B[0;34m\u001B[0m\u001B[0m\n\u001B[0;32m----> 2\u001B[0;31m \u001B[0mprecincts_geo\u001B[0m \u001B[0;34m=\u001B[0m \u001B[0mgeopandas\u001B[0m\u001B[0;34m.\u001B[0m\u001B[0mread_file\u001B[0m\u001B[0;34m(\u001B[0m\u001B[0mprecincts_geo_path\u001B[0m\u001B[0;34m)\u001B[0m\u001B[0;34m\u001B[0m\u001B[0;34m\u001B[0m\u001B[0m\n\u001B[0m\u001B[1;32m      3\u001B[0m \u001B[0mcb_geo\u001B[0m \u001B[0;34m=\u001B[0m \u001B[0mgeopandas\u001B[0m\u001B[0;34m.\u001B[0m\u001B[0mread_file\u001B[0m\u001B[0;34m(\u001B[0m\u001B[0mcb_geo_path\u001B[0m\u001B[0;34m)\u001B[0m\u001B[0;34m\u001B[0m\u001B[0;34m\u001B[0m\u001B[0m\n\u001B[1;32m      4\u001B[0m \u001B[0mcb_info\u001B[0m \u001B[0;34m=\u001B[0m \u001B[0mpd\u001B[0m\u001B[0;34m.\u001B[0m\u001B[0mread_csv\u001B[0m\u001B[0;34m(\u001B[0m\u001B[0mcb_info_path\u001B[0m\u001B[0;34m)\u001B[0m\u001B[0;34m\u001B[0m\u001B[0;34m\u001B[0m\u001B[0m\n\u001B[1;32m      5\u001B[0m \u001B[0mcounty_election\u001B[0m \u001B[0;34m=\u001B[0m \u001B[0mpd\u001B[0m\u001B[0;34m.\u001B[0m\u001B[0mread_excel\u001B[0m\u001B[0;34m(\u001B[0m\u001B[0mcounty_election_path\u001B[0m\u001B[0;34m)\u001B[0m\u001B[0;34m\u001B[0m\u001B[0;34m\u001B[0m\u001B[0m\n",
      "\u001B[0;32m~/.conda/envs/preprocessing/lib/python3.9/site-packages/geopandas/io/file.py\u001B[0m in \u001B[0;36m_read_file\u001B[0;34m(filename, bbox, mask, rows, **kwargs)\u001B[0m\n\u001B[1;32m    199\u001B[0m \u001B[0;34m\u001B[0m\u001B[0m\n\u001B[1;32m    200\u001B[0m     \u001B[0;32mwith\u001B[0m \u001B[0mfiona_env\u001B[0m\u001B[0;34m(\u001B[0m\u001B[0;34m)\u001B[0m\u001B[0;34m:\u001B[0m\u001B[0;34m\u001B[0m\u001B[0;34m\u001B[0m\u001B[0m\n\u001B[0;32m--> 201\u001B[0;31m         \u001B[0;32mwith\u001B[0m \u001B[0mreader\u001B[0m\u001B[0;34m(\u001B[0m\u001B[0mpath_or_bytes\u001B[0m\u001B[0;34m,\u001B[0m \u001B[0;34m**\u001B[0m\u001B[0mkwargs\u001B[0m\u001B[0;34m)\u001B[0m \u001B[0;32mas\u001B[0m \u001B[0mfeatures\u001B[0m\u001B[0;34m:\u001B[0m\u001B[0;34m\u001B[0m\u001B[0;34m\u001B[0m\u001B[0m\n\u001B[0m\u001B[1;32m    202\u001B[0m \u001B[0;34m\u001B[0m\u001B[0m\n\u001B[1;32m    203\u001B[0m             \u001B[0;31m# In a future Fiona release the crs attribute of features will\u001B[0m\u001B[0;34m\u001B[0m\u001B[0;34m\u001B[0m\u001B[0m\n",
      "\u001B[0;32m~/.conda/envs/preprocessing/lib/python3.9/site-packages/fiona/env.py\u001B[0m in \u001B[0;36mwrapper\u001B[0;34m(*args, **kwargs)\u001B[0m\n\u001B[1;32m    406\u001B[0m     \u001B[0;32mdef\u001B[0m \u001B[0mwrapper\u001B[0m\u001B[0;34m(\u001B[0m\u001B[0;34m*\u001B[0m\u001B[0margs\u001B[0m\u001B[0;34m,\u001B[0m \u001B[0;34m**\u001B[0m\u001B[0mkwargs\u001B[0m\u001B[0;34m)\u001B[0m\u001B[0;34m:\u001B[0m\u001B[0;34m\u001B[0m\u001B[0;34m\u001B[0m\u001B[0m\n\u001B[1;32m    407\u001B[0m         \u001B[0;32mif\u001B[0m \u001B[0mlocal\u001B[0m\u001B[0;34m.\u001B[0m\u001B[0m_env\u001B[0m\u001B[0;34m:\u001B[0m\u001B[0;34m\u001B[0m\u001B[0;34m\u001B[0m\u001B[0m\n\u001B[0;32m--> 408\u001B[0;31m             \u001B[0;32mreturn\u001B[0m \u001B[0mf\u001B[0m\u001B[0;34m(\u001B[0m\u001B[0;34m*\u001B[0m\u001B[0margs\u001B[0m\u001B[0;34m,\u001B[0m \u001B[0;34m**\u001B[0m\u001B[0mkwargs\u001B[0m\u001B[0;34m)\u001B[0m\u001B[0;34m\u001B[0m\u001B[0;34m\u001B[0m\u001B[0m\n\u001B[0m\u001B[1;32m    409\u001B[0m         \u001B[0;32melse\u001B[0m\u001B[0;34m:\u001B[0m\u001B[0;34m\u001B[0m\u001B[0;34m\u001B[0m\u001B[0m\n\u001B[1;32m    410\u001B[0m             \u001B[0;32mif\u001B[0m \u001B[0misinstance\u001B[0m\u001B[0;34m(\u001B[0m\u001B[0margs\u001B[0m\u001B[0;34m[\u001B[0m\u001B[0;36m0\u001B[0m\u001B[0;34m]\u001B[0m\u001B[0;34m,\u001B[0m \u001B[0mstr\u001B[0m\u001B[0;34m)\u001B[0m\u001B[0;34m:\u001B[0m\u001B[0;34m\u001B[0m\u001B[0;34m\u001B[0m\u001B[0m\n",
      "\u001B[0;32m~/.conda/envs/preprocessing/lib/python3.9/site-packages/fiona/__init__.py\u001B[0m in \u001B[0;36mopen\u001B[0;34m(fp, mode, driver, schema, crs, encoding, layer, vfs, enabled_drivers, crs_wkt, **kwargs)\u001B[0m\n\u001B[1;32m    254\u001B[0m \u001B[0;34m\u001B[0m\u001B[0m\n\u001B[1;32m    255\u001B[0m         \u001B[0;32mif\u001B[0m \u001B[0mmode\u001B[0m \u001B[0;32min\u001B[0m \u001B[0;34m(\u001B[0m\u001B[0;34m'a'\u001B[0m\u001B[0;34m,\u001B[0m \u001B[0;34m'r'\u001B[0m\u001B[0;34m)\u001B[0m\u001B[0;34m:\u001B[0m\u001B[0;34m\u001B[0m\u001B[0;34m\u001B[0m\u001B[0m\n\u001B[0;32m--> 256\u001B[0;31m             c = Collection(path, mode, driver=driver, encoding=encoding,\n\u001B[0m\u001B[1;32m    257\u001B[0m                            layer=layer, enabled_drivers=enabled_drivers, **kwargs)\n\u001B[1;32m    258\u001B[0m         \u001B[0;32melif\u001B[0m \u001B[0mmode\u001B[0m \u001B[0;34m==\u001B[0m \u001B[0;34m'w'\u001B[0m\u001B[0;34m:\u001B[0m\u001B[0;34m\u001B[0m\u001B[0;34m\u001B[0m\u001B[0m\n",
      "\u001B[0;32m~/.conda/envs/preprocessing/lib/python3.9/site-packages/fiona/collection.py\u001B[0m in \u001B[0;36m__init__\u001B[0;34m(self, path, mode, driver, schema, crs, encoding, layer, vsi, archive, enabled_drivers, crs_wkt, ignore_fields, ignore_geometry, **kwargs)\u001B[0m\n\u001B[1;32m    160\u001B[0m             \u001B[0;32mif\u001B[0m \u001B[0mself\u001B[0m\u001B[0;34m.\u001B[0m\u001B[0mmode\u001B[0m \u001B[0;34m==\u001B[0m \u001B[0;34m'r'\u001B[0m\u001B[0;34m:\u001B[0m\u001B[0;34m\u001B[0m\u001B[0;34m\u001B[0m\u001B[0m\n\u001B[1;32m    161\u001B[0m                 \u001B[0mself\u001B[0m\u001B[0;34m.\u001B[0m\u001B[0msession\u001B[0m \u001B[0;34m=\u001B[0m \u001B[0mSession\u001B[0m\u001B[0;34m(\u001B[0m\u001B[0;34m)\u001B[0m\u001B[0;34m\u001B[0m\u001B[0;34m\u001B[0m\u001B[0m\n\u001B[0;32m--> 162\u001B[0;31m                 \u001B[0mself\u001B[0m\u001B[0;34m.\u001B[0m\u001B[0msession\u001B[0m\u001B[0;34m.\u001B[0m\u001B[0mstart\u001B[0m\u001B[0;34m(\u001B[0m\u001B[0mself\u001B[0m\u001B[0;34m,\u001B[0m \u001B[0;34m**\u001B[0m\u001B[0mkwargs\u001B[0m\u001B[0;34m)\u001B[0m\u001B[0;34m\u001B[0m\u001B[0;34m\u001B[0m\u001B[0m\n\u001B[0m\u001B[1;32m    163\u001B[0m             \u001B[0;32melif\u001B[0m \u001B[0mself\u001B[0m\u001B[0;34m.\u001B[0m\u001B[0mmode\u001B[0m \u001B[0;32min\u001B[0m \u001B[0;34m(\u001B[0m\u001B[0;34m'a'\u001B[0m\u001B[0;34m,\u001B[0m \u001B[0;34m'w'\u001B[0m\u001B[0;34m)\u001B[0m\u001B[0;34m:\u001B[0m\u001B[0;34m\u001B[0m\u001B[0;34m\u001B[0m\u001B[0m\n\u001B[1;32m    164\u001B[0m                 \u001B[0mself\u001B[0m\u001B[0;34m.\u001B[0m\u001B[0msession\u001B[0m \u001B[0;34m=\u001B[0m \u001B[0mWritingSession\u001B[0m\u001B[0;34m(\u001B[0m\u001B[0;34m)\u001B[0m\u001B[0;34m\u001B[0m\u001B[0;34m\u001B[0m\u001B[0m\n",
      "\u001B[0;32mfiona/ogrext.pyx\u001B[0m in \u001B[0;36mfiona.ogrext.Session.start\u001B[0;34m()\u001B[0m\n",
      "\u001B[0;32mfiona/_shim.pyx\u001B[0m in \u001B[0;36mfiona._shim.gdal_open_vector\u001B[0;34m()\u001B[0m\n",
      "\u001B[0;31mDriverError\u001B[0m: ../../preprocessing/data/nevada/unprocessed/precincts_geo.geojson: No such file or directory"
     ]
    }
   ],
   "source": [
    "districts_geo = geopandas.read_file(districts_geo_path)\n",
    "precincts_geo = geopandas.read_file(precincts_geo_path)\n",
    "cb_geo = geopandas.read_file(cb_geo_path)\n",
    "cb_info = pd.read_csv(cb_info_path)\n",
    "county_election = pd.read_excel(county_election_path)\n",
    "county_name_fips = pd.read_csv(county_name_fips_path)\n",
    "cb_district_assignment = pd.read_csv('../../preprocessing/data/nevada/unprocessed/BlockAssign_ST32_NV_CD.txt', sep=\"|\")"
   ],
   "metadata": {
    "collapsed": false,
    "pycharm": {
     "name": "#%%\n"
    }
   }
  },
  {
   "cell_type": "code",
   "execution_count": 261,
   "outputs": [],
   "source": [
    "cb_district_assignment.rename(columns={'BLOCKID':'blockId', 'DISTRICT':'districtId'},inplace= True)"
   ],
   "metadata": {
    "collapsed": false,
    "pycharm": {
     "name": "#%%\n"
    }
   }
  },
  {
   "cell_type": "code",
   "execution_count": 262,
   "outputs": [
    {
     "data": {
      "text/plain": "               blockId  districtId\n0      320019501001000           2\n1      320019501001001           2\n2      320019501001002           2\n3      320019501001003           2\n4      320019501001004           2\n...                ...         ...\n57404  325100010023015           2\n57405  325100010023016           2\n57406  325100010023017           2\n57407  325109900000001           2\n57408  325109900000002           2\n\n[57409 rows x 2 columns]",
      "text/html": "<div>\n<style scoped>\n    .dataframe tbody tr th:only-of-type {\n        vertical-align: middle;\n    }\n\n    .dataframe tbody tr th {\n        vertical-align: top;\n    }\n\n    .dataframe thead th {\n        text-align: right;\n    }\n</style>\n<table border=\"1\" class=\"dataframe\">\n  <thead>\n    <tr style=\"text-align: right;\">\n      <th></th>\n      <th>blockId</th>\n      <th>districtId</th>\n    </tr>\n  </thead>\n  <tbody>\n    <tr>\n      <th>0</th>\n      <td>320019501001000</td>\n      <td>2</td>\n    </tr>\n    <tr>\n      <th>1</th>\n      <td>320019501001001</td>\n      <td>2</td>\n    </tr>\n    <tr>\n      <th>2</th>\n      <td>320019501001002</td>\n      <td>2</td>\n    </tr>\n    <tr>\n      <th>3</th>\n      <td>320019501001003</td>\n      <td>2</td>\n    </tr>\n    <tr>\n      <th>4</th>\n      <td>320019501001004</td>\n      <td>2</td>\n    </tr>\n    <tr>\n      <th>...</th>\n      <td>...</td>\n      <td>...</td>\n    </tr>\n    <tr>\n      <th>57404</th>\n      <td>325100010023015</td>\n      <td>2</td>\n    </tr>\n    <tr>\n      <th>57405</th>\n      <td>325100010023016</td>\n      <td>2</td>\n    </tr>\n    <tr>\n      <th>57406</th>\n      <td>325100010023017</td>\n      <td>2</td>\n    </tr>\n    <tr>\n      <th>57407</th>\n      <td>325109900000001</td>\n      <td>2</td>\n    </tr>\n    <tr>\n      <th>57408</th>\n      <td>325109900000002</td>\n      <td>2</td>\n    </tr>\n  </tbody>\n</table>\n<p>57409 rows × 2 columns</p>\n</div>"
     },
     "execution_count": 262,
     "metadata": {},
     "output_type": "execute_result"
    }
   ],
   "source": [
    "cb_district_assignment"
   ],
   "metadata": {
    "collapsed": false,
    "pycharm": {
     "name": "#%%\n"
    }
   }
  },
  {
   "cell_type": "code",
   "execution_count": 263,
   "outputs": [],
   "source": [
    "districts_geo.to_crs(cb_geo.crs, inplace=True)\n",
    "precincts_geo.to_crs(cb_geo.crs, inplace=True)"
   ],
   "metadata": {
    "collapsed": false,
    "pycharm": {
     "name": "#%%\n"
    }
   }
  },
  {
   "cell_type": "markdown",
   "source": [
    "### Clean and prepare dataframes for merges"
   ],
   "metadata": {
    "collapsed": false,
    "pycharm": {
     "name": "#%% md\n"
    }
   }
  },
  {
   "cell_type": "code",
   "execution_count": 128,
   "outputs": [
    {
     "name": "stdout",
     "output_type": "stream",
     "text": [
      "Index(['STATEFP20', 'COUNTYFP20', 'TRACTCE20', 'BLOCKCE20', 'GEOID20',\n",
      "       'NAME20', 'MTFCC20', 'UR20', 'UACE20', 'UATYPE20', 'FUNCSTAT20',\n",
      "       'ALAND20', 'AWATER20', 'INTPTLAT20', 'INTPTLON20', 'geometry'],\n",
      "      dtype='object')\n",
      "Index(['GEO_ID', 'NAME', 'P1_001N', 'P1_002N', 'P1_003N', 'P1_004N', 'P1_005N',\n",
      "       'P1_006N', 'P1_007N', 'P1_008N', 'P1_009N', 'P1_010N', 'P1_011N',\n",
      "       'P1_012N', 'P1_013N', 'P1_014N', 'P1_015N', 'P1_016N', 'P1_017N',\n",
      "       'P1_018N', 'P1_019N', 'P1_020N', 'P1_021N', 'P1_022N', 'P1_023N',\n",
      "       'P1_024N', 'P1_025N', 'P1_026N', 'P1_027N', 'P1_028N', 'P1_029N',\n",
      "       'P1_030N', 'P1_031N', 'P1_032N', 'P1_033N', 'P1_034N', 'P1_035N',\n",
      "       'P1_036N', 'P1_037N', 'P1_038N', 'P1_039N', 'P1_040N', 'P1_041N',\n",
      "       'P1_042N', 'P1_043N', 'P1_044N', 'P1_045N', 'P1_046N', 'P1_047N',\n",
      "       'P1_048N', 'P1_049N', 'P1_050N', 'P1_051N', 'P1_052N', 'P1_053N',\n",
      "       'P1_054N', 'P1_055N', 'P1_056N', 'P1_057N', 'P1_058N', 'P1_059N',\n",
      "       'P1_060N', 'P1_061N', 'P1_062N', 'P1_063N', 'P1_064N', 'P1_065N',\n",
      "       'P1_066N', 'P1_067N', 'P1_068N', 'P1_069N', 'P1_070N', 'P1_071N'],\n",
      "      dtype='object')\n"
     ]
    },
    {
     "name": "stderr",
     "output_type": "stream",
     "text": [
      "/Users/kostadindev/.conda/envs/preprocessing/lib/python3.9/site-packages/pandas/core/frame.py:5039: SettingWithCopyWarning: \n",
      "A value is trying to be set on a copy of a slice from a DataFrame\n",
      "\n",
      "See the caveats in the documentation: https://pandas.pydata.org/pandas-docs/stable/user_guide/indexing.html#returning-a-view-versus-a-copy\n",
      "  return super().rename(\n"
     ]
    },
    {
     "name": "stdout",
     "output_type": "stream",
     "text": [
      "                        blockId  population  white  black  asian\n",
      "1      1000000US320019501001000           0      0      0      0\n",
      "2      1000000US320019501001001           0      0      0      0\n",
      "3      1000000US320019501001002           0      0      0      0\n",
      "4      1000000US320019501001003           0      0      0      0\n",
      "5      1000000US320019501001004           1      0      0      0\n",
      "...                         ...         ...    ...    ...    ...\n",
      "57405  1000000US325100010023015         134     89      0      0\n",
      "57406  1000000US325100010023016          73     54      1      3\n",
      "57407  1000000US325100010023017          24      9      0      0\n",
      "57408  1000000US325109900000001           0      0      0      0\n",
      "57409  1000000US325109900000002           0      0      0      0\n",
      "\n",
      "[57409 rows x 5 columns]\n"
     ]
    }
   ],
   "source": [],
   "metadata": {
    "collapsed": false,
    "pycharm": {
     "name": "#%%\n"
    }
   }
  },
  {
   "cell_type": "code",
   "execution_count": 264,
   "outputs": [
    {
     "name": "stdout",
     "output_type": "stream",
     "text": [
      "Index(['STATEFP20', 'COUNTYFP20', 'TRACTCE20', 'BLOCKCE20', 'GEOID20',\n",
      "       'NAME20', 'MTFCC20', 'UR20', 'UACE20', 'UATYPE20', 'FUNCSTAT20',\n",
      "       'ALAND20', 'AWATER20', 'INTPTLAT20', 'INTPTLON20', 'geometry'],\n",
      "      dtype='object')\n",
      "Index(['GEO_ID', 'NAME', 'P1_001N', 'P1_002N', 'P1_003N', 'P1_004N', 'P1_005N',\n",
      "       'P1_006N', 'P1_007N', 'P1_008N', 'P1_009N', 'P1_010N', 'P1_011N',\n",
      "       'P1_012N', 'P1_013N', 'P1_014N', 'P1_015N', 'P1_016N', 'P1_017N',\n",
      "       'P1_018N', 'P1_019N', 'P1_020N', 'P1_021N', 'P1_022N', 'P1_023N',\n",
      "       'P1_024N', 'P1_025N', 'P1_026N', 'P1_027N', 'P1_028N', 'P1_029N',\n",
      "       'P1_030N', 'P1_031N', 'P1_032N', 'P1_033N', 'P1_034N', 'P1_035N',\n",
      "       'P1_036N', 'P1_037N', 'P1_038N', 'P1_039N', 'P1_040N', 'P1_041N',\n",
      "       'P1_042N', 'P1_043N', 'P1_044N', 'P1_045N', 'P1_046N', 'P1_047N',\n",
      "       'P1_048N', 'P1_049N', 'P1_050N', 'P1_051N', 'P1_052N', 'P1_053N',\n",
      "       'P1_054N', 'P1_055N', 'P1_056N', 'P1_057N', 'P1_058N', 'P1_059N',\n",
      "       'P1_060N', 'P1_061N', 'P1_062N', 'P1_063N', 'P1_064N', 'P1_065N',\n",
      "       'P1_066N', 'P1_067N', 'P1_068N', 'P1_069N', 'P1_070N', 'P1_071N'],\n",
      "      dtype='object')\n",
      "                        blockId  population  white  black  asian\n",
      "1      1000000US320019501001000           0      0      0      0\n",
      "2      1000000US320019501001001           0      0      0      0\n",
      "3      1000000US320019501001002           0      0      0      0\n",
      "4      1000000US320019501001003           0      0      0      0\n",
      "5      1000000US320019501001004           1      0      0      0\n",
      "...                         ...         ...    ...    ...    ...\n",
      "57405  1000000US325100010023015         134     89      0      0\n",
      "57406  1000000US325100010023016          73     54      1      3\n",
      "57407  1000000US325100010023017          24      9      0      0\n",
      "57408  1000000US325109900000001           0      0      0      0\n",
      "57409  1000000US325109900000002           0      0      0      0\n",
      "\n",
      "[57409 rows x 5 columns]\n"
     ]
    }
   ],
   "source": [
    "print(cb_geo.columns)\n",
    "print(cb_info.columns)\n",
    "cb_geo = cb_geo[['GEOID20','COUNTYFP20','geometry']]\n",
    "cb_geo.rename(columns={'GEOID20': 'blockId','COUNTYFP20':'fips'},inplace = True)\n",
    "cb_info = cb_info[['GEO_ID', 'P1_001N', 'P1_003N', 'P1_004N', 'P1_006N']]\n",
    "cb_info.rename(columns= {'GEO_ID':'blockId', 'P1_001N':'population', 'P1_003N':'white', 'P1_004N':'black', 'P1_006N':'asian'},inplace= True)\n",
    "cb_info = cb_info.iloc[1:]\n",
    "cb_info['population'] = cb_info['population'].apply(int)\n",
    "cb_info['white'] = cb_info['white'].apply(int)\n",
    "cb_info['black'] = cb_info['black'].apply(int)\n",
    "cb_info['asian'] = cb_info['asian'].apply(int)\n",
    "print(cb_info)\n",
    "cb_info['blockId'] = cb_info['blockId'].apply(lambda x: x.split('US')[1])\n",
    "cb_geo['blockId'] = cb_geo['blockId'].apply(lambda col: str(col))\n",
    "cb_info['blockId'] = cb_geo['blockId'].apply(lambda col: str(col))\n",
    "\n",
    "districts_geo = districts_geo[['CD116FP', 'geometry']]\n",
    "districts_geo.rename(columns={'CD116FP': 'districtId'},inplace = True)\n",
    "districts_geo['districtId'] = districts_geo['districtId'].apply(int)\n",
    "# precincts_geo = precincts_geo[['GEOID10', 'geometry']]\n",
    "# precincts_geo.rename(columns={'GEOID10': 'precinctId'}, inplace=True)\n",
    "cb_district_assignment.rename(columns={'BLOCKID':'blockId', 'DISTRICT':'districtId'},inplace= True)\n",
    "cb_district_assignment['blockId'] = cb_district_assignment['blockId'].apply(str)\n",
    "county_election = county_election[['county','Democrat','Republican', 'Total']]\n",
    "county_election.rename(columns = {'Democrat':'democrat', 'Republican':'republican', 'Total':'voters'},inplace = True)\n",
    "county_name_fips['county'] = county_name_fips['county'].apply(lambda x: x.rsplit(' ', 1)[0])\n",
    "county_name_fips['fips'] = county_name_fips['fips'].apply(lambda x: int(x.split(' ')[0][2:]))\n",
    "count_name_fips = county_name_fips.drop(columns=['state'])\n",
    "county_election = county_election.merge(county_name_fips, on='county')"
   ],
   "metadata": {
    "collapsed": false,
    "pycharm": {
     "name": "#%%\n"
    }
   }
  },
  {
   "cell_type": "code",
   "execution_count": 265,
   "outputs": [
    {
     "data": {
      "text/plain": "               blockId  districtId\n0      320019501001000           2\n1      320019501001001           2\n2      320019501001002           2\n3      320019501001003           2\n4      320019501001004           2\n...                ...         ...\n57404  325100010023015           2\n57405  325100010023016           2\n57406  325100010023017           2\n57407  325109900000001           2\n57408  325109900000002           2\n\n[57409 rows x 2 columns]",
      "text/html": "<div>\n<style scoped>\n    .dataframe tbody tr th:only-of-type {\n        vertical-align: middle;\n    }\n\n    .dataframe tbody tr th {\n        vertical-align: top;\n    }\n\n    .dataframe thead th {\n        text-align: right;\n    }\n</style>\n<table border=\"1\" class=\"dataframe\">\n  <thead>\n    <tr style=\"text-align: right;\">\n      <th></th>\n      <th>blockId</th>\n      <th>districtId</th>\n    </tr>\n  </thead>\n  <tbody>\n    <tr>\n      <th>0</th>\n      <td>320019501001000</td>\n      <td>2</td>\n    </tr>\n    <tr>\n      <th>1</th>\n      <td>320019501001001</td>\n      <td>2</td>\n    </tr>\n    <tr>\n      <th>2</th>\n      <td>320019501001002</td>\n      <td>2</td>\n    </tr>\n    <tr>\n      <th>3</th>\n      <td>320019501001003</td>\n      <td>2</td>\n    </tr>\n    <tr>\n      <th>4</th>\n      <td>320019501001004</td>\n      <td>2</td>\n    </tr>\n    <tr>\n      <th>...</th>\n      <td>...</td>\n      <td>...</td>\n    </tr>\n    <tr>\n      <th>57404</th>\n      <td>325100010023015</td>\n      <td>2</td>\n    </tr>\n    <tr>\n      <th>57405</th>\n      <td>325100010023016</td>\n      <td>2</td>\n    </tr>\n    <tr>\n      <th>57406</th>\n      <td>325100010023017</td>\n      <td>2</td>\n    </tr>\n    <tr>\n      <th>57407</th>\n      <td>325109900000001</td>\n      <td>2</td>\n    </tr>\n    <tr>\n      <th>57408</th>\n      <td>325109900000002</td>\n      <td>2</td>\n    </tr>\n  </tbody>\n</table>\n<p>57409 rows × 2 columns</p>\n</div>"
     },
     "execution_count": 265,
     "metadata": {},
     "output_type": "execute_result"
    }
   ],
   "source": [
    "cb_district_assignment"
   ],
   "metadata": {
    "collapsed": false,
    "pycharm": {
     "name": "#%%\n"
    }
   }
  },
  {
   "cell_type": "markdown",
   "source": [
    "### Approximate democrats and republicans per census block using county data"
   ],
   "metadata": {
    "collapsed": false,
    "pycharm": {
     "name": "#%% md\n"
    }
   }
  },
  {
   "cell_type": "code",
   "execution_count": 266,
   "outputs": [],
   "source": [
    "cb_geo['fips'] =cb_geo['fips'].apply(int)\n",
    "county_election['fips'] = county_election['fips'].apply(int)\n",
    "cb_per_county = cb_geo[['blockId','fips']].groupby(by='fips').count()\n",
    "cb_per_county.reset_index(level=0, inplace = True)\n",
    "cb_per_county.rename(columns={'blockId':'cbCount'},inplace = True)\n",
    "county_election = county_election.merge(cb_per_county, on='fips')\n",
    "county_election['democrat'] = county_election['democrat']/county_election['cbCount']\n",
    "county_election['republican'] = county_election['republican']/county_election['cbCount']\n",
    "county_election['voters'] = county_election['voters']/county_election['cbCount']\n",
    "county_election = county_election[['fips','democrat','republican','voters']]"
   ],
   "metadata": {
    "collapsed": false,
    "pycharm": {
     "name": "#%%\n"
    }
   }
  },
  {
   "cell_type": "markdown",
   "source": [
    "### Merge geometric data with demographics and election data"
   ],
   "metadata": {
    "collapsed": false,
    "pycharm": {
     "name": "#%% md\n"
    }
   }
  },
  {
   "cell_type": "code",
   "execution_count": 273,
   "outputs": [
    {
     "name": "stdout",
     "output_type": "stream",
     "text": [
      "blockId       0\n",
      "fips          0\n",
      "geometry      0\n",
      "population    0\n",
      "white         0\n",
      "black         0\n",
      "asian         0\n",
      "democrat      0\n",
      "republican    0\n",
      "voters        0\n",
      "dtype: int64\n",
      "57408\n"
     ]
    }
   ],
   "source": [
    "cb = cb_geo.merge(cb_info, on='blockId').merge(county_election, on='fips')\n",
    "print(cb.isna().sum())\n",
    "print(len(cb))\n",
    "assert (cb.isna().sum().sum() == 0), \"imperfect matching in merging\""
   ],
   "metadata": {
    "collapsed": false,
    "pycharm": {
     "name": "#%%\n"
    }
   }
  },
  {
   "cell_type": "code",
   "execution_count": 274,
   "outputs": [],
   "source": [
    "### Assign census blocks to districts and precincts"
   ],
   "metadata": {
    "collapsed": false,
    "pycharm": {
     "name": "#%%\n"
    }
   }
  },
  {
   "cell_type": "code",
   "execution_count": 275,
   "outputs": [],
   "source": [
    "# assignment_cb_districts = maup.assign(cb, districts_geo)\n",
    "# assert (assignment_cb_districts.isna().sum() == 0), \"Error in census block to district assignment\"\n",
    "# cb['district'] = assignment_cb_districts\n",
    "# assignment_cb_precincts = maup.assign(cb, precincts_geo)\n",
    "# assert (assignment_cb_precincts.isna().sum() == 0), \"Error in census block to precinct assignment\"\n",
    "# cb['precinct'] = assignment_cb_precincts\n",
    "cb_district_assignment\n",
    "cb =cb.merge(cb_district_assignment, on='blockId')"
   ],
   "metadata": {
    "collapsed": false,
    "pycharm": {
     "name": "#%%\n"
    }
   }
  },
  {
   "cell_type": "code",
   "execution_count": 276,
   "outputs": [
    {
     "data": {
      "text/plain": "               blockId  fips  \\\n0      320019507001049     1   \n1      320019506003003     1   \n2      320019507003042     1   \n3      320019506002042     1   \n4      320019503021028     1   \n...                ...   ...   \n57403  320299702003087    29   \n57404  320299702001106    29   \n57405  320299702001043    29   \n57406  320299702003107    29   \n57407  320299702001096    29   \n\n                                                geometry  population  white  \\\n0      POLYGON ((-118.83864 39.39869, -118.83857 39.3...           0      0   \n1      POLYGON ((-118.78911 39.49677, -118.78908 39.4...           0      0   \n2      POLYGON ((-118.98757 39.49546, -118.98752 39.4...           0      0   \n3      POLYGON ((-118.82618 39.48281, -118.82410 39.4...           0      0   \n4      POLYGON ((-118.78459 39.46755, -118.78450 39.4...           0      0   \n...                                                  ...         ...    ...   \n57403  POLYGON ((-119.64877 39.29807, -119.64864 39.2...          33      2   \n57404  POLYGON ((-119.63431 39.51268, -119.63385 39.5...           0      0   \n57405  POLYGON ((-119.43972 39.50075, -119.43955 39.5...           0      0   \n57406  POLYGON ((-119.67909 39.27594, -119.67906 39.2...           8      8   \n57407  POLYGON ((-119.64774 39.50972, -119.64741 39.5...          13     13   \n\n       black  asian  democrat  republican    voters  districtId  \n0          0      0  1.779045    5.443336  9.289380           2  \n1          0      0  1.779045    5.443336  9.289380           2  \n2          0      0  1.779045    5.443336  9.289380           2  \n3          0      0  1.779045    5.443336  9.289380           2  \n4          0      0  1.779045    5.443336  9.289380           2  \n...      ...    ...       ...         ...       ...         ...  \n57403      1      0  1.938503    4.064171  8.125668           2  \n57404      0      0  1.938503    4.064171  8.125668           2  \n57405      0      0  1.938503    4.064171  8.125668           2  \n57406      0      0  1.938503    4.064171  8.125668           2  \n57407      0      0  1.938503    4.064171  8.125668           2  \n\n[57408 rows x 11 columns]",
      "text/html": "<div>\n<style scoped>\n    .dataframe tbody tr th:only-of-type {\n        vertical-align: middle;\n    }\n\n    .dataframe tbody tr th {\n        vertical-align: top;\n    }\n\n    .dataframe thead th {\n        text-align: right;\n    }\n</style>\n<table border=\"1\" class=\"dataframe\">\n  <thead>\n    <tr style=\"text-align: right;\">\n      <th></th>\n      <th>blockId</th>\n      <th>fips</th>\n      <th>geometry</th>\n      <th>population</th>\n      <th>white</th>\n      <th>black</th>\n      <th>asian</th>\n      <th>democrat</th>\n      <th>republican</th>\n      <th>voters</th>\n      <th>districtId</th>\n    </tr>\n  </thead>\n  <tbody>\n    <tr>\n      <th>0</th>\n      <td>320019507001049</td>\n      <td>1</td>\n      <td>POLYGON ((-118.83864 39.39869, -118.83857 39.3...</td>\n      <td>0</td>\n      <td>0</td>\n      <td>0</td>\n      <td>0</td>\n      <td>1.779045</td>\n      <td>5.443336</td>\n      <td>9.289380</td>\n      <td>2</td>\n    </tr>\n    <tr>\n      <th>1</th>\n      <td>320019506003003</td>\n      <td>1</td>\n      <td>POLYGON ((-118.78911 39.49677, -118.78908 39.4...</td>\n      <td>0</td>\n      <td>0</td>\n      <td>0</td>\n      <td>0</td>\n      <td>1.779045</td>\n      <td>5.443336</td>\n      <td>9.289380</td>\n      <td>2</td>\n    </tr>\n    <tr>\n      <th>2</th>\n      <td>320019507003042</td>\n      <td>1</td>\n      <td>POLYGON ((-118.98757 39.49546, -118.98752 39.4...</td>\n      <td>0</td>\n      <td>0</td>\n      <td>0</td>\n      <td>0</td>\n      <td>1.779045</td>\n      <td>5.443336</td>\n      <td>9.289380</td>\n      <td>2</td>\n    </tr>\n    <tr>\n      <th>3</th>\n      <td>320019506002042</td>\n      <td>1</td>\n      <td>POLYGON ((-118.82618 39.48281, -118.82410 39.4...</td>\n      <td>0</td>\n      <td>0</td>\n      <td>0</td>\n      <td>0</td>\n      <td>1.779045</td>\n      <td>5.443336</td>\n      <td>9.289380</td>\n      <td>2</td>\n    </tr>\n    <tr>\n      <th>4</th>\n      <td>320019503021028</td>\n      <td>1</td>\n      <td>POLYGON ((-118.78459 39.46755, -118.78450 39.4...</td>\n      <td>0</td>\n      <td>0</td>\n      <td>0</td>\n      <td>0</td>\n      <td>1.779045</td>\n      <td>5.443336</td>\n      <td>9.289380</td>\n      <td>2</td>\n    </tr>\n    <tr>\n      <th>...</th>\n      <td>...</td>\n      <td>...</td>\n      <td>...</td>\n      <td>...</td>\n      <td>...</td>\n      <td>...</td>\n      <td>...</td>\n      <td>...</td>\n      <td>...</td>\n      <td>...</td>\n      <td>...</td>\n    </tr>\n    <tr>\n      <th>57403</th>\n      <td>320299702003087</td>\n      <td>29</td>\n      <td>POLYGON ((-119.64877 39.29807, -119.64864 39.2...</td>\n      <td>33</td>\n      <td>2</td>\n      <td>1</td>\n      <td>0</td>\n      <td>1.938503</td>\n      <td>4.064171</td>\n      <td>8.125668</td>\n      <td>2</td>\n    </tr>\n    <tr>\n      <th>57404</th>\n      <td>320299702001106</td>\n      <td>29</td>\n      <td>POLYGON ((-119.63431 39.51268, -119.63385 39.5...</td>\n      <td>0</td>\n      <td>0</td>\n      <td>0</td>\n      <td>0</td>\n      <td>1.938503</td>\n      <td>4.064171</td>\n      <td>8.125668</td>\n      <td>2</td>\n    </tr>\n    <tr>\n      <th>57405</th>\n      <td>320299702001043</td>\n      <td>29</td>\n      <td>POLYGON ((-119.43972 39.50075, -119.43955 39.5...</td>\n      <td>0</td>\n      <td>0</td>\n      <td>0</td>\n      <td>0</td>\n      <td>1.938503</td>\n      <td>4.064171</td>\n      <td>8.125668</td>\n      <td>2</td>\n    </tr>\n    <tr>\n      <th>57406</th>\n      <td>320299702003107</td>\n      <td>29</td>\n      <td>POLYGON ((-119.67909 39.27594, -119.67906 39.2...</td>\n      <td>8</td>\n      <td>8</td>\n      <td>0</td>\n      <td>0</td>\n      <td>1.938503</td>\n      <td>4.064171</td>\n      <td>8.125668</td>\n      <td>2</td>\n    </tr>\n    <tr>\n      <th>57407</th>\n      <td>320299702001096</td>\n      <td>29</td>\n      <td>POLYGON ((-119.64774 39.50972, -119.64741 39.5...</td>\n      <td>13</td>\n      <td>13</td>\n      <td>0</td>\n      <td>0</td>\n      <td>1.938503</td>\n      <td>4.064171</td>\n      <td>8.125668</td>\n      <td>2</td>\n    </tr>\n  </tbody>\n</table>\n<p>57408 rows × 11 columns</p>\n</div>"
     },
     "execution_count": 276,
     "metadata": {},
     "output_type": "execute_result"
    }
   ],
   "source": [
    "cb"
   ],
   "metadata": {
    "collapsed": false,
    "pycharm": {
     "name": "#%%\n"
    }
   }
  },
  {
   "cell_type": "code",
   "execution_count": 277,
   "outputs": [
    {
     "data": {
      "text/plain": "               blockId  districtId districtingId  population  white  black  \\\n0      320019507001049           2       enacted           0      0      0   \n1      320019506003003           2       enacted           0      0      0   \n2      320019507003042           2       enacted           0      0      0   \n3      320019506002042           2       enacted           0      0      0   \n4      320019503021028           2       enacted           0      0      0   \n...                ...         ...           ...         ...    ...    ...   \n57403  320299702003087           2       enacted          33      2      1   \n57404  320299702001106           2       enacted           0      0      0   \n57405  320299702001043           2       enacted           0      0      0   \n57406  320299702003107           2       enacted           8      8      0   \n57407  320299702001096           2       enacted          13     13      0   \n\n       asian  democrat  republican    voters  \\\n0          0  1.779045    5.443336  9.289380   \n1          0  1.779045    5.443336  9.289380   \n2          0  1.779045    5.443336  9.289380   \n3          0  1.779045    5.443336  9.289380   \n4          0  1.779045    5.443336  9.289380   \n...      ...       ...         ...       ...   \n57403      0  1.938503    4.064171  8.125668   \n57404      0  1.938503    4.064171  8.125668   \n57405      0  1.938503    4.064171  8.125668   \n57406      0  1.938503    4.064171  8.125668   \n57407      0  1.938503    4.064171  8.125668   \n\n                                                geometry  \n0      POLYGON ((-118.83864 39.39869, -118.83857 39.3...  \n1      POLYGON ((-118.78911 39.49677, -118.78908 39.4...  \n2      POLYGON ((-118.98757 39.49546, -118.98752 39.4...  \n3      POLYGON ((-118.82618 39.48281, -118.82410 39.4...  \n4      POLYGON ((-118.78459 39.46755, -118.78450 39.4...  \n...                                                  ...  \n57403  POLYGON ((-119.64877 39.29807, -119.64864 39.2...  \n57404  POLYGON ((-119.63431 39.51268, -119.63385 39.5...  \n57405  POLYGON ((-119.43972 39.50075, -119.43955 39.5...  \n57406  POLYGON ((-119.67909 39.27594, -119.67906 39.2...  \n57407  POLYGON ((-119.64774 39.50972, -119.64741 39.5...  \n\n[57408 rows x 11 columns]",
      "text/html": "<div>\n<style scoped>\n    .dataframe tbody tr th:only-of-type {\n        vertical-align: middle;\n    }\n\n    .dataframe tbody tr th {\n        vertical-align: top;\n    }\n\n    .dataframe thead th {\n        text-align: right;\n    }\n</style>\n<table border=\"1\" class=\"dataframe\">\n  <thead>\n    <tr style=\"text-align: right;\">\n      <th></th>\n      <th>blockId</th>\n      <th>districtId</th>\n      <th>districtingId</th>\n      <th>population</th>\n      <th>white</th>\n      <th>black</th>\n      <th>asian</th>\n      <th>democrat</th>\n      <th>republican</th>\n      <th>voters</th>\n      <th>geometry</th>\n    </tr>\n  </thead>\n  <tbody>\n    <tr>\n      <th>0</th>\n      <td>320019507001049</td>\n      <td>2</td>\n      <td>enacted</td>\n      <td>0</td>\n      <td>0</td>\n      <td>0</td>\n      <td>0</td>\n      <td>1.779045</td>\n      <td>5.443336</td>\n      <td>9.289380</td>\n      <td>POLYGON ((-118.83864 39.39869, -118.83857 39.3...</td>\n    </tr>\n    <tr>\n      <th>1</th>\n      <td>320019506003003</td>\n      <td>2</td>\n      <td>enacted</td>\n      <td>0</td>\n      <td>0</td>\n      <td>0</td>\n      <td>0</td>\n      <td>1.779045</td>\n      <td>5.443336</td>\n      <td>9.289380</td>\n      <td>POLYGON ((-118.78911 39.49677, -118.78908 39.4...</td>\n    </tr>\n    <tr>\n      <th>2</th>\n      <td>320019507003042</td>\n      <td>2</td>\n      <td>enacted</td>\n      <td>0</td>\n      <td>0</td>\n      <td>0</td>\n      <td>0</td>\n      <td>1.779045</td>\n      <td>5.443336</td>\n      <td>9.289380</td>\n      <td>POLYGON ((-118.98757 39.49546, -118.98752 39.4...</td>\n    </tr>\n    <tr>\n      <th>3</th>\n      <td>320019506002042</td>\n      <td>2</td>\n      <td>enacted</td>\n      <td>0</td>\n      <td>0</td>\n      <td>0</td>\n      <td>0</td>\n      <td>1.779045</td>\n      <td>5.443336</td>\n      <td>9.289380</td>\n      <td>POLYGON ((-118.82618 39.48281, -118.82410 39.4...</td>\n    </tr>\n    <tr>\n      <th>4</th>\n      <td>320019503021028</td>\n      <td>2</td>\n      <td>enacted</td>\n      <td>0</td>\n      <td>0</td>\n      <td>0</td>\n      <td>0</td>\n      <td>1.779045</td>\n      <td>5.443336</td>\n      <td>9.289380</td>\n      <td>POLYGON ((-118.78459 39.46755, -118.78450 39.4...</td>\n    </tr>\n    <tr>\n      <th>...</th>\n      <td>...</td>\n      <td>...</td>\n      <td>...</td>\n      <td>...</td>\n      <td>...</td>\n      <td>...</td>\n      <td>...</td>\n      <td>...</td>\n      <td>...</td>\n      <td>...</td>\n      <td>...</td>\n    </tr>\n    <tr>\n      <th>57403</th>\n      <td>320299702003087</td>\n      <td>2</td>\n      <td>enacted</td>\n      <td>33</td>\n      <td>2</td>\n      <td>1</td>\n      <td>0</td>\n      <td>1.938503</td>\n      <td>4.064171</td>\n      <td>8.125668</td>\n      <td>POLYGON ((-119.64877 39.29807, -119.64864 39.2...</td>\n    </tr>\n    <tr>\n      <th>57404</th>\n      <td>320299702001106</td>\n      <td>2</td>\n      <td>enacted</td>\n      <td>0</td>\n      <td>0</td>\n      <td>0</td>\n      <td>0</td>\n      <td>1.938503</td>\n      <td>4.064171</td>\n      <td>8.125668</td>\n      <td>POLYGON ((-119.63431 39.51268, -119.63385 39.5...</td>\n    </tr>\n    <tr>\n      <th>57405</th>\n      <td>320299702001043</td>\n      <td>2</td>\n      <td>enacted</td>\n      <td>0</td>\n      <td>0</td>\n      <td>0</td>\n      <td>0</td>\n      <td>1.938503</td>\n      <td>4.064171</td>\n      <td>8.125668</td>\n      <td>POLYGON ((-119.43972 39.50075, -119.43955 39.5...</td>\n    </tr>\n    <tr>\n      <th>57406</th>\n      <td>320299702003107</td>\n      <td>2</td>\n      <td>enacted</td>\n      <td>8</td>\n      <td>8</td>\n      <td>0</td>\n      <td>0</td>\n      <td>1.938503</td>\n      <td>4.064171</td>\n      <td>8.125668</td>\n      <td>POLYGON ((-119.67909 39.27594, -119.67906 39.2...</td>\n    </tr>\n    <tr>\n      <th>57407</th>\n      <td>320299702001096</td>\n      <td>2</td>\n      <td>enacted</td>\n      <td>13</td>\n      <td>13</td>\n      <td>0</td>\n      <td>0</td>\n      <td>1.938503</td>\n      <td>4.064171</td>\n      <td>8.125668</td>\n      <td>POLYGON ((-119.64774 39.50972, -119.64741 39.5...</td>\n    </tr>\n  </tbody>\n</table>\n<p>57408 rows × 11 columns</p>\n</div>"
     },
     "execution_count": 277,
     "metadata": {},
     "output_type": "execute_result"
    }
   ],
   "source": [
    "#districts_geo['index'] = districts_geo.index\n",
    "#cb = cb.merge(districts_geo[['districtId', 'index']], left_on='districtId', right_on='index')\n",
    "# precincts_geo['index'] = precincts_geo.index\n",
    "# cb = cb.merge(precincts_geo[['precinctId', 'index']], left_on='precinct', right_on='index').drop(\n",
    "#     columns=['index', 'precinct'])\n",
    "cb['districtingId'] = 'enacted'\n",
    "cb = cb[['blockId', 'districtId', 'districtingId', 'population', 'white', 'black', 'asian',\n",
    "         'democrat','republican','voters','geometry']]\n",
    "cb"
   ],
   "metadata": {
    "collapsed": false,
    "pycharm": {
     "name": "#%%\n"
    }
   }
  },
  {
   "cell_type": "code",
   "execution_count": 278,
   "outputs": [
    {
     "data": {
      "text/plain": "               blockId  districtId districtingId  population  white  black  \\\n0      320019507001049           2       enacted           0      0      0   \n1      320019506003003           2       enacted           0      0      0   \n2      320019507003042           2       enacted           0      0      0   \n3      320019506002042           2       enacted           0      0      0   \n4      320019503021028           2       enacted           0      0      0   \n...                ...         ...           ...         ...    ...    ...   \n57403  320299702003087           2       enacted          33      2      1   \n57404  320299702001106           2       enacted           0      0      0   \n57405  320299702001043           2       enacted           0      0      0   \n57406  320299702003107           2       enacted           8      8      0   \n57407  320299702001096           2       enacted          13     13      0   \n\n       asian  democrat  republican    voters  \\\n0          0  1.779045    5.443336  9.289380   \n1          0  1.779045    5.443336  9.289380   \n2          0  1.779045    5.443336  9.289380   \n3          0  1.779045    5.443336  9.289380   \n4          0  1.779045    5.443336  9.289380   \n...      ...       ...         ...       ...   \n57403      0  1.938503    4.064171  8.125668   \n57404      0  1.938503    4.064171  8.125668   \n57405      0  1.938503    4.064171  8.125668   \n57406      0  1.938503    4.064171  8.125668   \n57407      0  1.938503    4.064171  8.125668   \n\n                                                geometry  \n0      POLYGON ((-118.83864 39.39869, -118.83857 39.3...  \n1      POLYGON ((-118.78911 39.49677, -118.78908 39.4...  \n2      POLYGON ((-118.98757 39.49546, -118.98752 39.4...  \n3      POLYGON ((-118.82618 39.48281, -118.82410 39.4...  \n4      POLYGON ((-118.78459 39.46755, -118.78450 39.4...  \n...                                                  ...  \n57403  POLYGON ((-119.64877 39.29807, -119.64864 39.2...  \n57404  POLYGON ((-119.63431 39.51268, -119.63385 39.5...  \n57405  POLYGON ((-119.43972 39.50075, -119.43955 39.5...  \n57406  POLYGON ((-119.67909 39.27594, -119.67906 39.2...  \n57407  POLYGON ((-119.64774 39.50972, -119.64741 39.5...  \n\n[57408 rows x 11 columns]",
      "text/html": "<div>\n<style scoped>\n    .dataframe tbody tr th:only-of-type {\n        vertical-align: middle;\n    }\n\n    .dataframe tbody tr th {\n        vertical-align: top;\n    }\n\n    .dataframe thead th {\n        text-align: right;\n    }\n</style>\n<table border=\"1\" class=\"dataframe\">\n  <thead>\n    <tr style=\"text-align: right;\">\n      <th></th>\n      <th>blockId</th>\n      <th>districtId</th>\n      <th>districtingId</th>\n      <th>population</th>\n      <th>white</th>\n      <th>black</th>\n      <th>asian</th>\n      <th>democrat</th>\n      <th>republican</th>\n      <th>voters</th>\n      <th>geometry</th>\n    </tr>\n  </thead>\n  <tbody>\n    <tr>\n      <th>0</th>\n      <td>320019507001049</td>\n      <td>2</td>\n      <td>enacted</td>\n      <td>0</td>\n      <td>0</td>\n      <td>0</td>\n      <td>0</td>\n      <td>1.779045</td>\n      <td>5.443336</td>\n      <td>9.289380</td>\n      <td>POLYGON ((-118.83864 39.39869, -118.83857 39.3...</td>\n    </tr>\n    <tr>\n      <th>1</th>\n      <td>320019506003003</td>\n      <td>2</td>\n      <td>enacted</td>\n      <td>0</td>\n      <td>0</td>\n      <td>0</td>\n      <td>0</td>\n      <td>1.779045</td>\n      <td>5.443336</td>\n      <td>9.289380</td>\n      <td>POLYGON ((-118.78911 39.49677, -118.78908 39.4...</td>\n    </tr>\n    <tr>\n      <th>2</th>\n      <td>320019507003042</td>\n      <td>2</td>\n      <td>enacted</td>\n      <td>0</td>\n      <td>0</td>\n      <td>0</td>\n      <td>0</td>\n      <td>1.779045</td>\n      <td>5.443336</td>\n      <td>9.289380</td>\n      <td>POLYGON ((-118.98757 39.49546, -118.98752 39.4...</td>\n    </tr>\n    <tr>\n      <th>3</th>\n      <td>320019506002042</td>\n      <td>2</td>\n      <td>enacted</td>\n      <td>0</td>\n      <td>0</td>\n      <td>0</td>\n      <td>0</td>\n      <td>1.779045</td>\n      <td>5.443336</td>\n      <td>9.289380</td>\n      <td>POLYGON ((-118.82618 39.48281, -118.82410 39.4...</td>\n    </tr>\n    <tr>\n      <th>4</th>\n      <td>320019503021028</td>\n      <td>2</td>\n      <td>enacted</td>\n      <td>0</td>\n      <td>0</td>\n      <td>0</td>\n      <td>0</td>\n      <td>1.779045</td>\n      <td>5.443336</td>\n      <td>9.289380</td>\n      <td>POLYGON ((-118.78459 39.46755, -118.78450 39.4...</td>\n    </tr>\n    <tr>\n      <th>...</th>\n      <td>...</td>\n      <td>...</td>\n      <td>...</td>\n      <td>...</td>\n      <td>...</td>\n      <td>...</td>\n      <td>...</td>\n      <td>...</td>\n      <td>...</td>\n      <td>...</td>\n      <td>...</td>\n    </tr>\n    <tr>\n      <th>57403</th>\n      <td>320299702003087</td>\n      <td>2</td>\n      <td>enacted</td>\n      <td>33</td>\n      <td>2</td>\n      <td>1</td>\n      <td>0</td>\n      <td>1.938503</td>\n      <td>4.064171</td>\n      <td>8.125668</td>\n      <td>POLYGON ((-119.64877 39.29807, -119.64864 39.2...</td>\n    </tr>\n    <tr>\n      <th>57404</th>\n      <td>320299702001106</td>\n      <td>2</td>\n      <td>enacted</td>\n      <td>0</td>\n      <td>0</td>\n      <td>0</td>\n      <td>0</td>\n      <td>1.938503</td>\n      <td>4.064171</td>\n      <td>8.125668</td>\n      <td>POLYGON ((-119.63431 39.51268, -119.63385 39.5...</td>\n    </tr>\n    <tr>\n      <th>57405</th>\n      <td>320299702001043</td>\n      <td>2</td>\n      <td>enacted</td>\n      <td>0</td>\n      <td>0</td>\n      <td>0</td>\n      <td>0</td>\n      <td>1.938503</td>\n      <td>4.064171</td>\n      <td>8.125668</td>\n      <td>POLYGON ((-119.43972 39.50075, -119.43955 39.5...</td>\n    </tr>\n    <tr>\n      <th>57406</th>\n      <td>320299702003107</td>\n      <td>2</td>\n      <td>enacted</td>\n      <td>8</td>\n      <td>8</td>\n      <td>0</td>\n      <td>0</td>\n      <td>1.938503</td>\n      <td>4.064171</td>\n      <td>8.125668</td>\n      <td>POLYGON ((-119.67909 39.27594, -119.67906 39.2...</td>\n    </tr>\n    <tr>\n      <th>57407</th>\n      <td>320299702001096</td>\n      <td>2</td>\n      <td>enacted</td>\n      <td>13</td>\n      <td>13</td>\n      <td>0</td>\n      <td>0</td>\n      <td>1.938503</td>\n      <td>4.064171</td>\n      <td>8.125668</td>\n      <td>POLYGON ((-119.64774 39.50972, -119.64741 39.5...</td>\n    </tr>\n  </tbody>\n</table>\n<p>57408 rows × 11 columns</p>\n</div>"
     },
     "execution_count": 278,
     "metadata": {},
     "output_type": "execute_result"
    }
   ],
   "source": [
    "cb"
   ],
   "metadata": {
    "collapsed": false,
    "pycharm": {
     "name": "#%%\n"
    }
   }
  },
  {
   "cell_type": "code",
   "execution_count": null,
   "outputs": [],
   "source": [
    "cb_path = main_path + config['PREPROCESSING']['DATA']['NEVADA']['PROCESSED']['ENACTED']['CENSUS_BLOCKS']\n",
    "cb.to_file(cb_path, driver=\"GeoJSON\")"
   ],
   "metadata": {
    "collapsed": false,
    "pycharm": {
     "name": "#%%\n"
    }
   }
  },
  {
   "cell_type": "code",
   "execution_count": 279,
   "outputs": [
    {
     "data": {
      "text/plain": "            population   white   black   asian       democrat     republican  \\\ndistrictId                                                                     \n1               307370  157568   30213   26985  112419.279752   77974.880206   \n2              1365280  699363  135484  120073  119907.305995  166748.609202   \n3               467493  241355   44175   40450  169056.694665  117259.028377   \n4               964471  490177   94867   85195  166381.940543  130202.038879   \n\n                   voters  \ndistrictId                 \n1           266242.724745  \n2           388975.436355  \n3           400377.187287  \n4           413066.362234  ",
      "text/html": "<div>\n<style scoped>\n    .dataframe tbody tr th:only-of-type {\n        vertical-align: middle;\n    }\n\n    .dataframe tbody tr th {\n        vertical-align: top;\n    }\n\n    .dataframe thead th {\n        text-align: right;\n    }\n</style>\n<table border=\"1\" class=\"dataframe\">\n  <thead>\n    <tr style=\"text-align: right;\">\n      <th></th>\n      <th>population</th>\n      <th>white</th>\n      <th>black</th>\n      <th>asian</th>\n      <th>democrat</th>\n      <th>republican</th>\n      <th>voters</th>\n    </tr>\n    <tr>\n      <th>districtId</th>\n      <th></th>\n      <th></th>\n      <th></th>\n      <th></th>\n      <th></th>\n      <th></th>\n      <th></th>\n    </tr>\n  </thead>\n  <tbody>\n    <tr>\n      <th>1</th>\n      <td>307370</td>\n      <td>157568</td>\n      <td>30213</td>\n      <td>26985</td>\n      <td>112419.279752</td>\n      <td>77974.880206</td>\n      <td>266242.724745</td>\n    </tr>\n    <tr>\n      <th>2</th>\n      <td>1365280</td>\n      <td>699363</td>\n      <td>135484</td>\n      <td>120073</td>\n      <td>119907.305995</td>\n      <td>166748.609202</td>\n      <td>388975.436355</td>\n    </tr>\n    <tr>\n      <th>3</th>\n      <td>467493</td>\n      <td>241355</td>\n      <td>44175</td>\n      <td>40450</td>\n      <td>169056.694665</td>\n      <td>117259.028377</td>\n      <td>400377.187287</td>\n    </tr>\n    <tr>\n      <th>4</th>\n      <td>964471</td>\n      <td>490177</td>\n      <td>94867</td>\n      <td>85195</td>\n      <td>166381.940543</td>\n      <td>130202.038879</td>\n      <td>413066.362234</td>\n    </tr>\n  </tbody>\n</table>\n</div>"
     },
     "execution_count": 279,
     "metadata": {},
     "output_type": "execute_result"
    }
   ],
   "source": [
    "cb.groupby('districtId').sum()"
   ],
   "metadata": {
    "collapsed": false,
    "pycharm": {
     "name": "#%%\n"
    }
   }
  },
  {
   "cell_type": "code",
   "execution_count": 280,
   "outputs": [
    {
     "data": {
      "text/plain": "<AxesSubplot:>"
     },
     "execution_count": 280,
     "metadata": {},
     "output_type": "execute_result"
    },
    {
     "data": {
      "text/plain": "<Figure size 432x288 with 1 Axes>",
      "image/png": "[encoded data removed]"
     },
     "metadata": {
      "needs_background": "light"
     },
     "output_type": "display_data"
    }
   ],
   "source": [
    "cb.plot('districtId')"
   ],
   "metadata": {
    "collapsed": false,
    "pycharm": {
     "name": "#%%\n"
    }
   }
  },
  {
   "cell_type": "code",
   "execution_count": 205,
   "outputs": [
    {
     "data": {
      "text/plain": "               blockId  fips  \\\n0      320019507001049     1   \n1      320019506003003     1   \n2      320019507003042     1   \n3      320019506002042     1   \n4      320019503021028     1   \n...                ...   ...   \n57403  320299702003087    29   \n57404  320299702001106    29   \n57405  320299702001043    29   \n57406  320299702003107    29   \n57407  320299702001096    29   \n\n                                                geometry  population  white  \\\n0      POLYGON ((-118.83864 39.39869, -118.83857 39.3...           0      0   \n1      POLYGON ((-118.78911 39.49677, -118.78908 39.4...           0      0   \n2      POLYGON ((-118.98757 39.49546, -118.98752 39.4...           0      0   \n3      POLYGON ((-118.82618 39.48281, -118.82410 39.4...           0      0   \n4      POLYGON ((-118.78459 39.46755, -118.78450 39.4...           0      0   \n...                                                  ...         ...    ...   \n57403  POLYGON ((-119.64877 39.29807, -119.64864 39.2...          33      2   \n57404  POLYGON ((-119.63431 39.51268, -119.63385 39.5...           0      0   \n57405  POLYGON ((-119.43972 39.50075, -119.43955 39.5...           0      0   \n57406  POLYGON ((-119.67909 39.27594, -119.67906 39.2...           8      8   \n57407  POLYGON ((-119.64774 39.50972, -119.64741 39.5...          13     13   \n\n       black  asian  democrat  republican    voters  \n0          0      0  1.779045    5.443336  9.289380  \n1          0      0  1.779045    5.443336  9.289380  \n2          0      0  1.779045    5.443336  9.289380  \n3          0      0  1.779045    5.443336  9.289380  \n4          0      0  1.779045    5.443336  9.289380  \n...      ...    ...       ...         ...       ...  \n57403      1      0  1.938503    4.064171  8.125668  \n57404      0      0  1.938503    4.064171  8.125668  \n57405      0      0  1.938503    4.064171  8.125668  \n57406      0      0  1.938503    4.064171  8.125668  \n57407      0      0  1.938503    4.064171  8.125668  \n\n[57408 rows x 10 columns]",
      "text/html": "<div>\n<style scoped>\n    .dataframe tbody tr th:only-of-type {\n        vertical-align: middle;\n    }\n\n    .dataframe tbody tr th {\n        vertical-align: top;\n    }\n\n    .dataframe thead th {\n        text-align: right;\n    }\n</style>\n<table border=\"1\" class=\"dataframe\">\n  <thead>\n    <tr style=\"text-align: right;\">\n      <th></th>\n      <th>blockId</th>\n      <th>fips</th>\n      <th>geometry</th>\n      <th>population</th>\n      <th>white</th>\n      <th>black</th>\n      <th>asian</th>\n      <th>democrat</th>\n      <th>republican</th>\n      <th>voters</th>\n    </tr>\n  </thead>\n  <tbody>\n    <tr>\n      <th>0</th>\n      <td>320019507001049</td>\n      <td>1</td>\n      <td>POLYGON ((-118.83864 39.39869, -118.83857 39.3...</td>\n      <td>0</td>\n      <td>0</td>\n      <td>0</td>\n      <td>0</td>\n      <td>1.779045</td>\n      <td>5.443336</td>\n      <td>9.289380</td>\n    </tr>\n    <tr>\n      <th>1</th>\n      <td>320019506003003</td>\n      <td>1</td>\n      <td>POLYGON ((-118.78911 39.49677, -118.78908 39.4...</td>\n      <td>0</td>\n      <td>0</td>\n      <td>0</td>\n      <td>0</td>\n      <td>1.779045</td>\n      <td>5.443336</td>\n      <td>9.289380</td>\n    </tr>\n    <tr>\n      <th>2</th>\n      <td>320019507003042</td>\n      <td>1</td>\n      <td>POLYGON ((-118.98757 39.49546, -118.98752 39.4...</td>\n      <td>0</td>\n      <td>0</td>\n      <td>0</td>\n      <td>0</td>\n      <td>1.779045</td>\n      <td>5.443336</td>\n      <td>9.289380</td>\n    </tr>\n    <tr>\n      <th>3</th>\n      <td>320019506002042</td>\n      <td>1</td>\n      <td>POLYGON ((-118.82618 39.48281, -118.82410 39.4...</td>\n      <td>0</td>\n      <td>0</td>\n      <td>0</td>\n      <td>0</td>\n      <td>1.779045</td>\n      <td>5.443336</td>\n      <td>9.289380</td>\n    </tr>\n    <tr>\n      <th>4</th>\n      <td>320019503021028</td>\n      <td>1</td>\n      <td>POLYGON ((-118.78459 39.46755, -118.78450 39.4...</td>\n      <td>0</td>\n      <td>0</td>\n      <td>0</td>\n      <td>0</td>\n      <td>1.779045</td>\n      <td>5.443336</td>\n      <td>9.289380</td>\n    </tr>\n    <tr>\n      <th>...</th>\n      <td>...</td>\n      <td>...</td>\n      <td>...</td>\n      <td>...</td>\n      <td>...</td>\n      <td>...</td>\n      <td>...</td>\n      <td>...</td>\n      <td>...</td>\n      <td>...</td>\n    </tr>\n    <tr>\n      <th>57403</th>\n      <td>320299702003087</td>\n      <td>29</td>\n      <td>POLYGON ((-119.64877 39.29807, -119.64864 39.2...</td>\n      <td>33</td>\n      <td>2</td>\n      <td>1</td>\n      <td>0</td>\n      <td>1.938503</td>\n      <td>4.064171</td>\n      <td>8.125668</td>\n    </tr>\n    <tr>\n      <th>57404</th>\n      <td>320299702001106</td>\n      <td>29</td>\n      <td>POLYGON ((-119.63431 39.51268, -119.63385 39.5...</td>\n      <td>0</td>\n      <td>0</td>\n      <td>0</td>\n      <td>0</td>\n      <td>1.938503</td>\n      <td>4.064171</td>\n      <td>8.125668</td>\n    </tr>\n    <tr>\n      <th>57405</th>\n      <td>320299702001043</td>\n      <td>29</td>\n      <td>POLYGON ((-119.43972 39.50075, -119.43955 39.5...</td>\n      <td>0</td>\n      <td>0</td>\n      <td>0</td>\n      <td>0</td>\n      <td>1.938503</td>\n      <td>4.064171</td>\n      <td>8.125668</td>\n    </tr>\n    <tr>\n      <th>57406</th>\n      <td>320299702003107</td>\n      <td>29</td>\n      <td>POLYGON ((-119.67909 39.27594, -119.67906 39.2...</td>\n      <td>8</td>\n      <td>8</td>\n      <td>0</td>\n      <td>0</td>\n      <td>1.938503</td>\n      <td>4.064171</td>\n      <td>8.125668</td>\n    </tr>\n    <tr>\n      <th>57407</th>\n      <td>320299702001096</td>\n      <td>29</td>\n      <td>POLYGON ((-119.64774 39.50972, -119.64741 39.5...</td>\n      <td>13</td>\n      <td>13</td>\n      <td>0</td>\n      <td>0</td>\n      <td>1.938503</td>\n      <td>4.064171</td>\n      <td>8.125668</td>\n    </tr>\n  </tbody>\n</table>\n<p>57408 rows × 10 columns</p>\n</div>"
     },
     "execution_count": 205,
     "metadata": {},
     "output_type": "execute_result"
    }
   ],
   "source": [
    "cb"
   ],
   "metadata": {
    "collapsed": false,
    "pycharm": {
     "name": "#%%\n"
    }
   }
  },
  {
   "cell_type": "code",
   "execution_count": null,
   "outputs": [],
   "source": [
    "cb['population'].max()"
   ],
   "metadata": {
    "collapsed": false,
    "pycharm": {
     "name": "#%%\n"
    }
   }
  },
  {
   "cell_type": "code",
   "execution_count": null,
   "outputs": [],
   "source": [
    "cb[cb['districtId'] == 2].plot()"
   ],
   "metadata": {
    "collapsed": false,
    "pycharm": {
     "name": "#%%\n"
    }
   }
  },
  {
   "cell_type": "code",
   "execution_count": null,
   "outputs": [],
   "source": [
    "cb[cb['districtId'] == 2]['population'].sum()"
   ],
   "metadata": {
    "collapsed": false,
    "pycharm": {
     "name": "#%%\n"
    }
   }
  },
  {
   "cell_type": "code",
   "execution_count": null,
   "outputs": [],
   "source": [],
   "metadata": {
    "collapsed": false,
    "pycharm": {
     "name": "#%%\n"
    }
   }
  }
 ],
 "metadata": {
  "kernelspec": {
   "display_name": "Python 3",
   "language": "python",
   "name": "python3"
  },
  "language_info": {
   "codemirror_mode": {
    "name": "ipython",
    "version": 2
   },
   "file_extension": ".py",
   "mimetype": "text/x-python",
   "name": "python",
   "nbconvert_exporter": "python",
   "pygments_lexer": "ipython2",
   "version": "2.7.6"
  }
 },
 "nbformat": 4,
 "nbformat_minor": 0
}