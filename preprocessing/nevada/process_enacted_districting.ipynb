{
 "cells": [
  {
   "cell_type": "code",
   "execution_count": 1,
   "outputs": [],
   "source": [
    "import geopandas\n",
    "import sys\n",
    "sys.path.insert(0, '..')\n",
    "from read_config import read_yaml\n",
    "from shapely.ops import unary_union"
   ],
   "metadata": {
    "collapsed": false,
    "pycharm": {
     "name": "#%%\n"
    }
   }
  },
  {
   "cell_type": "code",
   "execution_count": 2,
   "outputs": [],
   "source": [
    "config = read_yaml('../preprocessing_config.yaml')\n",
    "main_path = '../../'\n",
    "districts_path = main_path + config['PREPROCESSING']['DATA']['NEVADA']['PROCESSED']['ENACTED']['DISTRICTS']\n",
    "districts = geopandas.read_file(districts_path)"
   ],
   "metadata": {
    "collapsed": false,
    "pycharm": {
     "name": "#%%\n"
    }
   }
  },
  {
   "cell_type": "code",
   "execution_count": 3,
   "outputs": [],
   "source": [
    "districting_geo=districts[['districtingId','geometry']].groupby(by='districtingId')['geometry'].apply(unary_union).reset_index(level =0)\n",
    "districting_info=districts.drop(columns = ['geometry']).groupby(by=['districtingId']).sum().reset_index()\n",
    "districting_info['state'] = config['PREPROCESSING']['DATA']['NEVADA']['STATE_NAME']\n",
    "districting_info['districtingId'] = config['PREPROCESSING']['DATA']['NEVADA']['PROCESSED']['ENACTED']['DISTRICTING_NAME']\n",
    "districting = districting_info.merge(districting_geo, on='districtingId')\n",
    "districting = districting.drop(columns = 'districtId')"
   ],
   "metadata": {
    "collapsed": false,
    "pycharm": {
     "name": "#%%\n"
    }
   }
  },
  {
   "cell_type": "code",
   "execution_count": 4,
   "outputs": [],
   "source": [
    "districting_path = main_path + config['PREPROCESSING']['DATA']['NEVADA']['PROCESSED']['ENACTED']['DISTRICTING']\n",
    "districting.to_file(districts_path)"
   ],
   "metadata": {
    "collapsed": false,
    "pycharm": {
     "name": "#%%\n"
    }
   }
  },
  {
   "cell_type": "code",
   "execution_count": 35,
   "outputs": [
    {
     "data": {
      "text/plain": "  districtingId  population    white   black   asian  hispanic  democrat  \\\n0       enacted     3104614  1588463  375198  353593    890257  567767.0   \n\n   republican     voters state  \\\n0    492190.0  1468671.0    NV   \n\n                                            geometry  \n0  POLYGON ((-115.39566 35.61066, -115.39579 35.6...  ",
      "text/html": "<div>\n<style scoped>\n    .dataframe tbody tr th:only-of-type {\n        vertical-align: middle;\n    }\n\n    .dataframe tbody tr th {\n        vertical-align: top;\n    }\n\n    .dataframe thead th {\n        text-align: right;\n    }\n</style>\n<table border=\"1\" class=\"dataframe\">\n  <thead>\n    <tr style=\"text-align: right;\">\n      <th></th>\n      <th>districtingId</th>\n      <th>population</th>\n      <th>white</th>\n      <th>black</th>\n      <th>asian</th>\n      <th>hispanic</th>\n      <th>democrat</th>\n      <th>republican</th>\n      <th>voters</th>\n      <th>state</th>\n      <th>geometry</th>\n    </tr>\n  </thead>\n  <tbody>\n    <tr>\n      <th>0</th>\n      <td>enacted</td>\n      <td>3104614</td>\n      <td>1588463</td>\n      <td>375198</td>\n      <td>353593</td>\n      <td>890257</td>\n      <td>567767.0</td>\n      <td>492190.0</td>\n      <td>1468671.0</td>\n      <td>NV</td>\n      <td>POLYGON ((-115.39566 35.61066, -115.39579 35.6...</td>\n    </tr>\n  </tbody>\n</table>\n</div>"
     },
     "execution_count": 35,
     "metadata": {},
     "output_type": "execute_result"
    }
   ],
   "source": [
    "districting"
   ],
   "metadata": {
    "collapsed": false,
    "pycharm": {
     "name": "#%%\n"
    }
   }
  },
  {
   "cell_type": "code",
   "execution_count": null,
   "outputs": [],
   "source": [],
   "metadata": {
    "collapsed": false,
    "pycharm": {
     "name": "#%%\n"
    }
   }
  }
 ],
 "metadata": {
  "kernelspec": {
   "display_name": "Python 3",
   "language": "python",
   "name": "python3"
  },
  "language_info": {
   "codemirror_mode": {
    "name": "ipython",
    "version": 2
   },
   "file_extension": ".py",
   "mimetype": "text/x-python",
   "name": "python",
   "nbconvert_exporter": "python",
   "pygments_lexer": "ipython2",
   "version": "2.7.6"
  }
 },
 "nbformat": 4,
 "nbformat_minor": 0
}