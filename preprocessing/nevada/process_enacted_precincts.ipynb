{
 "cells": [
  {
   "cell_type": "code",
   "execution_count": 81,
   "outputs": [],
   "source": [
    "import geopandas\n",
    "import pandas as pd\n",
    "import maup\n",
    "import sys\n",
    "sys.path.insert(0, '..')\n",
    "from read_config import read_yaml\n",
    "from shapely.ops import unary_union"
   ],
   "metadata": {
    "collapsed": false,
    "pycharm": {
     "name": "#%%\n"
    }
   }
  },
  {
   "cell_type": "code",
   "execution_count": 86,
   "outputs": [],
   "source": [
    "config = read_yaml('../preprocessing_config.yaml')\n",
    "main_path = '../../'\n",
    "cb_path = main_path + config['PREPROCESSING']['DATA']['NEVADA']['PROCESSED']['ENACTED']['CENSUS_BLOCKS']\n",
    "precincts_geo_path = main_path + config['PREPROCESSING']['DATA']['NEVADA']['UNPROCESSED']['GEOMETRY']['PRECINCTS']\n",
    "districts_geo_path = main_path + config['PREPROCESSING']['DATA']['NEVADA']['UNPROCESSED']['GEOMETRY']['DISTRICTS']\n",
    "\n",
    "cb = geopandas.read_file(cb_path)\n",
    "districts_geo = geopandas.read_file(districts_geo_path)\n",
    "districts_geo.to_crs(cb.crs, inplace=True)\n",
    "precincts_geo=cb[['precinctId','geometry']].groupby(by='precinctId')['geometry'].apply(unary_union).reset_index(level =0)\n",
    "precincts_info=cb.drop(columns = ['geometry']).groupby(by=['precinctId']).sum().reset_index().drop(columns=['districtId'])\n",
    "precincts = precincts_info.merge(precincts_geo, on='precinctId')\n",
    "precincts['districting'] = 'enacted'"
   ],
   "metadata": {
    "collapsed": false,
    "pycharm": {
     "name": "#%%\n"
    }
   }
  },
  {
   "cell_type": "code",
   "execution_count": 87,
   "outputs": [
    {
     "name": "stderr",
     "output_type": "stream",
     "text": [
      "/Users/kostadindev/.conda/envs/preprocessing/lib/python3.9/site-packages/maup/indexed_geometries.py:15: ShapelyDeprecationWarning: Setting custom attributes on geometry objects is deprecated, and will raise an AttributeError in Shapely 2.0\n",
      "  geometry.index = i\n",
      "/Users/kostadindev/.conda/envs/preprocessing/lib/python3.9/site-packages/maup/indexed_geometries.py:27: UserWarning: GeoSeries.isna() previously returned True for both missing (None) and empty geometries. Now, it only returns True for missing values. Since the calling GeoSeries contains empty geometries, the result has changed compared to previous versions of GeoPandas.\n",
      "Given a GeoSeries 's', you can use 's.is_empty | s.isna()' to get back the old behaviour.\n",
      "\n",
      "To further ignore this warning, you can do: \n",
      "import warnings; warnings.filterwarnings('ignore', 'GeoSeries.isna', UserWarning)\n",
      "  return intersections[-(intersections.is_empty | intersections.isna())]\n",
      "/Users/kostadindev/.conda/envs/preprocessing/lib/python3.9/site-packages/maup/indexed_geometries.py:27: UserWarning: GeoSeries.isna() previously returned True for both missing (None) and empty geometries. Now, it only returns True for missing values. Since the calling GeoSeries contains empty geometries, the result has changed compared to previous versions of GeoPandas.\n",
      "Given a GeoSeries 's', you can use 's.is_empty | s.isna()' to get back the old behaviour.\n",
      "\n",
      "To further ignore this warning, you can do: \n",
      "import warnings; warnings.filterwarnings('ignore', 'GeoSeries.isna', UserWarning)\n",
      "  return intersections[-(intersections.is_empty | intersections.isna())]\n",
      "/Users/kostadindev/.conda/envs/preprocessing/lib/python3.9/site-packages/maup/indexed_geometries.py:27: UserWarning: GeoSeries.isna() previously returned True for both missing (None) and empty geometries. Now, it only returns True for missing values. Since the calling GeoSeries contains empty geometries, the result has changed compared to previous versions of GeoPandas.\n",
      "Given a GeoSeries 's', you can use 's.is_empty | s.isna()' to get back the old behaviour.\n",
      "\n",
      "To further ignore this warning, you can do: \n",
      "import warnings; warnings.filterwarnings('ignore', 'GeoSeries.isna', UserWarning)\n",
      "  return intersections[-(intersections.is_empty | intersections.isna())]\n",
      "/Users/kostadindev/.conda/envs/preprocessing/lib/python3.9/site-packages/maup/intersections.py:42: UserWarning: Geometry is in a geographic CRS. Results from 'area' are likely incorrect. Use 'GeoSeries.to_crs()' to re-project geometries to a projected CRS before this operation.\n",
      "\n",
      "  geometries = geometries[geometries.area > area_cutoff]\n",
      "/Users/kostadindev/.conda/envs/preprocessing/lib/python3.9/site-packages/maup/assign.py:26: UserWarning: Geometry is in a geographic CRS. Results from 'area' are likely incorrect. Use 'GeoSeries.to_crs()' to re-project geometries to a projected CRS before this operation.\n",
      "\n",
      "  return assign_to_max(intersections(sources, targets, area_cutoff=0).area)\n"
     ]
    }
   ],
   "source": [
    "assignment = maup.assign(precincts, districts_geo)\n",
    "assert (assignment.isna().sum() == 0), \"Error in census block to precinct assignment\"\n",
    "precincts['districtId'] = assignment + 1"
   ],
   "metadata": {
    "collapsed": false,
    "pycharm": {
     "name": "#%%\n"
    }
   }
  },
  {
   "cell_type": "code",
   "execution_count": 88,
   "outputs": [],
   "source": [
    "precincts_path = main_path + config['PREPROCESSING']['DATA']['NEVADA']['PROCESSED']['ENACTED']['PRECINCTS']\n",
    "precincts.to_file(precincts_path, driver=\"GeoJSON\")"
   ],
   "metadata": {
    "collapsed": false,
    "pycharm": {
     "name": "#%%\n"
    }
   }
  },
  {
   "cell_type": "code",
   "execution_count": 85,
   "outputs": [
    {
     "data": {
      "text/plain": "     precinctId  population  white  black  asian  hispanic     democrat  \\\n0       3200101        1603    843    128    175       544   403.984075   \n1       3200102        2260   1478    121    270       471   444.316366   \n2       3200103        1258    742     46    112       386   392.393106   \n3       3200104        3294   1582    369    319      1139   587.958964   \n4       3200105        4484   1938    403    458      1908   754.375340   \n...         ...         ...    ...    ...    ...       ...          ...   \n2000   32510403        2325   1242    188    377       581   361.362996   \n2001   32510405        2571   1408    269    134       810   352.903567   \n2002   32510407        6173   3788    576    525      1448  1394.977625   \n2003   32510409        2794   1285    330    300       989   534.775135   \n2004   32510411        1577    659    285    122       576   163.301240   \n\n       republican       voters  \\\n0      373.100872  1073.287455   \n1      394.127519  1159.876229   \n2      402.929179  1092.504382   \n3      502.825030  1513.353813   \n4      616.825416  1905.027733   \n...           ...          ...   \n2000   351.124211   983.803443   \n2001   305.916195   913.904785   \n2002  1212.044090  3614.276212   \n2003   445.744626  1359.631727   \n2004   134.283751   413.585967   \n\n                                               geometry  districtId  \n0     POLYGON ((-118.78310 39.47480, -118.78384 39.4...           2  \n1     POLYGON ((-118.78153 39.47491, -118.78153 39.4...           2  \n2     POLYGON ((-118.80029 39.47104, -118.80029 39.4...           2  \n3     MULTIPOLYGON (((-118.77243 39.46822, -118.7724...           2  \n4     POLYGON ((-118.78161 39.46370, -118.78161 39.4...           2  \n...                                                 ...         ...  \n2000  POLYGON ((-119.75989 39.14651, -119.76005 39.1...           2  \n2001  POLYGON ((-119.76977 39.13349, -119.76970 39.1...           2  \n2002  POLYGON ((-119.77755 39.11395, -119.77756 39.1...           2  \n2003  POLYGON ((-119.88475 39.11287, -119.88515 39.1...           2  \n2004  POLYGON ((-119.74368 39.11393, -119.74468 39.1...           2  \n\n[2005 rows x 11 columns]",
      "text/html": "<div>\n<style scoped>\n    .dataframe tbody tr th:only-of-type {\n        vertical-align: middle;\n    }\n\n    .dataframe tbody tr th {\n        vertical-align: top;\n    }\n\n    .dataframe thead th {\n        text-align: right;\n    }\n</style>\n<table border=\"1\" class=\"dataframe\">\n  <thead>\n    <tr style=\"text-align: right;\">\n      <th></th>\n      <th>precinctId</th>\n      <th>population</th>\n      <th>white</th>\n      <th>black</th>\n      <th>asian</th>\n      <th>hispanic</th>\n      <th>democrat</th>\n      <th>republican</th>\n      <th>voters</th>\n      <th>geometry</th>\n      <th>districtId</th>\n    </tr>\n  </thead>\n  <tbody>\n    <tr>\n      <th>0</th>\n      <td>3200101</td>\n      <td>1603</td>\n      <td>843</td>\n      <td>128</td>\n      <td>175</td>\n      <td>544</td>\n      <td>403.984075</td>\n      <td>373.100872</td>\n      <td>1073.287455</td>\n      <td>POLYGON ((-118.78310 39.47480, -118.78384 39.4...</td>\n      <td>2</td>\n    </tr>\n    <tr>\n      <th>1</th>\n      <td>3200102</td>\n      <td>2260</td>\n      <td>1478</td>\n      <td>121</td>\n      <td>270</td>\n      <td>471</td>\n      <td>444.316366</td>\n      <td>394.127519</td>\n      <td>1159.876229</td>\n      <td>POLYGON ((-118.78153 39.47491, -118.78153 39.4...</td>\n      <td>2</td>\n    </tr>\n    <tr>\n      <th>2</th>\n      <td>3200103</td>\n      <td>1258</td>\n      <td>742</td>\n      <td>46</td>\n      <td>112</td>\n      <td>386</td>\n      <td>392.393106</td>\n      <td>402.929179</td>\n      <td>1092.504382</td>\n      <td>POLYGON ((-118.80029 39.47104, -118.80029 39.4...</td>\n      <td>2</td>\n    </tr>\n    <tr>\n      <th>3</th>\n      <td>3200104</td>\n      <td>3294</td>\n      <td>1582</td>\n      <td>369</td>\n      <td>319</td>\n      <td>1139</td>\n      <td>587.958964</td>\n      <td>502.825030</td>\n      <td>1513.353813</td>\n      <td>MULTIPOLYGON (((-118.77243 39.46822, -118.7724...</td>\n      <td>2</td>\n    </tr>\n    <tr>\n      <th>4</th>\n      <td>3200105</td>\n      <td>4484</td>\n      <td>1938</td>\n      <td>403</td>\n      <td>458</td>\n      <td>1908</td>\n      <td>754.375340</td>\n      <td>616.825416</td>\n      <td>1905.027733</td>\n      <td>POLYGON ((-118.78161 39.46370, -118.78161 39.4...</td>\n      <td>2</td>\n    </tr>\n    <tr>\n      <th>...</th>\n      <td>...</td>\n      <td>...</td>\n      <td>...</td>\n      <td>...</td>\n      <td>...</td>\n      <td>...</td>\n      <td>...</td>\n      <td>...</td>\n      <td>...</td>\n      <td>...</td>\n      <td>...</td>\n    </tr>\n    <tr>\n      <th>2000</th>\n      <td>32510403</td>\n      <td>2325</td>\n      <td>1242</td>\n      <td>188</td>\n      <td>377</td>\n      <td>581</td>\n      <td>361.362996</td>\n      <td>351.124211</td>\n      <td>983.803443</td>\n      <td>POLYGON ((-119.75989 39.14651, -119.76005 39.1...</td>\n      <td>2</td>\n    </tr>\n    <tr>\n      <th>2001</th>\n      <td>32510405</td>\n      <td>2571</td>\n      <td>1408</td>\n      <td>269</td>\n      <td>134</td>\n      <td>810</td>\n      <td>352.903567</td>\n      <td>305.916195</td>\n      <td>913.904785</td>\n      <td>POLYGON ((-119.76977 39.13349, -119.76970 39.1...</td>\n      <td>2</td>\n    </tr>\n    <tr>\n      <th>2002</th>\n      <td>32510407</td>\n      <td>6173</td>\n      <td>3788</td>\n      <td>576</td>\n      <td>525</td>\n      <td>1448</td>\n      <td>1394.977625</td>\n      <td>1212.044090</td>\n      <td>3614.276212</td>\n      <td>POLYGON ((-119.77755 39.11395, -119.77756 39.1...</td>\n      <td>2</td>\n    </tr>\n    <tr>\n      <th>2003</th>\n      <td>32510409</td>\n      <td>2794</td>\n      <td>1285</td>\n      <td>330</td>\n      <td>300</td>\n      <td>989</td>\n      <td>534.775135</td>\n      <td>445.744626</td>\n      <td>1359.631727</td>\n      <td>POLYGON ((-119.88475 39.11287, -119.88515 39.1...</td>\n      <td>2</td>\n    </tr>\n    <tr>\n      <th>2004</th>\n      <td>32510411</td>\n      <td>1577</td>\n      <td>659</td>\n      <td>285</td>\n      <td>122</td>\n      <td>576</td>\n      <td>163.301240</td>\n      <td>134.283751</td>\n      <td>413.585967</td>\n      <td>POLYGON ((-119.74368 39.11393, -119.74468 39.1...</td>\n      <td>2</td>\n    </tr>\n  </tbody>\n</table>\n<p>2005 rows × 11 columns</p>\n</div>"
     },
     "execution_count": 85,
     "metadata": {},
     "output_type": "execute_result"
    }
   ],
   "source": [
    "precincts\n"
   ],
   "metadata": {
    "collapsed": false,
    "pycharm": {
     "name": "#%%\n"
    }
   }
  },
  {
   "cell_type": "code",
   "execution_count": null,
   "outputs": [],
   "source": [],
   "metadata": {
    "collapsed": false,
    "pycharm": {
     "name": "#%%\n"
    }
   }
  }
 ],
 "metadata": {
  "kernelspec": {
   "display_name": "Python 3",
   "language": "python",
   "name": "python3"
  },
  "language_info": {
   "codemirror_mode": {
    "name": "ipython",
    "version": 2
   },
   "file_extension": ".py",
   "mimetype": "text/x-python",
   "name": "python",
   "nbconvert_exporter": "python",
   "pygments_lexer": "ipython2",
   "version": "2.7.6"
  }
 },
 "nbformat": 4,
 "nbformat_minor": 0
}