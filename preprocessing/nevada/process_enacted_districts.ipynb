{
 "cells": [
  {
   "cell_type": "code",
   "execution_count": null,
   "metadata": {
    "collapsed": true
   },
   "outputs": [],
   "source": []
  },
  {
   "cell_type": "code",
   "execution_count": 1,
   "outputs": [],
   "source": [
    "import geopandas\n",
    "import pandas as pd\n",
    "import maup\n",
    "import sys\n",
    "sys.path.insert(0, '..')\n",
    "from read_config import read_yaml\n",
    "from shapely.ops import unary_union"
   ],
   "metadata": {
    "collapsed": false,
    "pycharm": {
     "name": "#%%\n"
    }
   }
  },
  {
   "cell_type": "code",
   "execution_count": 2,
   "outputs": [],
   "source": [
    "config = read_yaml('../preprocessing_config.yaml')\n",
    "main_path = '../../'\n",
    "precincts_path = main_path + config['PREPROCESSING']['DATA']['NEVADA']['PROCESSED']['ENACTED']['PRECINCTS']\n",
    "precincts = geopandas.read_file(precincts_path)"
   ],
   "metadata": {
    "collapsed": false,
    "pycharm": {
     "name": "#%%\n"
    }
   }
  },
  {
   "cell_type": "code",
   "execution_count": 3,
   "outputs": [],
   "source": [
    "districts_geo=precincts[['districtId','geometry']].groupby(by='districtId')['geometry'].apply(unary_union).reset_index(level =0)\n",
    "districts_info=precincts.drop(columns = ['geometry']).groupby(by=['districtId']).sum().reset_index()\n",
    "districts_info['districtingId'] = 'enacted'\n",
    "districts = districts_info.merge(districts_geo, on='districtId')"
   ],
   "metadata": {
    "collapsed": false,
    "pycharm": {
     "name": "#%%\n"
    }
   }
  },
  {
   "cell_type": "code",
   "execution_count": 4,
   "outputs": [],
   "source": [
    "districts_path = main_path + config['PREPROCESSING']['DATA']['NEVADA']['PROCESSED']['ENACTED']['DISTRICTS']\n",
    "districts.to_file(districts_path)"
   ],
   "metadata": {
    "collapsed": false,
    "pycharm": {
     "name": "#%%\n"
    }
   }
  },
  {
   "cell_type": "code",
   "execution_count": 23,
   "outputs": [
    {
     "data": {
      "text/plain": "   districtId  population   white   black   asian  hispanic       democrat  \\\n0           1      294767  151050   35759   31456     85805   57130.435095   \n1           2     1369146  702864  163809  156367    391238  246096.993900   \n2           3      486043  248991   60393   56290    136279   88118.173079   \n3           4      954658  485558  115237  109480    276935  176421.397925   \n\n      republican         voters districtingId  \\\n0   49712.765741  148020.458734       enacted   \n1  212982.349545  636194.668176       enacted   \n2   76545.764312  228124.360204       enacted   \n3  152949.120402  456331.512886       enacted   \n\n                                            geometry  \n0  POLYGON ((-115.24415 36.08514, -115.24463 36.0...  \n1  POLYGON ((-119.90087 38.93095, -119.90156 38.9...  \n2  POLYGON ((-115.39516 35.61026, -115.39529 35.6...  \n3  POLYGON ((-115.84580 36.11599, -115.84580 36.1...  ",
      "text/html": "<div>\n<style scoped>\n    .dataframe tbody tr th:only-of-type {\n        vertical-align: middle;\n    }\n\n    .dataframe tbody tr th {\n        vertical-align: top;\n    }\n\n    .dataframe thead th {\n        text-align: right;\n    }\n</style>\n<table border=\"1\" class=\"dataframe\">\n  <thead>\n    <tr style=\"text-align: right;\">\n      <th></th>\n      <th>districtId</th>\n      <th>population</th>\n      <th>white</th>\n      <th>black</th>\n      <th>asian</th>\n      <th>hispanic</th>\n      <th>democrat</th>\n      <th>republican</th>\n      <th>voters</th>\n      <th>districtingId</th>\n      <th>geometry</th>\n    </tr>\n  </thead>\n  <tbody>\n    <tr>\n      <th>0</th>\n      <td>1</td>\n      <td>294767</td>\n      <td>151050</td>\n      <td>35759</td>\n      <td>31456</td>\n      <td>85805</td>\n      <td>57130.435095</td>\n      <td>49712.765741</td>\n      <td>148020.458734</td>\n      <td>enacted</td>\n      <td>POLYGON ((-115.24415 36.08514, -115.24463 36.0...</td>\n    </tr>\n    <tr>\n      <th>1</th>\n      <td>2</td>\n      <td>1369146</td>\n      <td>702864</td>\n      <td>163809</td>\n      <td>156367</td>\n      <td>391238</td>\n      <td>246096.993900</td>\n      <td>212982.349545</td>\n      <td>636194.668176</td>\n      <td>enacted</td>\n      <td>POLYGON ((-119.90087 38.93095, -119.90156 38.9...</td>\n    </tr>\n    <tr>\n      <th>2</th>\n      <td>3</td>\n      <td>486043</td>\n      <td>248991</td>\n      <td>60393</td>\n      <td>56290</td>\n      <td>136279</td>\n      <td>88118.173079</td>\n      <td>76545.764312</td>\n      <td>228124.360204</td>\n      <td>enacted</td>\n      <td>POLYGON ((-115.39516 35.61026, -115.39529 35.6...</td>\n    </tr>\n    <tr>\n      <th>3</th>\n      <td>4</td>\n      <td>954658</td>\n      <td>485558</td>\n      <td>115237</td>\n      <td>109480</td>\n      <td>276935</td>\n      <td>176421.397925</td>\n      <td>152949.120402</td>\n      <td>456331.512886</td>\n      <td>enacted</td>\n      <td>POLYGON ((-115.84580 36.11599, -115.84580 36.1...</td>\n    </tr>\n  </tbody>\n</table>\n</div>"
     },
     "execution_count": 23,
     "metadata": {},
     "output_type": "execute_result"
    }
   ],
   "source": [
    "districts"
   ],
   "metadata": {
    "collapsed": false,
    "pycharm": {
     "name": "#%%\n"
    }
   }
  },
  {
   "cell_type": "code",
   "execution_count": null,
   "outputs": [],
   "source": [],
   "metadata": {
    "collapsed": false,
    "pycharm": {
     "name": "#%%\n"
    }
   }
  }
 ],
 "metadata": {
  "kernelspec": {
   "display_name": "Python 3",
   "language": "python",
   "name": "python3"
  },
  "language_info": {
   "codemirror_mode": {
    "name": "ipython",
    "version": 2
   },
   "file_extension": ".py",
   "mimetype": "text/x-python",
   "name": "python",
   "nbconvert_exporter": "python",
   "pygments_lexer": "ipython2",
   "version": "2.7.6"
  }
 },
 "nbformat": 4,
 "nbformat_minor": 0
}