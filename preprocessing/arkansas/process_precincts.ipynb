{
 "cells": [
  {
   "cell_type": "code",
   "execution_count": 28,
   "metadata": {
    "collapsed": true
   },
   "outputs": [],
   "source": [
    "import sys\n",
    "\n",
    "sys.path.insert(0, '..')\n",
    "import geopandas\n",
    "import maup\n",
    "from read_config import read_yaml\n",
    "import shapely\n",
    "import pandas as pd"
   ]
  },
  {
   "cell_type": "code",
   "execution_count": 4,
   "outputs": [],
   "source": [
    "config = read_yaml('../preprocessing_config.yaml')\n",
    "districts_geo_path = config['ARKANSAS']['DISTRICTS_GEO_PATH']\n",
    "precinct_election_path = config['ARKANSAS']['PRECINCTS_ELECTION_PATH']"
   ],
   "metadata": {
    "collapsed": false,
    "pycharm": {
     "name": "#%%\n"
    }
   }
  },
  {
   "cell_type": "code",
   "execution_count": 12,
   "outputs": [],
   "source": [
    "precincts_election = geopandas.read_file(precinct_election_path)"
   ],
   "metadata": {
    "collapsed": false,
    "pycharm": {
     "name": "#%%\n"
    }
   }
  },
  {
   "cell_type": "code",
   "execution_count": 16,
   "outputs": [
    {
     "name": "stderr",
     "output_type": "stream",
     "text": [
      "/Users/kostadindev/.conda/envs/preprocessing/lib/python3.9/site-packages/pandas/core/frame.py:5039: SettingWithCopyWarning: \n",
      "A value is trying to be set on a copy of a slice from a DataFrame\n",
      "\n",
      "See the caveats in the documentation: https://pandas.pydata.org/pandas-docs/stable/user_guide/indexing.html#returning-a-view-versus-a-copy\n",
      "  return super().rename(\n"
     ]
    }
   ],
   "source": [
    "precincts = precincts_election[['COUNTY_FIP', 'PRECINCT', 'geometry']]\n",
    "precincts.rename(columns={'COUNTY_FIP': 'countyId', 'PRECINCT': 'precinctName'}, inplace=True)"
   ],
   "metadata": {
    "collapsed": false,
    "pycharm": {
     "name": "#%%\n"
    }
   }
  },
  {
   "cell_type": "code",
   "execution_count": 17,
   "outputs": [
    {
     "data": {
      "text/plain": "     countyId                   precinctId  \\\n0         037                      Bedford   \n1         143                    War Eagle   \n2         037                        Smith   \n3         143                  Dutch Mills   \n4         131                         9-4J   \n...       ...                          ...   \n2520      065                         Sage   \n2521      015                     Dry Fork   \n2522      123  Colt City/Country/Pine Tree   \n2523      123          Forrest City Ward 3   \n2524      123          Forrest City Ward 2   \n\n                                               geometry  \n0     POLYGON ((-90.82801 35.21995, -90.83057 35.219...  \n1     POLYGON ((-94.01246 36.21703, -94.01248 36.216...  \n2     POLYGON ((-90.61177 35.28176, -90.61193 35.267...  \n3     POLYGON ((-94.45759 35.90149, -94.45766 35.897...  \n4     POLYGON ((-94.28547 35.22252, -94.28546 35.222...  \n...                                                 ...  \n2520  MULTIPOLYGON (((-91.83684 36.04460, -91.83677 ...  \n2521  POLYGON ((-93.44279 36.17523, -93.44303 36.173...  \n2522  MULTIPOLYGON (((-90.88072 35.05231, -90.88024 ...  \n2523  POLYGON ((-90.79779 35.02263, -90.79779 35.022...  \n2524  POLYGON ((-90.79716 35.02260, -90.79713 35.022...  \n\n[2525 rows x 3 columns]",
      "text/html": "<div>\n<style scoped>\n    .dataframe tbody tr th:only-of-type {\n        vertical-align: middle;\n    }\n\n    .dataframe tbody tr th {\n        vertical-align: top;\n    }\n\n    .dataframe thead th {\n        text-align: right;\n    }\n</style>\n<table border=\"1\" class=\"dataframe\">\n  <thead>\n    <tr style=\"text-align: right;\">\n      <th></th>\n      <th>countyId</th>\n      <th>precinctId</th>\n      <th>geometry</th>\n    </tr>\n  </thead>\n  <tbody>\n    <tr>\n      <th>0</th>\n      <td>037</td>\n      <td>Bedford</td>\n      <td>POLYGON ((-90.82801 35.21995, -90.83057 35.219...</td>\n    </tr>\n    <tr>\n      <th>1</th>\n      <td>143</td>\n      <td>War Eagle</td>\n      <td>POLYGON ((-94.01246 36.21703, -94.01248 36.216...</td>\n    </tr>\n    <tr>\n      <th>2</th>\n      <td>037</td>\n      <td>Smith</td>\n      <td>POLYGON ((-90.61177 35.28176, -90.61193 35.267...</td>\n    </tr>\n    <tr>\n      <th>3</th>\n      <td>143</td>\n      <td>Dutch Mills</td>\n      <td>POLYGON ((-94.45759 35.90149, -94.45766 35.897...</td>\n    </tr>\n    <tr>\n      <th>4</th>\n      <td>131</td>\n      <td>9-4J</td>\n      <td>POLYGON ((-94.28547 35.22252, -94.28546 35.222...</td>\n    </tr>\n    <tr>\n      <th>...</th>\n      <td>...</td>\n      <td>...</td>\n      <td>...</td>\n    </tr>\n    <tr>\n      <th>2520</th>\n      <td>065</td>\n      <td>Sage</td>\n      <td>MULTIPOLYGON (((-91.83684 36.04460, -91.83677 ...</td>\n    </tr>\n    <tr>\n      <th>2521</th>\n      <td>015</td>\n      <td>Dry Fork</td>\n      <td>POLYGON ((-93.44279 36.17523, -93.44303 36.173...</td>\n    </tr>\n    <tr>\n      <th>2522</th>\n      <td>123</td>\n      <td>Colt City/Country/Pine Tree</td>\n      <td>MULTIPOLYGON (((-90.88072 35.05231, -90.88024 ...</td>\n    </tr>\n    <tr>\n      <th>2523</th>\n      <td>123</td>\n      <td>Forrest City Ward 3</td>\n      <td>POLYGON ((-90.79779 35.02263, -90.79779 35.022...</td>\n    </tr>\n    <tr>\n      <th>2524</th>\n      <td>123</td>\n      <td>Forrest City Ward 2</td>\n      <td>POLYGON ((-90.79716 35.02260, -90.79713 35.022...</td>\n    </tr>\n  </tbody>\n</table>\n<p>2525 rows × 3 columns</p>\n</div>"
     },
     "execution_count": 17,
     "metadata": {},
     "output_type": "execute_result"
    }
   ],
   "source": [
    "precincts"
   ],
   "metadata": {
    "collapsed": false,
    "pycharm": {
     "name": "#%%\n"
    }
   }
  },
  {
   "cell_type": "code",
   "execution_count": 31,
   "outputs": [],
   "source": [
    "def get_polygons(geometry):\n",
    "    polygons = []\n",
    "    if type(geometry) == shapely.geometry.MultiPolygon:\n",
    "        for shape in geometry:\n",
    "            polygons.extend(get_polygons(shape))\n",
    "    elif type(geometry) == shapely.geometry.Polygon:\n",
    "        polygons.append(geometry)\n",
    "    return polygons\n",
    "\n",
    "\n",
    "def fix_geometry(precincts):\n",
    "    rows = precincts.values\n",
    "    processed_precincts = []\n",
    "    id = 0\n",
    "    for row in rows[:100]:\n",
    "        countyId = row[0]\n",
    "        precinctName = row[1]\n",
    "        polygons = get_polygons(row[2])\n",
    "        for polygon in polygons:\n",
    "            processed_precincts.append([countyId, precinctName, id, polygon])\n",
    "            id += 1\n",
    "    processed_precincts = geopandas.GeoDataFrame(pd.DataFrame(processed_precincts, columns= ['countyId', 'precinctName', 'precinctId', 'geometry']))\n",
    "    processed_precincts.crs = precincts.crs\n",
    "    return processed_precincts"
   ],
   "metadata": {
    "collapsed": false,
    "pycharm": {
     "name": "#%%\n"
    }
   }
  },
  {
   "cell_type": "code",
   "execution_count": 34,
   "outputs": [
    {
     "name": "stderr",
     "output_type": "stream",
     "text": [
      "/var/folders/25/vw8n1j616yz1zwrd2h0rc8100000gn/T/ipykernel_8038/1135342073.py:4: ShapelyDeprecationWarning: Iteration over multi-part geometries is deprecated and will be removed in Shapely 2.0. Use the `geoms` property to access the constituent parts of a multi-part geometry.\n",
      "  for shape in geometry:\n"
     ]
    }
   ],
   "source": [
    "precincts = fix_geometry(precincts)"
   ],
   "metadata": {
    "collapsed": false,
    "pycharm": {
     "name": "#%%\n"
    }
   }
  },
  {
   "cell_type": "code",
   "execution_count": 35,
   "outputs": [
    {
     "data": {
      "text/plain": "  countyId precinctName  precinctId  \\\n0      037      Bedford           0   \n1      143    War Eagle           1   \n2      037        Smith           2   \n3      143  Dutch Mills           3   \n4      131         9-4J           4   \n\n                                            geometry  \n0  POLYGON ((-90.82801 35.21995, -90.83057 35.219...  \n1  POLYGON ((-94.01246 36.21703, -94.01248 36.216...  \n2  POLYGON ((-90.61177 35.28176, -90.61193 35.267...  \n3  POLYGON ((-94.45759 35.90149, -94.45766 35.897...  \n4  POLYGON ((-94.28547 35.22252, -94.28546 35.222...  ",
      "text/html": "<div>\n<style scoped>\n    .dataframe tbody tr th:only-of-type {\n        vertical-align: middle;\n    }\n\n    .dataframe tbody tr th {\n        vertical-align: top;\n    }\n\n    .dataframe thead th {\n        text-align: right;\n    }\n</style>\n<table border=\"1\" class=\"dataframe\">\n  <thead>\n    <tr style=\"text-align: right;\">\n      <th></th>\n      <th>countyId</th>\n      <th>precinctName</th>\n      <th>precinctId</th>\n      <th>geometry</th>\n    </tr>\n  </thead>\n  <tbody>\n    <tr>\n      <th>0</th>\n      <td>037</td>\n      <td>Bedford</td>\n      <td>0</td>\n      <td>POLYGON ((-90.82801 35.21995, -90.83057 35.219...</td>\n    </tr>\n    <tr>\n      <th>1</th>\n      <td>143</td>\n      <td>War Eagle</td>\n      <td>1</td>\n      <td>POLYGON ((-94.01246 36.21703, -94.01248 36.216...</td>\n    </tr>\n    <tr>\n      <th>2</th>\n      <td>037</td>\n      <td>Smith</td>\n      <td>2</td>\n      <td>POLYGON ((-90.61177 35.28176, -90.61193 35.267...</td>\n    </tr>\n    <tr>\n      <th>3</th>\n      <td>143</td>\n      <td>Dutch Mills</td>\n      <td>3</td>\n      <td>POLYGON ((-94.45759 35.90149, -94.45766 35.897...</td>\n    </tr>\n    <tr>\n      <th>4</th>\n      <td>131</td>\n      <td>9-4J</td>\n      <td>4</td>\n      <td>POLYGON ((-94.28547 35.22252, -94.28546 35.222...</td>\n    </tr>\n  </tbody>\n</table>\n</div>"
     },
     "execution_count": 35,
     "metadata": {},
     "output_type": "execute_result"
    }
   ],
   "source": [
    "precincts.head()"
   ],
   "metadata": {
    "collapsed": false,
    "pycharm": {
     "name": "#%%\n"
    }
   }
  },
  {
   "cell_type": "code",
   "execution_count": null,
   "outputs": [],
   "source": [
    "precincts_path = config['ARKANSAS']['PRECINCTS_PATH']\n",
    "precincts.to_file(precincts_path)\n",
    "\n"
   ],
   "metadata": {
    "collapsed": false,
    "pycharm": {
     "name": "#%%\n"
    }
   }
  }
 ],
 "metadata": {
  "kernelspec": {
   "display_name": "Python 3",
   "language": "python",
   "name": "python3"
  },
  "language_info": {
   "codemirror_mode": {
    "name": "ipython",
    "version": 2
   },
   "file_extension": ".py",
   "mimetype": "text/x-python",
   "name": "python",
   "nbconvert_exporter": "python",
   "pygments_lexer": "ipython2",
   "version": "2.7.6"
  }
 },
 "nbformat": 4,
 "nbformat_minor": 0
}