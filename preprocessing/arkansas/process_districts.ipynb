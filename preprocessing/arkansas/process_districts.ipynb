{
 "cells": [
  {
   "cell_type": "code",
   "execution_count": 1,
   "metadata": {
    "collapsed": true
   },
   "outputs": [],
   "source": [
    "import geopandas\n",
    "import pandas as pd\n",
    "import sys\n",
    "from gerrychain import Graph, Partition\n",
    "\n",
    "sys.path.insert(0, '..')\n",
    "from read_config import read_yaml\n",
    "from shapely.ops import unary_union\n",
    "import maup\n",
    "\n",
    "config = read_yaml('../preprocessing_config.yaml')"
   ]
  },
  {
   "cell_type": "code",
   "execution_count": 2,
   "outputs": [],
   "source": [
    "\n",
    "districts = geopandas.read_file('districts_geo')"
   ],
   "metadata": {
    "collapsed": false,
    "pycharm": {
     "name": "#%%\n"
    }
   }
  },
  {
   "cell_type": "code",
   "execution_count": 3,
   "outputs": [
    {
     "name": "stderr",
     "output_type": "stream",
     "text": [
      "/Users/kostadindev/.conda/envs/preprocessing/lib/python3.9/site-packages/geopandas/geodataframe.py:1350: UserWarning: Geometry column does not contain geometry.\n",
      "  warnings.warn(\"Geometry column does not contain geometry.\")\n"
     ]
    }
   ],
   "source": [
    "districtingId = '6'\n",
    "districts = districts[['GEOID20', 'geometry']]\n",
    "districts.rename(columns={'GEOID20': 'districtId'}, inplace=True)\n",
    "districts['districtId'] = districts['districtId'].apply(str)\n",
    "districts['geometry'] = districts['geometry'].apply(str)\n",
    "districts['districtingId'] = districtingId\n",
    "districts['districtId'] = districts['districtId'].apply(lambda x: ''.join(['6', str(int(x))]))\n",
    "\n"
   ],
   "metadata": {
    "collapsed": false,
    "pycharm": {
     "name": "#%%\n"
    }
   }
  }
 ],
 "metadata": {
  "kernelspec": {
   "display_name": "Python 3",
   "language": "python",
   "name": "python3"
  },
  "language_info": {
   "codemirror_mode": {
    "name": "ipython",
    "version": 2
   },
   "file_extension": ".py",
   "mimetype": "text/x-python",
   "name": "python",
   "nbconvert_exporter": "python",
   "pygments_lexer": "ipython2",
   "version": "2.7.6"
  }
 },
 "nbformat": 4,
 "nbformat_minor": 0
}